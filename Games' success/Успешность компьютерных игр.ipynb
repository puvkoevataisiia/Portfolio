{
 "cells": [
  {
   "cell_type": "markdown",
   "metadata": {},
   "source": [
    "# Определение успешности компьютерных игр"
   ]
  },
  {
   "cell_type": "markdown",
   "metadata": {},
   "source": [
    "<div class=\"alert alert-block alert-info\">  \n",
    "Имеются данные о продажах игр (а также оценки пользователей и экспертов, жанры и платформы) до 2016 года. Необходимо выявить закономерности, определяющие успешность игры, которые позволят сделать ставку на потенциально популярный продукт и спланировать рекламные кампании.\n",
    "    \n",
    "<br> Для выполнения задачи:\n",
    "1. Откроем имеющиеся датафреймы и изучим общую информацию в них\n",
    "2. Приведем данные к правильнум типам (где это потребуется)\n",
    "3. Заполним, где необходимо, пропуски\n",
    "4. Удалим дубликаты (если они есть)\n",
    "5. Добавим необходимые столбцы (общие продажи)\n",
    "6. Определим актуальный период и возьмем соответствующие ему данные. Для этого:\n",
    "- Посмотрим на распределение игр по годам;\n",
    "- Посмотрим, как менялись продажи по платформам.\n",
    "7. Посмотрим на динамику продаж по платформам и определим потенциально прибыльные платформы.    \n",
    "8. Проанализируем влияние оценок пользователей и критиков на продажи.  \n",
    "9. Определим наиболее прибыльные жанры игр.\n",
    "10. Составим портрет пользователя каждого региона. Определим:\n",
    "- Популярные платформы и жанры;\n",
    "- Влияние рейтинга\n",
    "11. Проверим необходимые гипотезы\n",
    "</div>"
   ]
  },
  {
   "cell_type": "code",
   "execution_count": 2,
   "metadata": {
    "hideCode": true,
    "hideOutput": true,
    "hidePrompt": false
   },
   "outputs": [
    {
     "name": "stdout",
     "output_type": "stream",
     "text": [
      "Defaulting to user installation because normal site-packages is not writeable\n",
      "Requirement already satisfied: plotly in c:\\programdata\\anaconda3\\lib\\site-packages (5.6.0)\n",
      "Requirement already satisfied: six in c:\\programdata\\anaconda3\\lib\\site-packages (from plotly) (1.16.0)\n",
      "Requirement already satisfied: tenacity>=6.2.0 in c:\\programdata\\anaconda3\\lib\\site-packages (from plotly) (8.0.1)\n"
     ]
    }
   ],
   "source": [
    "import pandas as pd\n",
    "import matplotlib.pyplot as plt\n",
    "import seaborn as sns\n",
    "import numpy as np\n",
    "import scipy.stats as stats\n",
    "!pip install plotly\n",
    "import plotly.express as px\n",
    "import plotly.graph_objects as go\n",
    "from plotly.subplots import make_subplots\n",
    "None"
   ]
  },
  {
   "cell_type": "markdown",
   "metadata": {},
   "source": [
    "### Шаг 1. Загрузка данных"
   ]
  },
  {
   "cell_type": "code",
   "execution_count": 3,
   "metadata": {
    "hideCode": true
   },
   "outputs": [],
   "source": [
    "games = pd.read_csv('games.csv')"
   ]
  },
  {
   "cell_type": "code",
   "execution_count": 4,
   "metadata": {
    "hideCode": true
   },
   "outputs": [
    {
     "data": {
      "text/html": [
       "<div>\n",
       "<style scoped>\n",
       "    .dataframe tbody tr th:only-of-type {\n",
       "        vertical-align: middle;\n",
       "    }\n",
       "\n",
       "    .dataframe tbody tr th {\n",
       "        vertical-align: top;\n",
       "    }\n",
       "\n",
       "    .dataframe thead th {\n",
       "        text-align: right;\n",
       "    }\n",
       "</style>\n",
       "<table border=\"1\" class=\"dataframe\">\n",
       "  <thead>\n",
       "    <tr style=\"text-align: right;\">\n",
       "      <th></th>\n",
       "      <th>Name</th>\n",
       "      <th>Platform</th>\n",
       "      <th>Year_of_Release</th>\n",
       "      <th>Genre</th>\n",
       "      <th>NA_sales</th>\n",
       "      <th>EU_sales</th>\n",
       "      <th>JP_sales</th>\n",
       "      <th>Other_sales</th>\n",
       "      <th>Critic_Score</th>\n",
       "      <th>User_Score</th>\n",
       "      <th>Rating</th>\n",
       "    </tr>\n",
       "  </thead>\n",
       "  <tbody>\n",
       "    <tr>\n",
       "      <th>0</th>\n",
       "      <td>Wii Sports</td>\n",
       "      <td>Wii</td>\n",
       "      <td>2006.0</td>\n",
       "      <td>Sports</td>\n",
       "      <td>41.36</td>\n",
       "      <td>28.96</td>\n",
       "      <td>3.77</td>\n",
       "      <td>8.45</td>\n",
       "      <td>76.0</td>\n",
       "      <td>8</td>\n",
       "      <td>E</td>\n",
       "    </tr>\n",
       "    <tr>\n",
       "      <th>1</th>\n",
       "      <td>Super Mario Bros.</td>\n",
       "      <td>NES</td>\n",
       "      <td>1985.0</td>\n",
       "      <td>Platform</td>\n",
       "      <td>29.08</td>\n",
       "      <td>3.58</td>\n",
       "      <td>6.81</td>\n",
       "      <td>0.77</td>\n",
       "      <td>NaN</td>\n",
       "      <td>NaN</td>\n",
       "      <td>NaN</td>\n",
       "    </tr>\n",
       "    <tr>\n",
       "      <th>2</th>\n",
       "      <td>Mario Kart Wii</td>\n",
       "      <td>Wii</td>\n",
       "      <td>2008.0</td>\n",
       "      <td>Racing</td>\n",
       "      <td>15.68</td>\n",
       "      <td>12.76</td>\n",
       "      <td>3.79</td>\n",
       "      <td>3.29</td>\n",
       "      <td>82.0</td>\n",
       "      <td>8.3</td>\n",
       "      <td>E</td>\n",
       "    </tr>\n",
       "    <tr>\n",
       "      <th>3</th>\n",
       "      <td>Wii Sports Resort</td>\n",
       "      <td>Wii</td>\n",
       "      <td>2009.0</td>\n",
       "      <td>Sports</td>\n",
       "      <td>15.61</td>\n",
       "      <td>10.93</td>\n",
       "      <td>3.28</td>\n",
       "      <td>2.95</td>\n",
       "      <td>80.0</td>\n",
       "      <td>8</td>\n",
       "      <td>E</td>\n",
       "    </tr>\n",
       "    <tr>\n",
       "      <th>4</th>\n",
       "      <td>Pokemon Red/Pokemon Blue</td>\n",
       "      <td>GB</td>\n",
       "      <td>1996.0</td>\n",
       "      <td>Role-Playing</td>\n",
       "      <td>11.27</td>\n",
       "      <td>8.89</td>\n",
       "      <td>10.22</td>\n",
       "      <td>1.00</td>\n",
       "      <td>NaN</td>\n",
       "      <td>NaN</td>\n",
       "      <td>NaN</td>\n",
       "    </tr>\n",
       "  </tbody>\n",
       "</table>\n",
       "</div>"
      ],
      "text/plain": [
       "                       Name Platform  Year_of_Release         Genre  NA_sales  \\\n",
       "0                Wii Sports      Wii           2006.0        Sports     41.36   \n",
       "1         Super Mario Bros.      NES           1985.0      Platform     29.08   \n",
       "2            Mario Kart Wii      Wii           2008.0        Racing     15.68   \n",
       "3         Wii Sports Resort      Wii           2009.0        Sports     15.61   \n",
       "4  Pokemon Red/Pokemon Blue       GB           1996.0  Role-Playing     11.27   \n",
       "\n",
       "   EU_sales  JP_sales  Other_sales  Critic_Score User_Score Rating  \n",
       "0     28.96      3.77         8.45          76.0          8      E  \n",
       "1      3.58      6.81         0.77           NaN        NaN    NaN  \n",
       "2     12.76      3.79         3.29          82.0        8.3      E  \n",
       "3     10.93      3.28         2.95          80.0          8      E  \n",
       "4      8.89     10.22         1.00           NaN        NaN    NaN  "
      ]
     },
     "execution_count": 4,
     "metadata": {},
     "output_type": "execute_result"
    }
   ],
   "source": [
    "games.head()"
   ]
  },
  {
   "cell_type": "markdown",
   "metadata": {},
   "source": [
    "### Шаг 2. Предобработка данных"
   ]
  },
  {
   "cell_type": "markdown",
   "metadata": {
    "hideCode": false,
    "hideOutput": false,
    "hidePrompt": false
   },
   "source": [
    "1. Изменим названия столбцов"
   ]
  },
  {
   "cell_type": "code",
   "execution_count": 5,
   "metadata": {
    "hideCode": true,
    "hidePrompt": false
   },
   "outputs": [],
   "source": [
    "games.columns = games.columns.str.lower()"
   ]
  },
  {
   "cell_type": "code",
   "execution_count": 6,
   "metadata": {
    "hideCode": true,
    "hideOutput": true,
    "scrolled": true
   },
   "outputs": [
    {
     "name": "stdout",
     "output_type": "stream",
     "text": [
      "<class 'pandas.core.frame.DataFrame'>\n",
      "RangeIndex: 16715 entries, 0 to 16714\n",
      "Data columns (total 11 columns):\n",
      " #   Column           Non-Null Count  Dtype  \n",
      "---  ------           --------------  -----  \n",
      " 0   name             16713 non-null  object \n",
      " 1   platform         16715 non-null  object \n",
      " 2   year_of_release  16446 non-null  float64\n",
      " 3   genre            16713 non-null  object \n",
      " 4   na_sales         16715 non-null  float64\n",
      " 5   eu_sales         16715 non-null  float64\n",
      " 6   jp_sales         16715 non-null  float64\n",
      " 7   other_sales      16715 non-null  float64\n",
      " 8   critic_score     8137 non-null   float64\n",
      " 9   user_score       10014 non-null  object \n",
      " 10  rating           9949 non-null   object \n",
      "dtypes: float64(6), object(5)\n",
      "memory usage: 1.4+ MB\n"
     ]
    }
   ],
   "source": [
    "games.info()"
   ]
  },
  {
   "cell_type": "markdown",
   "metadata": {
    "hideCode": false,
    "hideOutput": false
   },
   "source": [
    "В данных есть пропуски (name, genre, year_of_release, critic_score, user_score, rating). \n",
    "- Пропуски в названии и жанре можно оставить, так как для исследования они нам не важны. (Скорее всего появились случайно, в ходе заполнения данных). \n",
    "- Пропуски в отзывах пользователей, критиков и рейтинге хоть и важны, но заполнить их самостоятельно мы не сможем, поэтому тоже оставим. (Пропуски могли появиться из-за того, что на некоторые игры, не пользующиеся популярностью, отзывы не собирали, как и на игры, выпушенные более 20 лет назад; данные о рейтинге могли оставить пустыми, например, из-за того, что игра старая, а раньше определять рейтинг для игр было необязательно).\n",
    "- Данные о годе выпуска важны для дальнейшего анализа, однако заменить пропуски мы не сможем, поэтому удалим строки с пропусками в столбце year_of_release (менее 2% от всех данных). (Скорее всего пропуски появились случайно, в ходе заполнения данных). "
   ]
  },
  {
   "cell_type": "markdown",
   "metadata": {
    "hideCode": false
   },
   "source": [
    "2. Удалим данные с пропусками в годе выпуска"
   ]
  },
  {
   "cell_type": "code",
   "execution_count": 7,
   "metadata": {
    "hideCode": true,
    "hideOutput": true
   },
   "outputs": [
    {
     "name": "stdout",
     "output_type": "stream",
     "text": [
      "<class 'pandas.core.frame.DataFrame'>\n",
      "Int64Index: 16446 entries, 0 to 16714\n",
      "Data columns (total 11 columns):\n",
      " #   Column           Non-Null Count  Dtype  \n",
      "---  ------           --------------  -----  \n",
      " 0   name             16444 non-null  object \n",
      " 1   platform         16446 non-null  object \n",
      " 2   year_of_release  16446 non-null  float64\n",
      " 3   genre            16444 non-null  object \n",
      " 4   na_sales         16446 non-null  float64\n",
      " 5   eu_sales         16446 non-null  float64\n",
      " 6   jp_sales         16446 non-null  float64\n",
      " 7   other_sales      16446 non-null  float64\n",
      " 8   critic_score     7983 non-null   float64\n",
      " 9   user_score       9839 non-null   object \n",
      " 10  rating           9768 non-null   object \n",
      "dtypes: float64(6), object(5)\n",
      "memory usage: 1.5+ MB\n"
     ]
    }
   ],
   "source": [
    "games = games.dropna(subset=['year_of_release'])\n",
    "games.info()"
   ]
  },
  {
   "cell_type": "markdown",
   "metadata": {},
   "source": [
    "3. Преобразуем тип данных"
   ]
  },
  {
   "cell_type": "code",
   "execution_count": 8,
   "metadata": {
    "hideCode": true
   },
   "outputs": [],
   "source": [
    "games['year_of_release'] = games['year_of_release'].astype(int)"
   ]
  },
  {
   "cell_type": "markdown",
   "metadata": {},
   "source": [
    "В столбце user_score есть значения - 'tbd'. Данная аббревиатура означает, что оценка еще не определена, но будет определена в дальнейшем. Для нашего исследования это значение можно заменить на NaN."
   ]
  },
  {
   "cell_type": "code",
   "execution_count": 9,
   "metadata": {
    "hideCode": true
   },
   "outputs": [],
   "source": [
    "games['user_score'] = games['user_score'].replace('tbd', np.nan)\n",
    "games['user_score'] = pd.to_numeric(games['user_score'], errors='coerce')"
   ]
  },
  {
   "cell_type": "markdown",
   "metadata": {},
   "source": [
    "4. Проверим, что дубликатов нет"
   ]
  },
  {
   "cell_type": "code",
   "execution_count": 10,
   "metadata": {
    "hideCode": true,
    "hideOutput": true,
    "scrolled": true
   },
   "outputs": [
    {
     "data": {
      "text/plain": [
       "0"
      ]
     },
     "execution_count": 10,
     "metadata": {},
     "output_type": "execute_result"
    }
   ],
   "source": [
    "games.duplicated().sum() # Дубликатов нет"
   ]
  },
  {
   "cell_type": "markdown",
   "metadata": {},
   "source": [
    "5. Добавим суммарные продажи"
   ]
  },
  {
   "cell_type": "code",
   "execution_count": 11,
   "metadata": {
    "hideCode": true
   },
   "outputs": [],
   "source": [
    "games['total_sales'] = games['na_sales'] + games['eu_sales'] + games['jp_sales'] + games['other_sales']"
   ]
  },
  {
   "cell_type": "markdown",
   "metadata": {},
   "source": [
    "<div class=\"alert alert-block alert-info\">\n",
    "<b>В ходе предобработки данных были выявлены некоторые проблемы:</b>\n",
    "    \n",
    "* Названия столбцов содержат заглавные буквы: для удобства дальнейшего исследования мы привели их к нижнему регистру.\n",
    "* В данных есть пропуски: некоторые из них мы решили оставить, а данные с пропущенным годом выпуска удалили.\n",
    "* Тип данных в year_of_release и user_score был неправильно определен, поэтому мы привели его к нужному типу.\n",
    "* Столбец user_score помимо числовых значений имел значения 'tbd', которые мы решили заменить на NaN.\n",
    "* Также мы добавили столбец суммарных продаж - 'total_sales' \n",
    "</div>"
   ]
  },
  {
   "cell_type": "markdown",
   "metadata": {},
   "source": [
    "### Шаг 3. Исследовательский анализ данных"
   ]
  },
  {
   "cell_type": "markdown",
   "metadata": {},
   "source": [
    "1. Построим гистограмму количества выпущенных игр по годам"
   ]
  },
  {
   "cell_type": "code",
   "execution_count": 12,
   "metadata": {
    "hideCode": true
   },
   "outputs": [
    {
     "data": {
      "image/png": "[encoded data removed]",
      "text/plain": [
       "<Figure size 720x432 with 1 Axes>"
      ]
     },
     "metadata": {
      "needs_background": "light"
     },
     "output_type": "display_data"
    }
   ],
   "source": [
    "plt.figure(figsize=(10, 6))\n",
    "sns.histplot(data=games, x=\"year_of_release\", bins=30)\n",
    "plt.title(\"Количество выпущенных игр\")\n",
    "plt.xlabel(\"Год\")\n",
    "plt.ylabel(\"Количество\")\n",
    "plt.show()"
   ]
  },
  {
   "cell_type": "markdown",
   "metadata": {},
   "source": [
    "<div class=\"alert alert-block alert-info\">\n",
    "До 1995 года выпускалось достаточно мало игр (меньше 200), следовательно данные за этот период скорее всего нам не понадобятся.\n",
    "  \n",
    "Также мы видим, что после 2000 года спрос на компьютерные игры сильно вырос, а в 2010 начал снижаться. Такую динамику можно объяснить тем, что в 00-х годах началось быстрое развитие рынка видеоигр, появлялись новые игровые платформы, которые предлагали все более разнообразные и интересные игры. Однако в 10-х годах количество выпускаемых игр начало падать, так как на рынке уже существовало достаточно различных видеоигр, а также постепенно начали набирать популярность мобильные игр.\n",
    "</div>"
   ]
  },
  {
   "cell_type": "markdown",
   "metadata": {},
   "source": [
    "2. Построим график для платформ и их суммарных продаж"
   ]
  },
  {
   "cell_type": "code",
   "execution_count": 13,
   "metadata": {
    "hideCode": true
   },
   "outputs": [],
   "source": [
    "platforms = games.pivot_table(values='total_sales', index='platform', aggfunc='sum')\n",
    "platforms = platforms.sort_values(by='total_sales', ascending=False)"
   ]
  },
  {
   "cell_type": "code",
   "execution_count": 14,
   "metadata": {
    "hideCode": true
   },
   "outputs": [
    {
     "data": {
      "image/png": "[encoded data removed]",
      "text/plain": [
       "<Figure size 864x432 with 1 Axes>"
      ]
     },
     "metadata": {
      "needs_background": "light"
     },
     "output_type": "display_data"
    }
   ],
   "source": [
    "plt.figure(figsize=(12, 6))\n",
    "sns.barplot(x=platforms.index, y='total_sales', data=platforms, color='#3277e6')\n",
    "plt.title(\"Общие продажи по платформам\")\n",
    "plt.xlabel(\"Платформа\")\n",
    "plt.ylabel(\"Общие продажи\")\n",
    "plt.show()"
   ]
  },
  {
   "cell_type": "markdown",
   "metadata": {},
   "source": [
    "<div class=\"alert alert-block alert-info\">\n",
    "Наиболее высокие продажи наблюдаются среди платформ: PS2, X360, PS3, Wii, DS, PS. "
   ]
  },
  {
   "cell_type": "code",
   "execution_count": 15,
   "metadata": {
    "hideCode": true
   },
   "outputs": [
    {
     "data": {
      "text/html": [
       "<div>\n",
       "<style scoped>\n",
       "    .dataframe tbody tr th:only-of-type {\n",
       "        vertical-align: middle;\n",
       "    }\n",
       "\n",
       "    .dataframe tbody tr th {\n",
       "        vertical-align: top;\n",
       "    }\n",
       "\n",
       "    .dataframe thead th {\n",
       "        text-align: right;\n",
       "    }\n",
       "</style>\n",
       "<table border=\"1\" class=\"dataframe\">\n",
       "  <thead>\n",
       "    <tr style=\"text-align: right;\">\n",
       "      <th></th>\n",
       "      <th>name</th>\n",
       "      <th>platform</th>\n",
       "      <th>year_of_release</th>\n",
       "      <th>genre</th>\n",
       "      <th>na_sales</th>\n",
       "      <th>eu_sales</th>\n",
       "      <th>jp_sales</th>\n",
       "      <th>other_sales</th>\n",
       "      <th>critic_score</th>\n",
       "      <th>user_score</th>\n",
       "      <th>rating</th>\n",
       "      <th>total_sales</th>\n",
       "    </tr>\n",
       "  </thead>\n",
       "  <tbody>\n",
       "    <tr>\n",
       "      <th>15957</th>\n",
       "      <td>Strongest Tokyo University Shogi DS</td>\n",
       "      <td>DS</td>\n",
       "      <td>1985</td>\n",
       "      <td>Action</td>\n",
       "      <td>0.0</td>\n",
       "      <td>0.0</td>\n",
       "      <td>0.02</td>\n",
       "      <td>0.0</td>\n",
       "      <td>NaN</td>\n",
       "      <td>NaN</td>\n",
       "      <td>NaN</td>\n",
       "      <td>0.02</td>\n",
       "    </tr>\n",
       "  </tbody>\n",
       "</table>\n",
       "</div>"
      ],
      "text/plain": [
       "                                      name platform  year_of_release   genre  \\\n",
       "15957  Strongest Tokyo University Shogi DS       DS             1985  Action   \n",
       "\n",
       "       na_sales  eu_sales  jp_sales  other_sales  critic_score  user_score  \\\n",
       "15957       0.0       0.0      0.02          0.0           NaN         NaN   \n",
       "\n",
       "      rating  total_sales  \n",
       "15957    NaN         0.02  "
      ]
     },
     "execution_count": 15,
     "metadata": {},
     "output_type": "execute_result"
    }
   ],
   "source": [
    "games[(games['platform'] == 'DS') & (games['year_of_release'] < 2004)]"
   ]
  },
  {
   "cell_type": "markdown",
   "metadata": {},
   "source": [
    "<div class=\"alert alert-block alert-info\">\n",
    "Так как данные о продажах на платформе DS начинаются с 2004 года, за исключением одного наблюдения 1985 года, (в который к тому же было продано всего 0.02 миллиона), будем считать это значение аномальным и удалим его из наших данных. (После чего построим новый график).\n",
    "</div>"
   ]
  },
  {
   "cell_type": "code",
   "execution_count": 16,
   "metadata": {
    "hideCode": true
   },
   "outputs": [],
   "source": [
    "games = games.drop(games[(games['platform'] == 'DS') & (games['year_of_release'] == 1985)].index)"
   ]
  },
  {
   "cell_type": "markdown",
   "metadata": {},
   "source": [
    "3. Построим графики для 6 наиболее популярных платформ"
   ]
  },
  {
   "cell_type": "code",
   "execution_count": 17,
   "metadata": {
    "hideCode": true
   },
   "outputs": [
    {
     "data": {
      "image/png": "[encoded data removed]",
      "text/plain": [
       "<Figure size 864x432 with 1 Axes>"
      ]
     },
     "metadata": {
      "needs_background": "light"
     },
     "output_type": "display_data"
    }
   ],
   "source": [
    "platforms = ['PS2', 'X360', 'PS3', 'Wii', 'DS', 'PS']\n",
    "platform_data = games[games['platform'].isin(platforms)]\n",
    "\n",
    "grouped_data = platform_data.groupby(['platform', 'year_of_release'])['total_sales'].sum().reset_index()\n",
    "\n",
    "plt.figure(figsize=(12, 6))\n",
    "\n",
    "for platform in platforms:\n",
    "    platform_sales = grouped_data[grouped_data['platform'] == platform]\n",
    "    sns.lineplot(x=platform_sales['year_of_release'], y=platform_sales['total_sales'], label=platform)\n",
    "\n",
    "plt.title('Общие продажи по годам и платформам')\n",
    "plt.xlabel('Год')\n",
    "plt.ylabel('Общие продажи')\n",
    "plt.legend(title='Платформа')\n",
    "plt.show()"
   ]
  },
  {
   "cell_type": "markdown",
   "metadata": {},
   "source": [
    "<div class=\"alert alert-block alert-info\">\n",
    "В среднем за 4 года платформа набирает популярность, а за последующие 4 года постепенно теряет ее. \n",
    "    \n",
    "<br>В качестве актуального периода для дальнейшего анализа возьмем последние 4 года: 2013-2016 года."
   ]
  },
  {
   "cell_type": "code",
   "execution_count": 18,
   "metadata": {
    "hideCode": true
   },
   "outputs": [],
   "source": [
    "# Возьмем данные за нужный период\n",
    "new_games = games[games['year_of_release'] > 2012]"
   ]
  },
  {
   "cell_type": "markdown",
   "metadata": {},
   "source": [
    "4. Построим графики для визуального отображения продаж по платформам"
   ]
  },
  {
   "cell_type": "code",
   "execution_count": 19,
   "metadata": {},
   "outputs": [
    {
     "data": {
      "image/png": "[encoded data removed]",
      "text/plain": [
       "<Figure size 864x432 with 1 Axes>"
      ]
     },
     "metadata": {
      "needs_background": "light"
     },
     "output_type": "display_data"
    }
   ],
   "source": [
    "pivot_table = new_games.pivot_table(index='platform', columns='year_of_release', values='total_sales', aggfunc='sum', fill_value=0)\n",
    "pivot_table['total'] = pivot_table.sum(axis=1)\n",
    "pivot_table = pivot_table.sort_values(by='total', ascending=False)\n",
    "\n",
    "pivot_table = pivot_table[[2013, 2014, 2015, 2016]]\n",
    "\n",
    "plt.figure(figsize=(12, 6))\n",
    "pivot_table.plot(kind='bar', stacked=True, ax=plt.gca())\n",
    "\n",
    "plt.title('Общие продажи по годам и платформам')\n",
    "plt.xlabel('Платформа')\n",
    "plt.ylabel('Общие продажи')\n",
    "plt.legend(title='Год')\n",
    "plt.show()"
   ]
  },
  {
   "cell_type": "markdown",
   "metadata": {},
   "source": [
    "<div class=\"alert alert-block alert-info\">\n",
    "За рассматриваемый период динамика продаж игр фиксируется на 11 различных платформах.\n",
    "    \n",
    "<br>1) Сильнее всего выделяются платформы PS4 и XOne, которые только начали набирать популярность в 2013 году и к началу 2015 года достигли пика, а затем немного упали в продажах. При этом продажи PS4 на протяжении всего периода оставались значительно выше продаж XOne (начиная с 2014 года больше чем в 2 раза).\n",
    "    \n",
    "2) В 2013 году на платформах X360 и PS3 наблюдались самые большие продажи, однако к концу периода их количество резко упало.\n",
    "    \n",
    "3) Такие платформы как Wii, PSV, PC, WiiU уже в 2013 году имели низкие продажи и в течение 3 лет еще сильнее снизились.\n",
    "    \n",
    "4) Продажи на платформе DS и PSP представлены только за 2013 год, при этом они очень низкие.\n",
    "\n",
    "<br>Таким образом, потенциально прибыльными платформами являются, в первую очередь, PS4, а также XOne.\n",
    "<br> Кроме того, из-за низких объемов продаж, исключим из последующего анализа платформы DS и PSP.\n"
   ]
  },
  {
   "cell_type": "markdown",
   "metadata": {},
   "source": [
    "5. Построим boxplot по продажам для каждой платформы"
   ]
  },
  {
   "cell_type": "code",
   "execution_count": 20,
   "metadata": {
    "hideCode": true
   },
   "outputs": [],
   "source": [
    "# Удалим данные по платформам DS и PSP\n",
    "new_games = new_games[(new_games['platform'] != 'DS') & (new_games['platform'] != 'PSP')]"
   ]
  },
  {
   "cell_type": "code",
   "execution_count": 21,
   "metadata": {
    "hideCode": true
   },
   "outputs": [
    {
     "data": {
      "image/png": "[encoded data removed]",
      "text/plain": [
       "<Figure size 1008x432 with 1 Axes>"
      ]
     },
     "metadata": {
      "needs_background": "light"
     },
     "output_type": "display_data"
    }
   ],
   "source": [
    "plt.figure(figsize=(14, 6))\n",
    "sns.boxplot(data=new_games, x='platform', y='total_sales', palette='Set3')\n",
    "\n",
    "plt.title('График \"Ящик с усами\" по продажам с разных платформ')\n",
    "plt.xlabel('Платформа')\n",
    "plt.ylabel('Общие продажи')\n",
    "plt.show()"
   ]
  },
  {
   "cell_type": "markdown",
   "metadata": {},
   "source": [
    "<div class=\"alert alert-block alert-info\"> Все платформы имеют незначительные выбросы в продажах, а такие платформы, как PS3, X360, PS4, 3DS, XOne, WiiU имееют также сильные выбросы: продажи в более чем 5 млн. Все распределения смешены к нижней границе (минимуму). Наиболешее медианное значение имеет платформа X360 (0.265), а наименьшее - PSV (0.04). Минимальные продажи среди всех платформ равны 0.01, а максимальные (исключая выбросы) у платформы Wii (2.01)."
   ]
  },
  {
   "cell_type": "markdown",
   "metadata": {},
   "source": [
    "6. Далее рассмотрим наиболее популярную платформу PS4, чтобы посмотреть как влияют на продажи отзывы пользователей и критиков.\n",
    "\n",
    "Посмотрим на корреляцию отзывов и продаж"
   ]
  },
  {
   "cell_type": "code",
   "execution_count": 22,
   "metadata": {},
   "outputs": [],
   "source": [
    "# Напишем функцию для анализа корреляции\n",
    "def correlation(platform):\n",
    "    new_games_platform = new_games[(new_games['platform'] == platform) & \n",
    "                                   (new_games['user_score'].notna()) & \n",
    "                                   (new_games['critic_score'].notna())]\n",
    "\n",
    "    plt.figure(figsize=(12, 5))\n",
    "\n",
    "    plt.subplot(1, 2, 1)\n",
    "    sns.scatterplot(data=new_games_platform, x='user_score', y='total_sales')\n",
    "    plt.title('Зависимость от оценки пользователей')\n",
    "    plt.xlabel('Оценка пользователей')\n",
    "    plt.ylabel('Общие продажи')\n",
    "\n",
    "    plt.subplot(1, 2, 2)\n",
    "    sns.scatterplot(data=new_games_platform, x='critic_score', y='total_sales', color='red')\n",
    "    plt.title('Зависимость от оценки критиков')\n",
    "    plt.xlabel('Оценка критиков')\n",
    "    plt.ylabel('Общие продажи')\n",
    "\n",
    "    plt.suptitle(f'Зависимость продаж на платформе {platform} от оценок')\n",
    "    plt.tight_layout(rect=[0, 0, 1, 0.96])  \n",
    "    plt.show()\n",
    "\n",
    "    correlation = new_games_platform[['user_score', 'critic_score', 'total_sales']].corr()\n",
    "    display(correlation)"
   ]
  },
  {
   "cell_type": "code",
   "execution_count": 23,
   "metadata": {
    "hideCode": true,
    "scrolled": false
   },
   "outputs": [
    {
     "data": {
      "image/png": "[encoded data removed]",
      "text/plain": [
       "<Figure size 864x360 with 2 Axes>"
      ]
     },
     "metadata": {
      "needs_background": "light"
     },
     "output_type": "display_data"
    },
    {
     "data": {
      "text/html": [
       "<div>\n",
       "<style scoped>\n",
       "    .dataframe tbody tr th:only-of-type {\n",
       "        vertical-align: middle;\n",
       "    }\n",
       "\n",
       "    .dataframe tbody tr th {\n",
       "        vertical-align: top;\n",
       "    }\n",
       "\n",
       "    .dataframe thead th {\n",
       "        text-align: right;\n",
       "    }\n",
       "</style>\n",
       "<table border=\"1\" class=\"dataframe\">\n",
       "  <thead>\n",
       "    <tr style=\"text-align: right;\">\n",
       "      <th></th>\n",
       "      <th>user_score</th>\n",
       "      <th>critic_score</th>\n",
       "      <th>total_sales</th>\n",
       "    </tr>\n",
       "  </thead>\n",
       "  <tbody>\n",
       "    <tr>\n",
       "      <th>user_score</th>\n",
       "      <td>1.000000</td>\n",
       "      <td>0.557654</td>\n",
       "      <td>-0.033625</td>\n",
       "    </tr>\n",
       "    <tr>\n",
       "      <th>critic_score</th>\n",
       "      <td>0.557654</td>\n",
       "      <td>1.000000</td>\n",
       "      <td>0.405895</td>\n",
       "    </tr>\n",
       "    <tr>\n",
       "      <th>total_sales</th>\n",
       "      <td>-0.033625</td>\n",
       "      <td>0.405895</td>\n",
       "      <td>1.000000</td>\n",
       "    </tr>\n",
       "  </tbody>\n",
       "</table>\n",
       "</div>"
      ],
      "text/plain": [
       "              user_score  critic_score  total_sales\n",
       "user_score      1.000000      0.557654    -0.033625\n",
       "critic_score    0.557654      1.000000     0.405895\n",
       "total_sales    -0.033625      0.405895     1.000000"
      ]
     },
     "metadata": {},
     "output_type": "display_data"
    }
   ],
   "source": [
    "correlation('PS4')"
   ]
  },
  {
   "cell_type": "markdown",
   "metadata": {},
   "source": [
    "<div class=\"alert alert-block alert-info\">  \n",
    "    \n",
    "* Коэффициент корреляции между оценками критиков и продажами равен 0.4. Это говорит о том, что между этими показателями существует слабая положительная связь: чем выше оценка, тем больше продажи. Эту зависимость также можно проследить на графике\n",
    "* Между оценками пользователей и продажами корреляция -0.03, значит оценка пользователей практически не влияет на сумму продаж.\n",
    "    \n",
    "Посмотрим так же еще несколько популярных платформ.\n",
    "</div>  "
   ]
  },
  {
   "cell_type": "markdown",
   "metadata": {},
   "source": [
    "7. Посмотрим корреляцию XOne, X360, PS3"
   ]
  },
  {
   "cell_type": "code",
   "execution_count": 24,
   "metadata": {
    "hideCode": true,
    "scrolled": false
   },
   "outputs": [
    {
     "data": {
      "image/png": "[encoded data removed]",
      "text/plain": [
       "<Figure size 864x360 with 2 Axes>"
      ]
     },
     "metadata": {
      "needs_background": "light"
     },
     "output_type": "display_data"
    },
    {
     "data": {
      "text/html": [
       "<div>\n",
       "<style scoped>\n",
       "    .dataframe tbody tr th:only-of-type {\n",
       "        vertical-align: middle;\n",
       "    }\n",
       "\n",
       "    .dataframe tbody tr th {\n",
       "        vertical-align: top;\n",
       "    }\n",
       "\n",
       "    .dataframe thead th {\n",
       "        text-align: right;\n",
       "    }\n",
       "</style>\n",
       "<table border=\"1\" class=\"dataframe\">\n",
       "  <thead>\n",
       "    <tr style=\"text-align: right;\">\n",
       "      <th></th>\n",
       "      <th>user_score</th>\n",
       "      <th>critic_score</th>\n",
       "      <th>total_sales</th>\n",
       "    </tr>\n",
       "  </thead>\n",
       "  <tbody>\n",
       "    <tr>\n",
       "      <th>user_score</th>\n",
       "      <td>1.000000</td>\n",
       "      <td>0.472462</td>\n",
       "      <td>-0.094003</td>\n",
       "    </tr>\n",
       "    <tr>\n",
       "      <th>critic_score</th>\n",
       "      <td>0.472462</td>\n",
       "      <td>1.000000</td>\n",
       "      <td>0.410422</td>\n",
       "    </tr>\n",
       "    <tr>\n",
       "      <th>total_sales</th>\n",
       "      <td>-0.094003</td>\n",
       "      <td>0.410422</td>\n",
       "      <td>1.000000</td>\n",
       "    </tr>\n",
       "  </tbody>\n",
       "</table>\n",
       "</div>"
      ],
      "text/plain": [
       "              user_score  critic_score  total_sales\n",
       "user_score      1.000000      0.472462    -0.094003\n",
       "critic_score    0.472462      1.000000     0.410422\n",
       "total_sales    -0.094003      0.410422     1.000000"
      ]
     },
     "metadata": {},
     "output_type": "display_data"
    },
    {
     "data": {
      "image/png": "[encoded data removed]",
      "text/plain": [
       "<Figure size 864x360 with 2 Axes>"
      ]
     },
     "metadata": {
      "needs_background": "light"
     },
     "output_type": "display_data"
    },
    {
     "data": {
      "text/html": [
       "<div>\n",
       "<style scoped>\n",
       "    .dataframe tbody tr th:only-of-type {\n",
       "        vertical-align: middle;\n",
       "    }\n",
       "\n",
       "    .dataframe tbody tr th {\n",
       "        vertical-align: top;\n",
       "    }\n",
       "\n",
       "    .dataframe thead th {\n",
       "        text-align: right;\n",
       "    }\n",
       "</style>\n",
       "<table border=\"1\" class=\"dataframe\">\n",
       "  <thead>\n",
       "    <tr style=\"text-align: right;\">\n",
       "      <th></th>\n",
       "      <th>user_score</th>\n",
       "      <th>critic_score</th>\n",
       "      <th>total_sales</th>\n",
       "    </tr>\n",
       "  </thead>\n",
       "  <tbody>\n",
       "    <tr>\n",
       "      <th>user_score</th>\n",
       "      <td>1.000000</td>\n",
       "      <td>0.520946</td>\n",
       "      <td>-0.006238</td>\n",
       "    </tr>\n",
       "    <tr>\n",
       "      <th>critic_score</th>\n",
       "      <td>0.520946</td>\n",
       "      <td>1.000000</td>\n",
       "      <td>0.350345</td>\n",
       "    </tr>\n",
       "    <tr>\n",
       "      <th>total_sales</th>\n",
       "      <td>-0.006238</td>\n",
       "      <td>0.350345</td>\n",
       "      <td>1.000000</td>\n",
       "    </tr>\n",
       "  </tbody>\n",
       "</table>\n",
       "</div>"
      ],
      "text/plain": [
       "              user_score  critic_score  total_sales\n",
       "user_score      1.000000      0.520946    -0.006238\n",
       "critic_score    0.520946      1.000000     0.350345\n",
       "total_sales    -0.006238      0.350345     1.000000"
      ]
     },
     "metadata": {},
     "output_type": "display_data"
    },
    {
     "data": {
      "image/png": "[encoded data removed]",
      "text/plain": [
       "<Figure size 864x360 with 2 Axes>"
      ]
     },
     "metadata": {
      "needs_background": "light"
     },
     "output_type": "display_data"
    },
    {
     "data": {
      "text/html": [
       "<div>\n",
       "<style scoped>\n",
       "    .dataframe tbody tr th:only-of-type {\n",
       "        vertical-align: middle;\n",
       "    }\n",
       "\n",
       "    .dataframe tbody tr th {\n",
       "        vertical-align: top;\n",
       "    }\n",
       "\n",
       "    .dataframe thead th {\n",
       "        text-align: right;\n",
       "    }\n",
       "</style>\n",
       "<table border=\"1\" class=\"dataframe\">\n",
       "  <thead>\n",
       "    <tr style=\"text-align: right;\">\n",
       "      <th></th>\n",
       "      <th>user_score</th>\n",
       "      <th>critic_score</th>\n",
       "      <th>total_sales</th>\n",
       "    </tr>\n",
       "  </thead>\n",
       "  <tbody>\n",
       "    <tr>\n",
       "      <th>user_score</th>\n",
       "      <td>1.000000</td>\n",
       "      <td>0.599920</td>\n",
       "      <td>0.022691</td>\n",
       "    </tr>\n",
       "    <tr>\n",
       "      <th>critic_score</th>\n",
       "      <td>0.599920</td>\n",
       "      <td>1.000000</td>\n",
       "      <td>0.333807</td>\n",
       "    </tr>\n",
       "    <tr>\n",
       "      <th>total_sales</th>\n",
       "      <td>0.022691</td>\n",
       "      <td>0.333807</td>\n",
       "      <td>1.000000</td>\n",
       "    </tr>\n",
       "  </tbody>\n",
       "</table>\n",
       "</div>"
      ],
      "text/plain": [
       "              user_score  critic_score  total_sales\n",
       "user_score      1.000000      0.599920     0.022691\n",
       "critic_score    0.599920      1.000000     0.333807\n",
       "total_sales     0.022691      0.333807     1.000000"
      ]
     },
     "metadata": {},
     "output_type": "display_data"
    }
   ],
   "source": [
    "correlation('XOne')\n",
    "correlation('X360')\n",
    "correlation('PS3')"
   ]
  },
  {
   "cell_type": "markdown",
   "metadata": {},
   "source": [
    "<div class=\"alert alert-block alert-info\">  \n",
    "Также посмотрев на корреляцию отзывов и продаж по другим популярным платформам, можно заметить, что зависимость практически не меняется.\n",
    "</div>"
   ]
  },
  {
   "cell_type": "markdown",
   "metadata": {},
   "source": [
    "8. Построим график распределения игр по жанрам"
   ]
  },
  {
   "cell_type": "code",
   "execution_count": 25,
   "metadata": {},
   "outputs": [
    {
     "data": {
      "image/png": "[encoded data removed]",
      "text/plain": [
       "<Figure size 864x432 with 2 Axes>"
      ]
     },
     "metadata": {
      "needs_background": "light"
     },
     "output_type": "display_data"
    }
   ],
   "source": [
    "# Создадим сводную таблицу количества игр и суммы продаж по жанрам\n",
    "genres = pd.pivot_table(new_games, values=['total_sales'], index='genre', aggfunc={'count', 'sum'})\n",
    "genres.columns = ['count', 'total_sales']\n",
    "\n",
    "# Построим график распределения игр по жанрам\n",
    "fig, ax1 = plt.subplots(figsize=(12, 6))\n",
    "\n",
    "sns.barplot(x=genres.index, y=genres['count'], ax=ax1, color='#3277e6')\n",
    "ax1.set_xlabel('Жанр')\n",
    "ax1.set_ylabel('Количество игр')\n",
    "ax1.tick_params(axis='y')\n",
    "\n",
    "ax2 = ax1.twinx()\n",
    "sns.lineplot(x=genres.index, y=genres['total_sales'], ax=ax2, color='r', marker='o')\n",
    "ax2.set_ylabel('Сумма продаж')\n",
    "ax2.tick_params(axis='y')\n",
    "\n",
    "plt.title('Распределение суммы продаж и количества игр по жанрам')\n",
    "\n",
    "plt.show()"
   ]
  },
  {
   "cell_type": "markdown",
   "metadata": {},
   "source": [
    "<div class=\"alert alert-block alert-info\">  Наиболее прибыльными являются игры в жанре action: их выпускают чаще остальных, и их суммарные продажи также самые высокие. Жанр shooter тоже можно отнести к прибыльным: несмотря на то, что количество игр в этом жанре не так велико, по сумме продаж жанр занимает второе место. Также можно выделить жанры sports и role-playing, которые тоже имеют высокие продажи.\n",
    "    \n",
    "<br> Наименьшей популярностью пользуются игры жанров puzzle, strategy и simulation (они имеют наиболее низкие продажи)."
   ]
  },
  {
   "cell_type": "markdown",
   "metadata": {},
   "source": [
    "9. Построим график медианных продаж по жанру"
   ]
  },
  {
   "cell_type": "code",
   "execution_count": 26,
   "metadata": {
    "hideCode": true
   },
   "outputs": [
    {
     "data": {
      "image/png": "[encoded data removed]",
      "text/plain": [
       "<Figure size 864x432 with 1 Axes>"
      ]
     },
     "metadata": {
      "needs_background": "light"
     },
     "output_type": "display_data"
    }
   ],
   "source": [
    "median_sales_by_genre = new_games.groupby('genre')['total_sales'].median().sort_values(ascending=False)\n",
    "\n",
    "plt.figure(figsize=(12, 6))\n",
    "sns.barplot(x=median_sales_by_genre.index, y=median_sales_by_genre.values, color='#3277e6')\n",
    "\n",
    "plt.title('Медианные продажи по жанрам')\n",
    "plt.xlabel('Жанр')\n",
    "plt.ylabel('Медианные продажи')\n",
    "\n",
    "plt.xticks(rotation=45)\n",
    "plt.show()"
   ]
  },
  {
   "cell_type": "markdown",
   "metadata": {},
   "source": [
    "<div class=\"alert alert-block alert-info\">  \n",
    "Посмотрев на медианные продажи, можно сделать вывод, что наиболее стабильным и прибыльным является жанр Shooter. Sports и Platform также занимают высокие позиции. Наименьшие продажи наблюдаются среди игр жанров Adventure и Puzzle.\n",
    "    \n",
    "<br>Сравнивая с предыдушими выводами, стоит отметить, что хоть Action игры и имеют самые высокие суммарные продажи за рассматриваемый период, не все игры этого жанра стабильно приносят высокий доход (также по соотношению количества выпущенных игр и продажам можно предположить, что высокие продажи достигаются за счет большого количества игр, в отличие от жанра Shooter, где продажи высоки, а выпущенных игр намного меньше).\n",
    "</div>"
   ]
  },
  {
   "cell_type": "markdown",
   "metadata": {},
   "source": [
    "### Шаг 4. Составим портрет пользователя каждого региона"
   ]
  },
  {
   "cell_type": "code",
   "execution_count": 27,
   "metadata": {},
   "outputs": [],
   "source": [
    "def top_5_charts(values_column, title):\n",
    "    platform_pivot = pd.pivot_table(new_games, values=values_column, index='platform', aggfunc='sum')\n",
    "    top_platforms = platform_pivot.nlargest(5, values_column)\n",
    "    \n",
    "    genre_pivot = pd.pivot_table(new_games, values=values_column, index='genre', aggfunc='sum')\n",
    "    top_genres = genre_pivot.nlargest(5, values_column)\n",
    "    \n",
    "    fig, axes = plt.subplots(1, 2, figsize=(12, 5))\n",
    "\n",
    "    sns.barplot(x=top_platforms.index, y=top_platforms[values_column], ax=axes[0], color='#3277e6')\n",
    "    axes[0].set_title('Топ 5 платформ')\n",
    "    axes[0].set_xlabel('Платформа')\n",
    "    axes[0].set_ylabel('Сумма продаж')\n",
    "\n",
    "    sns.barplot(x=top_genres.index, y=top_genres[values_column], ax=axes[1], color='#f51111')\n",
    "    axes[1].set_title('Топ 5 жанров')\n",
    "    axes[1].set_xlabel('Жанр')\n",
    "    axes[1].set_ylabel('Сумма продаж')\n",
    "\n",
    "    fig.suptitle(f'Топ 5 популярных платформ и жанров игр среди пользователей {title}')\n",
    "    plt.tight_layout(rect=[0, 0, 1, 0.96])\n",
    "    plt.show()"
   ]
  },
  {
   "cell_type": "code",
   "execution_count": 28,
   "metadata": {
    "hideCode": true
   },
   "outputs": [
    {
     "data": {
      "image/png": "[encoded data removed]",
      "text/plain": [
       "<Figure size 864x360 with 2 Axes>"
      ]
     },
     "metadata": {
      "needs_background": "light"
     },
     "output_type": "display_data"
    },
    {
     "data": {
      "image/png": "[encoded data removed]",
      "text/plain": [
       "<Figure size 864x360 with 2 Axes>"
      ]
     },
     "metadata": {
      "needs_background": "light"
     },
     "output_type": "display_data"
    },
    {
     "data": {
      "image/png": "[encoded data removed]",
      "text/plain": [
       "<Figure size 864x360 with 2 Axes>"
      ]
     },
     "metadata": {
      "needs_background": "light"
     },
     "output_type": "display_data"
    }
   ],
   "source": [
    "# Применим функцию для пользователей NA, EU, JP\n",
    "top_5_charts('na_sales', 'Северной Америки')\n",
    "top_5_charts('eu_sales', 'Европы')\n",
    "top_5_charts('jp_sales', 'Японии')"
   ]
  },
  {
   "cell_type": "markdown",
   "metadata": {},
   "source": [
    "<div class=\"alert alert-block alert-info\">  \n",
    "1) Для начала сравним популярные платформы для пользователей разных регионов. \n",
    "    \n",
    "В США и Европе самыми продаваемыми играми являются игры на платформе PS4, в то время как в Японии наиболее популярна платформа 3DS. Это может быть связано с тем, что 3DS изначально сильно распространилась именно в Японии, к тому же производителем является японская компания, которая в большей степени была направлена на местную аудиторию. Также среди пользователей США можно наблюдать большую вариативность в выборе платформ. Это может быть объяснено тем, что рынок видеоигр в Америке очень разнообразен и конкурентоспособен, из-за чего пользователи, имея большой выбор игр на разных платформах, не склонны оьдавать предпочтение лишь одной.\n",
    "    \n",
    "<br> 2) Далее рассмотрим популярные жанры. \n",
    "    \n",
    "Предпочитаемые жанры в Северной Америке и Европе почти одинаковы: это, в первую очередь, Action, а также Shooter и Sports. В Японии наиболее популярен жанр Role-playing, хотя Action также занимает высокое положение, стоя на втором месте. Предпочтения в жанрах отражают культуру и традиции стран: в Северной Америке и Европе вкусы игроков отражают склонность к динамичным и конкурентным играм, что может быть связано с активной спортивной культурой; в Японии же игроки предпочитают увлекательные и глубокие сюжеты, а также взаимодействия с персонажами."
   ]
  },
  {
   "cell_type": "code",
   "execution_count": 29,
   "metadata": {
    "hideCode": true
   },
   "outputs": [],
   "source": [
    "# Заполним пропуски в столбце rating\n",
    "new_games['rating'] = new_games['rating'].fillna('Не указано')"
   ]
  },
  {
   "cell_type": "markdown",
   "metadata": {},
   "source": [
    "Посмотрим на продажи по рейтингу в разных регионах"
   ]
  },
  {
   "cell_type": "code",
   "execution_count": 30,
   "metadata": {},
   "outputs": [
    {
     "data": {
      "image/png": "[encoded data removed]",
      "text/plain": [
       "<Figure size 864x432 with 3 Axes>"
      ]
     },
     "metadata": {},
     "output_type": "display_data"
    }
   ],
   "source": [
    "sales_by_rating = new_games.groupby('rating').agg({'na_sales': 'sum', 'eu_sales': 'sum', 'jp_sales': 'sum'}).reset_index()\n",
    "sales_by_rating = sales_by_rating.sort_values(by=['na_sales', 'eu_sales', 'jp_sales'], ascending=False)\n",
    "\n",
    "colors = ['#1f77b4', '#ff7f0e', '#4caf50', '#e53935', '#9467bd']\n",
    "\n",
    "fig, axes = plt.subplots(1, 3, figsize=(12, 6))\n",
    "\n",
    "axes[0].pie(sales_by_rating['na_sales'], labels=sales_by_rating['rating'], autopct='%1.1f%%', startangle=90, colors=colors)\n",
    "axes[0].set_title('Продажи в США')\n",
    "\n",
    "axes[1].pie(sales_by_rating['eu_sales'], labels=sales_by_rating['rating'], autopct='%1.1f%%', startangle=90, colors=colors)\n",
    "axes[1].set_title('Продажи в Европе')\n",
    "\n",
    "axes[2].pie(sales_by_rating['jp_sales'], labels=sales_by_rating['rating'], autopct='%1.1f%%', startangle=90, colors=colors)\n",
    "axes[2].set_title('Продажи в Японии')\n",
    "\n",
    "plt.suptitle('Продажи по рейтингу и региону')\n",
    "plt.tight_layout(rect=[0, 0, 1, 0.96])\n",
    "plt.show()"
   ]
  },
  {
   "cell_type": "markdown",
   "metadata": {},
   "source": [
    "<div class=\"alert alert-block alert-info\">  \n",
    "Продажи видеоигр в зависимости от рейтинга в Америке и Европе почти не отличаются: 20% приходится на игры без рейтинга, около 37% занимают игры с рейтингом M, около одной пятой части - с рейтингом E, остальные продажи делятся почти поравну между играми с рейтингами E10+ и T. \n",
    "    \n",
    "<br> В Японии 60% занимают игры, для которых рейтинг не указан. Из оставшейся части большую популярность имеют игры рейтинга T (15%), почти однинаковые доли занимают игры с рейтингами E и M (около 10% каждая), и только 4% приходится на игры E10+ рейтинга.\n",
    "    \n",
    "<br> Различия могут быть объяснены тем, что среди населения США и Европы больше распространены игры для взрослой аудитории, в то время как в Японии именно подростки в большей степени играют в видеоигры. Также сказываются законы стран, регулирующие рекламу и продажу игр определенного возрастного рейтинга, социокультурные различия и традиция в этих регионах. \n",
    "</div>"
   ]
  },
  {
   "cell_type": "markdown",
   "metadata": {},
   "source": [
    "### Шаг 5. Проверим гипотезы"
   ]
  },
  {
   "cell_type": "markdown",
   "metadata": {},
   "source": [
    "#### 1. Средние пользовательские рейтинги платформ Xbox One и PC одинаковые"
   ]
  },
  {
   "cell_type": "markdown",
   "metadata": {},
   "source": [
    "Нулевая гипотеза (H0): Средние пользовательские рейтинги платформ Xbox One и PC равны.\n",
    "<br> Альтернативная гипотеза (H1): Средние пользовательские рейтинги платформ Xbox One и PC отличаются."
   ]
  },
  {
   "cell_type": "code",
   "execution_count": 31,
   "metadata": {
    "hideCode": true
   },
   "outputs": [
    {
     "name": "stdout",
     "output_type": "stream",
     "text": [
      "Средний пользовательский рейтинг для Xbox One: 6.52\n",
      "Средний пользовательский рейтинг для PC: 6.27\n",
      "p-value = 0.1476. Нет статистически значимого доказательства того, что средние пользовательские рейтинги платформ Xbox One и PC не равны.\n"
     ]
    }
   ],
   "source": [
    "XOne = new_games[new_games['platform'] == 'XOne']['user_score']\n",
    "PC = new_games[new_games['platform'] == 'PC']['user_score']\n",
    "\n",
    "mean_XOne = XOne.mean()\n",
    "mean_PC = PC.mean()\n",
    "\n",
    "print(f\"Средний пользовательский рейтинг для Xbox One: {mean_XOne:.2f}\")\n",
    "print(f\"Средний пользовательский рейтинг для PC: {mean_PC:.2f}\")\n",
    "\n",
    "t_statistic, p_value = stats.ttest_ind(XOne, PC, equal_var=False, nan_policy='omit')\n",
    "alpha = 0.05\n",
    "\n",
    "if p_value < alpha:\n",
    "    print(f\"p-value = {p_value:.4f}. Средние пользовательские рейтинги платформ Xbox One и PC отличаются.\")\n",
    "else:\n",
    "    print(f\"p-value = {p_value:.4f}. Нет статистически значимого доказательства того, что средние пользовательские рейтинги платформ Xbox One и PC не равны.\")"
   ]
  },
  {
   "cell_type": "markdown",
   "metadata": {},
   "source": [
    "#### 2. Средние пользовательские рейтинги жанров Action и Sports разные."
   ]
  },
  {
   "cell_type": "markdown",
   "metadata": {},
   "source": [
    "Нулевая гипотеза (H0): Средние пользовательские рейтинги для жанров Action и Sports равны.\n",
    "<br> Альтернативная гипотеза (H1): Средние пользовательские рейтинги для жанров Action и Sports отличаются."
   ]
  },
  {
   "cell_type": "code",
   "execution_count": 32,
   "metadata": {
    "hideCode": true
   },
   "outputs": [
    {
     "name": "stdout",
     "output_type": "stream",
     "text": [
      "Средний пользовательский рейтинг для жанра Action: 6.84\n",
      "Средний пользовательский рейтинг для жанра Sports: 5.25\n",
      "p-value = 2.4191414517472478e-20. Средние пользовательские рейтинги для жанров Action и Sports отличаются.\n"
     ]
    }
   ],
   "source": [
    "action = new_games[new_games['genre'] == 'Action']['user_score']\n",
    "sports = new_games[new_games['genre'] == 'Sports']['user_score']\n",
    "\n",
    "mean_action = action.mean()\n",
    "mean_sports = sports.mean()\n",
    "\n",
    "print(f\"Средний пользовательский рейтинг для жанра Action: {mean_action:.2f}\")\n",
    "print(f\"Средний пользовательский рейтинг для жанра Sports: {mean_sports:.2f}\")\n",
    "\n",
    "t_statistic, p_value = stats.ttest_ind(action, sports, equal_var=False, nan_policy='omit')\n",
    "\n",
    "alpha = 0.05\n",
    "\n",
    "if p_value < alpha:\n",
    "    print(f\"p-value = {p_value}. Средние пользовательские рейтинги для жанров Action и Sports отличаются.\")\n",
    "else:\n",
    "    print(f\"p-value = {p_value}. Нет статистически значимого доказательства того, что средние пользовательские рейтинги для жанров Action и Sports не равны.\")"
   ]
  },
  {
   "cell_type": "markdown",
   "metadata": {},
   "source": [
    "<div class=\"alert alert-block alert-info\">  \n",
    "<b>ОБЩИЙ ВЫВОД</b>\n",
    "    \n",
    "По имеющимя данным мы определили актуальный период для анализа: 2013-2016 года. Далее проанализировав данные мы пришли к следующим выводам:\n",
    "    \n",
    "- Потенциально прибыльными платформами на конец 2016 года являются PS4 и XOne.\n",
    "- Между оценками критиков и продажами существует слабая положительная связь, а оценки пользователей практически не влияет на сумму продаж.    \n",
    "- Наиболее прибыльным жанром является Shooter: Sports и Platform также занимают высокие позиции, а наименьшие продажи наблюдаются среди игр жанров Adventure и Puzzle.   \n",
    "    \n",
    "Сравнив продажи по регионам мы выяснили, что:\n",
    "    \n",
    "- В США и Европе самыми продаваемыми играми являются игры на платформе PS4, в то время как в Японии наиболее популярна платформа 3DS.\n",
    "- Предпочитаемые жанры в Северной Америке и Европе: Action, Shooter и Sports. В Японии наиболее популярен жанр Role-playing, хотя Action также занимает высокое положение.\n",
    "- В Америке и Европе наиболее популярны игры с рейтингом M, а в Японии игры рейтинга T. \n",
    "    \n",
    "Также, проверив гипотезы, можем сказать, что:\n",
    "    \n",
    "- Средние пользовательские рейтинги платформ Xbox One и PC почти одинаковые.\n",
    "- Средние пользовательские рейтинги для жанров Action и Sports отличаются (рейтинг Action больше ~ 6.8).\n",
    "</div>"
   ]
  }
 ],
 "metadata": {
  "ExecuteTimeLog": [
   {
    "duration": 1510,
    "start_time": "2023-11-03T13:47:49.958Z"
   },
   {
    "duration": 7,
    "start_time": "2023-11-03T13:48:06.009Z"
   },
   {
    "duration": 119,
    "start_time": "2023-11-03T13:49:05.156Z"
   },
   {
    "duration": 26,
    "start_time": "2023-11-03T13:49:08.777Z"
   },
   {
    "duration": 18,
    "start_time": "2023-11-03T13:49:44.421Z"
   },
   {
    "duration": 4,
    "start_time": "2023-11-03T13:57:25.959Z"
   },
   {
    "duration": 17,
    "start_time": "2023-11-03T13:57:31.945Z"
   },
   {
    "duration": 4,
    "start_time": "2023-11-03T15:02:56.467Z"
   },
   {
    "duration": 4,
    "start_time": "2023-11-03T15:03:17.039Z"
   },
   {
    "duration": 1800,
    "start_time": "2023-11-03T15:11:52.755Z"
   },
   {
    "duration": 14,
    "start_time": "2023-11-03T15:12:02.908Z"
   },
   {
    "duration": 13,
    "start_time": "2023-11-03T15:12:29.230Z"
   },
   {
    "duration": 9,
    "start_time": "2023-11-03T15:12:40.052Z"
   },
   {
    "duration": 9,
    "start_time": "2023-11-03T15:12:53.997Z"
   },
   {
    "duration": 54,
    "start_time": "2023-11-03T15:14:22.264Z"
   },
   {
    "duration": 34,
    "start_time": "2023-11-03T15:14:23.032Z"
   },
   {
    "duration": 14,
    "start_time": "2023-11-03T15:14:24.195Z"
   },
   {
    "duration": 4,
    "start_time": "2023-11-03T15:14:28.411Z"
   },
   {
    "duration": 7,
    "start_time": "2023-11-03T15:14:32.843Z"
   },
   {
    "duration": 3,
    "start_time": "2023-11-03T15:15:00.422Z"
   },
   {
    "duration": 115,
    "start_time": "2023-11-03T15:15:00.426Z"
   },
   {
    "duration": 44,
    "start_time": "2023-11-03T15:15:00.543Z"
   },
   {
    "duration": 106,
    "start_time": "2023-11-03T15:15:00.589Z"
   },
   {
    "duration": 201,
    "start_time": "2023-11-03T15:15:00.697Z"
   },
   {
    "duration": 638,
    "start_time": "2023-11-03T15:15:00.900Z"
   },
   {
    "duration": 17,
    "start_time": "2023-11-03T15:16:21.960Z"
   },
   {
    "duration": 12,
    "start_time": "2023-11-03T15:18:28.581Z"
   },
   {
    "duration": 3,
    "start_time": "2023-11-03T15:18:33.351Z"
   },
   {
    "duration": 71,
    "start_time": "2023-11-03T15:18:33.356Z"
   },
   {
    "duration": 15,
    "start_time": "2023-11-03T15:18:33.430Z"
   },
   {
    "duration": 16,
    "start_time": "2023-11-03T15:18:33.447Z"
   },
   {
    "duration": 32,
    "start_time": "2023-11-03T15:18:33.465Z"
   },
   {
    "duration": 10,
    "start_time": "2023-11-03T15:18:36.239Z"
   },
   {
    "duration": 9,
    "start_time": "2023-11-03T15:18:46.914Z"
   },
   {
    "duration": 21,
    "start_time": "2023-11-03T15:18:56.189Z"
   },
   {
    "duration": 3,
    "start_time": "2023-11-03T15:23:02.227Z"
   },
   {
    "duration": 453,
    "start_time": "2023-11-03T15:23:02.232Z"
   },
   {
    "duration": 302,
    "start_time": "2023-11-03T15:23:02.687Z"
   },
   {
    "duration": 88,
    "start_time": "2023-11-03T15:23:02.991Z"
   },
   {
    "duration": 197,
    "start_time": "2023-11-03T15:23:03.080Z"
   },
   {
    "duration": 54,
    "start_time": "2023-11-03T15:23:03.279Z"
   },
   {
    "duration": 18,
    "start_time": "2023-11-03T15:24:25.136Z"
   },
   {
    "duration": 17,
    "start_time": "2023-11-03T15:24:59.168Z"
   },
   {
    "duration": 5,
    "start_time": "2023-11-03T15:28:52.998Z"
   },
   {
    "duration": 18,
    "start_time": "2023-11-03T15:29:14.066Z"
   },
   {
    "duration": 4,
    "start_time": "2023-11-03T15:31:10.983Z"
   },
   {
    "duration": 9,
    "start_time": "2023-11-03T15:36:12.527Z"
   },
   {
    "duration": 23,
    "start_time": "2023-11-03T15:36:18.219Z"
   },
   {
    "duration": 1655,
    "start_time": "2023-11-03T15:45:39.006Z"
   },
   {
    "duration": 3,
    "start_time": "2023-11-03T15:45:50.468Z"
   },
   {
    "duration": 98,
    "start_time": "2023-11-03T15:45:50.473Z"
   },
   {
    "duration": 19,
    "start_time": "2023-11-03T15:45:50.573Z"
   },
   {
    "duration": 57,
    "start_time": "2023-11-03T15:45:50.593Z"
   },
   {
    "duration": 21,
    "start_time": "2023-11-03T15:46:01.111Z"
   },
   {
    "duration": 15,
    "start_time": "2023-11-03T15:46:49.999Z"
   },
   {
    "duration": 23,
    "start_time": "2023-11-03T15:47:35.309Z"
   },
   {
    "duration": 22,
    "start_time": "2023-11-03T15:50:19.424Z"
   },
   {
    "duration": 19,
    "start_time": "2023-11-03T16:05:47.358Z"
   },
   {
    "duration": 8,
    "start_time": "2023-11-03T16:06:11.093Z"
   },
   {
    "duration": 9,
    "start_time": "2023-11-03T16:06:25.726Z"
   },
   {
    "duration": 4,
    "start_time": "2023-11-03T16:06:31.415Z"
   },
   {
    "duration": 183,
    "start_time": "2023-11-03T16:06:31.421Z"
   },
   {
    "duration": 39,
    "start_time": "2023-11-03T16:06:31.606Z"
   },
   {
    "duration": 38,
    "start_time": "2023-11-03T16:06:31.647Z"
   },
   {
    "duration": 40,
    "start_time": "2023-11-03T16:06:31.688Z"
   },
   {
    "duration": 28,
    "start_time": "2023-11-03T16:06:31.731Z"
   },
   {
    "duration": 31,
    "start_time": "2023-11-03T16:06:31.761Z"
   },
   {
    "duration": 10,
    "start_time": "2023-11-03T16:06:39.913Z"
   },
   {
    "duration": 6,
    "start_time": "2023-11-03T16:06:42.150Z"
   },
   {
    "duration": 7,
    "start_time": "2023-11-03T16:06:57.471Z"
   },
   {
    "duration": 9,
    "start_time": "2023-11-03T16:07:10.087Z"
   },
   {
    "duration": 6,
    "start_time": "2023-11-03T16:07:17.761Z"
   },
   {
    "duration": 16,
    "start_time": "2023-11-03T16:10:53.738Z"
   },
   {
    "duration": 21,
    "start_time": "2023-11-03T16:14:25.336Z"
   },
   {
    "duration": 20,
    "start_time": "2023-11-03T16:14:34.747Z"
   },
   {
    "duration": 25,
    "start_time": "2023-11-03T16:16:13.661Z"
   },
   {
    "duration": 4,
    "start_time": "2023-11-03T16:17:55.233Z"
   },
   {
    "duration": 1370,
    "start_time": "2023-12-07T13:53:20.969Z"
   },
   {
    "duration": 100,
    "start_time": "2023-12-07T13:53:22.341Z"
   },
   {
    "duration": 18,
    "start_time": "2023-12-07T13:53:22.442Z"
   },
   {
    "duration": 4,
    "start_time": "2023-12-07T13:53:22.462Z"
   },
   {
    "duration": 16,
    "start_time": "2023-12-07T13:53:22.468Z"
   },
   {
    "duration": 39,
    "start_time": "2023-12-07T13:53:22.485Z"
   },
   {
    "duration": 4,
    "start_time": "2023-12-07T13:53:22.526Z"
   },
   {
    "duration": 18,
    "start_time": "2023-12-07T13:53:22.532Z"
   },
   {
    "duration": 20,
    "start_time": "2023-12-07T13:53:22.551Z"
   },
   {
    "duration": 5,
    "start_time": "2023-12-07T13:53:22.573Z"
   },
   {
    "duration": 22,
    "start_time": "2023-12-07T13:54:30.208Z"
   },
   {
    "duration": 15,
    "start_time": "2023-12-07T13:54:38.398Z"
   },
   {
    "duration": 2721,
    "start_time": "2023-12-07T13:56:45.506Z"
   },
   {
    "duration": 102,
    "start_time": "2023-12-07T14:00:35.449Z"
   },
   {
    "duration": 87,
    "start_time": "2023-12-07T14:00:44.499Z"
   },
   {
    "duration": 566,
    "start_time": "2023-12-07T14:00:48.244Z"
   },
   {
    "duration": 158,
    "start_time": "2023-12-07T14:02:44.026Z"
   },
   {
    "duration": 149,
    "start_time": "2023-12-07T14:02:54.827Z"
   },
   {
    "duration": 193,
    "start_time": "2023-12-07T14:03:25.855Z"
   },
   {
    "duration": 61,
    "start_time": "2023-12-07T14:04:35.716Z"
   },
   {
    "duration": 1218,
    "start_time": "2023-12-07T14:04:58.001Z"
   },
   {
    "duration": 96,
    "start_time": "2023-12-07T14:08:56.753Z"
   },
   {
    "duration": 103,
    "start_time": "2023-12-07T14:28:26.980Z"
   },
   {
    "duration": 7,
    "start_time": "2023-12-07T14:36:37.603Z"
   },
   {
    "duration": 15,
    "start_time": "2023-12-07T14:36:40.904Z"
   },
   {
    "duration": 14,
    "start_time": "2023-12-07T14:38:41.521Z"
   },
   {
    "duration": 2372,
    "start_time": "2023-12-07T14:38:49.614Z"
   },
   {
    "duration": 71,
    "start_time": "2023-12-07T14:38:51.988Z"
   },
   {
    "duration": 16,
    "start_time": "2023-12-07T14:38:52.061Z"
   },
   {
    "duration": 7,
    "start_time": "2023-12-07T14:38:52.079Z"
   },
   {
    "duration": 25,
    "start_time": "2023-12-07T14:38:52.088Z"
   },
   {
    "duration": 18,
    "start_time": "2023-12-07T14:38:52.115Z"
   },
   {
    "duration": 5,
    "start_time": "2023-12-07T14:38:52.135Z"
   },
   {
    "duration": 32,
    "start_time": "2023-12-07T14:38:52.141Z"
   },
   {
    "duration": 34,
    "start_time": "2023-12-07T14:38:52.174Z"
   },
   {
    "duration": 17,
    "start_time": "2023-12-07T14:38:52.210Z"
   },
   {
    "duration": 225,
    "start_time": "2023-12-07T14:38:52.229Z"
   },
   {
    "duration": 14,
    "start_time": "2023-12-07T14:38:52.456Z"
   },
   {
    "duration": 14,
    "start_time": "2023-12-07T14:43:09.059Z"
   },
   {
    "duration": 20,
    "start_time": "2023-12-07T14:44:38.247Z"
   },
   {
    "duration": 12,
    "start_time": "2023-12-07T14:45:16.509Z"
   },
   {
    "duration": 65,
    "start_time": "2023-12-07T14:45:42.910Z"
   },
   {
    "duration": 10,
    "start_time": "2023-12-07T14:45:56.997Z"
   },
   {
    "duration": 44,
    "start_time": "2023-12-07T14:47:17.636Z"
   },
   {
    "duration": 2404,
    "start_time": "2023-12-07T16:03:38.575Z"
   },
   {
    "duration": 59,
    "start_time": "2023-12-07T16:03:40.983Z"
   },
   {
    "duration": 14,
    "start_time": "2023-12-07T16:03:41.044Z"
   },
   {
    "duration": 11,
    "start_time": "2023-12-07T16:03:41.059Z"
   },
   {
    "duration": 22,
    "start_time": "2023-12-07T16:03:41.073Z"
   },
   {
    "duration": 17,
    "start_time": "2023-12-07T16:03:41.111Z"
   },
   {
    "duration": 4,
    "start_time": "2023-12-07T16:03:41.129Z"
   },
   {
    "duration": 19,
    "start_time": "2023-12-07T16:03:41.134Z"
   },
   {
    "duration": 29,
    "start_time": "2023-12-07T16:03:41.154Z"
   },
   {
    "duration": 5,
    "start_time": "2023-12-07T16:03:41.184Z"
   },
   {
    "duration": 106,
    "start_time": "2023-12-07T16:03:41.190Z"
   },
   {
    "duration": 22,
    "start_time": "2023-12-07T16:03:41.298Z"
   },
   {
    "duration": 29,
    "start_time": "2023-12-07T16:03:41.323Z"
   },
   {
    "duration": 45,
    "start_time": "2023-12-07T16:03:41.355Z"
   },
   {
    "duration": 32,
    "start_time": "2023-12-07T16:03:41.402Z"
   },
   {
    "duration": 18,
    "start_time": "2023-12-07T16:04:00.700Z"
   },
   {
    "duration": 17,
    "start_time": "2023-12-07T16:04:08.307Z"
   },
   {
    "duration": 25,
    "start_time": "2023-12-07T16:04:13.438Z"
   },
   {
    "duration": 31,
    "start_time": "2023-12-07T16:05:25.722Z"
   },
   {
    "duration": 17,
    "start_time": "2023-12-07T16:06:49.946Z"
   },
   {
    "duration": 26,
    "start_time": "2023-12-07T16:07:05.607Z"
   },
   {
    "duration": 25,
    "start_time": "2023-12-07T16:48:03.467Z"
   },
   {
    "duration": 4,
    "start_time": "2023-12-07T17:05:04.803Z"
   },
   {
    "duration": 23,
    "start_time": "2023-12-07T17:05:14.667Z"
   },
   {
    "duration": 5,
    "start_time": "2023-12-07T17:05:21.407Z"
   },
   {
    "duration": 21,
    "start_time": "2023-12-07T17:07:51.621Z"
   },
   {
    "duration": 22,
    "start_time": "2023-12-07T17:08:39.951Z"
   },
   {
    "duration": 19,
    "start_time": "2023-12-07T17:08:47.933Z"
   },
   {
    "duration": 51,
    "start_time": "2023-12-07T17:15:11.922Z"
   },
   {
    "duration": 61,
    "start_time": "2023-12-07T18:28:08.436Z"
   },
   {
    "duration": 20,
    "start_time": "2023-12-07T18:49:44.985Z"
   },
   {
    "duration": 11,
    "start_time": "2023-12-07T19:25:38.436Z"
   },
   {
    "duration": 25,
    "start_time": "2023-12-07T19:28:26.154Z"
   },
   {
    "duration": 23,
    "start_time": "2023-12-07T19:28:42.834Z"
   },
   {
    "duration": 22,
    "start_time": "2023-12-07T19:28:53.172Z"
   },
   {
    "duration": 262,
    "start_time": "2023-12-07T19:34:15.038Z"
   },
   {
    "duration": 66,
    "start_time": "2023-12-07T19:35:20.596Z"
   },
   {
    "duration": 94,
    "start_time": "2023-12-07T19:36:16.171Z"
   },
   {
    "duration": 71,
    "start_time": "2023-12-07T19:38:51.696Z"
   },
   {
    "duration": 111,
    "start_time": "2023-12-07T19:39:16.304Z"
   },
   {
    "duration": 91,
    "start_time": "2023-12-07T19:39:28.421Z"
   },
   {
    "duration": 78,
    "start_time": "2023-12-07T19:39:44.278Z"
   },
   {
    "duration": 85,
    "start_time": "2023-12-07T19:39:56.476Z"
   },
   {
    "duration": 77,
    "start_time": "2023-12-07T19:40:07.239Z"
   },
   {
    "duration": 75,
    "start_time": "2023-12-07T19:40:56.688Z"
   },
   {
    "duration": 84,
    "start_time": "2023-12-07T19:41:18.938Z"
   },
   {
    "duration": 88,
    "start_time": "2023-12-07T19:45:13.156Z"
   },
   {
    "duration": 30,
    "start_time": "2023-12-07T19:57:00.641Z"
   },
   {
    "duration": 36,
    "start_time": "2023-12-07T19:58:58.763Z"
   },
   {
    "duration": 27,
    "start_time": "2023-12-07T19:59:11.174Z"
   },
   {
    "duration": 4,
    "start_time": "2023-12-07T19:59:48.575Z"
   },
   {
    "duration": 23,
    "start_time": "2023-12-07T19:59:54.203Z"
   },
   {
    "duration": 14,
    "start_time": "2023-12-07T20:03:18.695Z"
   },
   {
    "duration": 14,
    "start_time": "2023-12-07T20:03:29.864Z"
   },
   {
    "duration": 21,
    "start_time": "2023-12-07T20:03:44.272Z"
   },
   {
    "duration": 59,
    "start_time": "2023-12-07T20:04:27.848Z"
   },
   {
    "duration": 51,
    "start_time": "2023-12-07T20:05:24.509Z"
   },
   {
    "duration": 56,
    "start_time": "2023-12-07T20:05:51.496Z"
   },
   {
    "duration": 51,
    "start_time": "2023-12-07T20:07:56.400Z"
   },
   {
    "duration": 8,
    "start_time": "2023-12-07T20:11:53.714Z"
   },
   {
    "duration": 9,
    "start_time": "2023-12-07T20:12:43.078Z"
   },
   {
    "duration": 183,
    "start_time": "2023-12-07T20:13:44.360Z"
   },
   {
    "duration": 55,
    "start_time": "2023-12-07T20:21:46.350Z"
   },
   {
    "duration": 56,
    "start_time": "2023-12-07T20:22:26.758Z"
   },
   {
    "duration": 54,
    "start_time": "2023-12-07T20:22:36.206Z"
   },
   {
    "duration": 49,
    "start_time": "2023-12-07T20:22:46.526Z"
   },
   {
    "duration": 57,
    "start_time": "2023-12-07T20:22:56.473Z"
   },
   {
    "duration": 60,
    "start_time": "2023-12-07T20:23:44.654Z"
   },
   {
    "duration": 58,
    "start_time": "2023-12-07T20:24:03.535Z"
   },
   {
    "duration": 75,
    "start_time": "2023-12-07T20:24:22.568Z"
   },
   {
    "duration": 59,
    "start_time": "2023-12-07T20:24:45.739Z"
   },
   {
    "duration": 57,
    "start_time": "2023-12-07T20:24:56.366Z"
   },
   {
    "duration": 14,
    "start_time": "2023-12-07T20:29:56.068Z"
   },
   {
    "duration": 68,
    "start_time": "2023-12-07T20:30:09.849Z"
   },
   {
    "duration": 60,
    "start_time": "2023-12-07T20:32:11.999Z"
   },
   {
    "duration": 15,
    "start_time": "2023-12-07T20:33:03.222Z"
   },
   {
    "duration": 73,
    "start_time": "2023-12-07T20:33:12.797Z"
   },
   {
    "duration": 63,
    "start_time": "2023-12-07T20:33:40.095Z"
   },
   {
    "duration": 19,
    "start_time": "2023-12-07T20:37:17.138Z"
   },
   {
    "duration": 15,
    "start_time": "2023-12-07T20:37:46.075Z"
   },
   {
    "duration": 10,
    "start_time": "2023-12-07T20:38:12.594Z"
   },
   {
    "duration": 16,
    "start_time": "2023-12-07T20:38:38.012Z"
   },
   {
    "duration": 2397,
    "start_time": "2023-12-07T20:38:52.484Z"
   },
   {
    "duration": 55,
    "start_time": "2023-12-07T20:38:54.884Z"
   },
   {
    "duration": 14,
    "start_time": "2023-12-07T20:38:54.941Z"
   },
   {
    "duration": 10,
    "start_time": "2023-12-07T20:38:54.958Z"
   },
   {
    "duration": 17,
    "start_time": "2023-12-07T20:38:54.970Z"
   },
   {
    "duration": 29,
    "start_time": "2023-12-07T20:38:54.988Z"
   },
   {
    "duration": 4,
    "start_time": "2023-12-07T20:38:55.018Z"
   },
   {
    "duration": 9,
    "start_time": "2023-12-07T20:38:55.023Z"
   },
   {
    "duration": 14,
    "start_time": "2023-12-07T20:38:55.034Z"
   },
   {
    "duration": 5,
    "start_time": "2023-12-07T20:38:55.050Z"
   },
   {
    "duration": 127,
    "start_time": "2023-12-07T20:38:55.056Z"
   },
   {
    "duration": 10,
    "start_time": "2023-12-07T20:38:55.184Z"
   },
   {
    "duration": 55,
    "start_time": "2023-12-07T20:38:55.196Z"
   },
   {
    "duration": 24,
    "start_time": "2023-12-07T20:38:55.253Z"
   },
   {
    "duration": 4,
    "start_time": "2023-12-07T20:38:55.279Z"
   },
   {
    "duration": 59,
    "start_time": "2023-12-07T20:38:55.284Z"
   },
   {
    "duration": 5,
    "start_time": "2023-12-07T20:38:55.345Z"
   },
   {
    "duration": 100,
    "start_time": "2023-12-07T20:38:55.351Z"
   },
   {
    "duration": 75,
    "start_time": "2023-12-07T20:38:55.452Z"
   },
   {
    "duration": 55,
    "start_time": "2023-12-07T20:38:55.529Z"
   },
   {
    "duration": 46,
    "start_time": "2023-12-07T20:38:55.585Z"
   },
   {
    "duration": 22,
    "start_time": "2023-12-07T20:39:18.863Z"
   },
   {
    "duration": 9,
    "start_time": "2023-12-07T20:39:33.540Z"
   },
   {
    "duration": 13,
    "start_time": "2023-12-07T20:39:40.168Z"
   },
   {
    "duration": 9,
    "start_time": "2023-12-07T20:39:47.082Z"
   },
   {
    "duration": 244,
    "start_time": "2023-12-07T20:41:05.918Z"
   },
   {
    "duration": 2373,
    "start_time": "2023-12-07T20:42:04.257Z"
   },
   {
    "duration": 55,
    "start_time": "2023-12-07T20:42:06.632Z"
   },
   {
    "duration": 16,
    "start_time": "2023-12-07T20:42:06.689Z"
   },
   {
    "duration": 5,
    "start_time": "2023-12-07T20:42:06.707Z"
   },
   {
    "duration": 16,
    "start_time": "2023-12-07T20:42:06.713Z"
   },
   {
    "duration": 14,
    "start_time": "2023-12-07T20:42:06.731Z"
   },
   {
    "duration": 3,
    "start_time": "2023-12-07T20:42:06.747Z"
   },
   {
    "duration": 7,
    "start_time": "2023-12-07T20:42:06.752Z"
   },
   {
    "duration": 54,
    "start_time": "2023-12-07T20:42:06.761Z"
   },
   {
    "duration": 6,
    "start_time": "2023-12-07T20:42:06.818Z"
   },
   {
    "duration": 218,
    "start_time": "2023-12-07T20:42:06.826Z"
   },
   {
    "duration": 11,
    "start_time": "2023-12-07T20:42:07.045Z"
   },
   {
    "duration": 66,
    "start_time": "2023-12-07T20:42:07.058Z"
   },
   {
    "duration": 26,
    "start_time": "2023-12-07T20:42:07.125Z"
   },
   {
    "duration": 4,
    "start_time": "2023-12-07T20:42:07.153Z"
   },
   {
    "duration": 68,
    "start_time": "2023-12-07T20:42:07.159Z"
   },
   {
    "duration": 4,
    "start_time": "2023-12-07T20:42:07.228Z"
   },
   {
    "duration": 102,
    "start_time": "2023-12-07T20:42:07.234Z"
   },
   {
    "duration": 80,
    "start_time": "2023-12-07T20:42:07.337Z"
   },
   {
    "duration": 60,
    "start_time": "2023-12-07T20:42:07.419Z"
   },
   {
    "duration": 31,
    "start_time": "2023-12-07T20:42:07.480Z"
   },
   {
    "duration": 255,
    "start_time": "2023-12-07T20:42:07.513Z"
   },
   {
    "duration": 3813,
    "start_time": "2023-12-08T01:46:28.245Z"
   },
   {
    "duration": 135,
    "start_time": "2023-12-08T01:46:32.060Z"
   },
   {
    "duration": 0,
    "start_time": "2023-12-08T01:46:32.197Z"
   },
   {
    "duration": 0,
    "start_time": "2023-12-08T01:46:32.198Z"
   },
   {
    "duration": 0,
    "start_time": "2023-12-08T01:46:32.199Z"
   },
   {
    "duration": 1,
    "start_time": "2023-12-08T01:46:32.200Z"
   },
   {
    "duration": 0,
    "start_time": "2023-12-08T01:46:32.201Z"
   },
   {
    "duration": 0,
    "start_time": "2023-12-08T01:46:32.202Z"
   },
   {
    "duration": 0,
    "start_time": "2023-12-08T01:46:32.203Z"
   },
   {
    "duration": 0,
    "start_time": "2023-12-08T01:46:32.204Z"
   },
   {
    "duration": 0,
    "start_time": "2023-12-08T01:46:32.204Z"
   },
   {
    "duration": 0,
    "start_time": "2023-12-08T01:46:32.215Z"
   },
   {
    "duration": 0,
    "start_time": "2023-12-08T01:46:32.216Z"
   },
   {
    "duration": 0,
    "start_time": "2023-12-08T01:46:32.216Z"
   },
   {
    "duration": 0,
    "start_time": "2023-12-08T01:46:32.217Z"
   },
   {
    "duration": 0,
    "start_time": "2023-12-08T01:46:32.218Z"
   },
   {
    "duration": 0,
    "start_time": "2023-12-08T01:46:32.219Z"
   },
   {
    "duration": 0,
    "start_time": "2023-12-08T01:46:32.221Z"
   },
   {
    "duration": 0,
    "start_time": "2023-12-08T01:46:32.221Z"
   },
   {
    "duration": 1,
    "start_time": "2023-12-08T01:46:32.222Z"
   },
   {
    "duration": 0,
    "start_time": "2023-12-08T01:46:32.223Z"
   },
   {
    "duration": 0,
    "start_time": "2023-12-08T01:46:32.224Z"
   },
   {
    "duration": 0,
    "start_time": "2023-12-08T01:46:32.225Z"
   },
   {
    "duration": 0,
    "start_time": "2023-12-08T01:46:32.226Z"
   },
   {
    "duration": 0,
    "start_time": "2023-12-08T01:46:32.227Z"
   },
   {
    "duration": 2359,
    "start_time": "2023-12-08T01:50:20.356Z"
   },
   {
    "duration": 3449,
    "start_time": "2023-12-08T01:50:28.818Z"
   },
   {
    "duration": 135,
    "start_time": "2023-12-08T01:50:32.269Z"
   },
   {
    "duration": 0,
    "start_time": "2023-12-08T01:50:32.406Z"
   },
   {
    "duration": 0,
    "start_time": "2023-12-08T01:50:32.407Z"
   },
   {
    "duration": 0,
    "start_time": "2023-12-08T01:50:32.408Z"
   },
   {
    "duration": 0,
    "start_time": "2023-12-08T01:50:32.408Z"
   },
   {
    "duration": 0,
    "start_time": "2023-12-08T01:50:32.415Z"
   },
   {
    "duration": 0,
    "start_time": "2023-12-08T01:50:32.416Z"
   },
   {
    "duration": 0,
    "start_time": "2023-12-08T01:50:32.417Z"
   },
   {
    "duration": 0,
    "start_time": "2023-12-08T01:50:32.418Z"
   },
   {
    "duration": 0,
    "start_time": "2023-12-08T01:50:32.419Z"
   },
   {
    "duration": 0,
    "start_time": "2023-12-08T01:50:32.419Z"
   },
   {
    "duration": 0,
    "start_time": "2023-12-08T01:50:32.420Z"
   },
   {
    "duration": 0,
    "start_time": "2023-12-08T01:50:32.421Z"
   },
   {
    "duration": 0,
    "start_time": "2023-12-08T01:50:32.422Z"
   },
   {
    "duration": 0,
    "start_time": "2023-12-08T01:50:32.423Z"
   },
   {
    "duration": 0,
    "start_time": "2023-12-08T01:50:32.424Z"
   },
   {
    "duration": 0,
    "start_time": "2023-12-08T01:50:32.425Z"
   },
   {
    "duration": 0,
    "start_time": "2023-12-08T01:50:32.425Z"
   },
   {
    "duration": 0,
    "start_time": "2023-12-08T01:50:32.426Z"
   },
   {
    "duration": 0,
    "start_time": "2023-12-08T01:50:32.427Z"
   },
   {
    "duration": 0,
    "start_time": "2023-12-08T01:50:32.428Z"
   },
   {
    "duration": 0,
    "start_time": "2023-12-08T01:50:32.428Z"
   },
   {
    "duration": 0,
    "start_time": "2023-12-08T01:50:32.429Z"
   },
   {
    "duration": 0,
    "start_time": "2023-12-08T01:50:32.430Z"
   },
   {
    "duration": 3454,
    "start_time": "2023-12-08T01:52:11.691Z"
   },
   {
    "duration": 150,
    "start_time": "2023-12-08T01:52:15.147Z"
   },
   {
    "duration": 0,
    "start_time": "2023-12-08T01:52:15.299Z"
   },
   {
    "duration": 0,
    "start_time": "2023-12-08T01:52:15.300Z"
   },
   {
    "duration": 0,
    "start_time": "2023-12-08T01:52:15.301Z"
   },
   {
    "duration": 0,
    "start_time": "2023-12-08T01:52:15.302Z"
   },
   {
    "duration": 0,
    "start_time": "2023-12-08T01:52:15.314Z"
   },
   {
    "duration": 0,
    "start_time": "2023-12-08T01:52:15.315Z"
   },
   {
    "duration": 0,
    "start_time": "2023-12-08T01:52:15.316Z"
   },
   {
    "duration": 0,
    "start_time": "2023-12-08T01:52:15.317Z"
   },
   {
    "duration": 0,
    "start_time": "2023-12-08T01:52:15.318Z"
   },
   {
    "duration": 0,
    "start_time": "2023-12-08T01:52:15.319Z"
   },
   {
    "duration": 0,
    "start_time": "2023-12-08T01:52:15.320Z"
   },
   {
    "duration": 0,
    "start_time": "2023-12-08T01:52:15.321Z"
   },
   {
    "duration": 0,
    "start_time": "2023-12-08T01:52:15.322Z"
   },
   {
    "duration": 0,
    "start_time": "2023-12-08T01:52:15.323Z"
   },
   {
    "duration": 0,
    "start_time": "2023-12-08T01:52:15.324Z"
   },
   {
    "duration": 0,
    "start_time": "2023-12-08T01:52:15.325Z"
   },
   {
    "duration": 0,
    "start_time": "2023-12-08T01:52:15.325Z"
   },
   {
    "duration": 0,
    "start_time": "2023-12-08T01:52:15.326Z"
   },
   {
    "duration": 0,
    "start_time": "2023-12-08T01:52:15.327Z"
   },
   {
    "duration": 0,
    "start_time": "2023-12-08T01:52:15.328Z"
   },
   {
    "duration": 0,
    "start_time": "2023-12-08T01:52:15.329Z"
   },
   {
    "duration": 0,
    "start_time": "2023-12-08T01:52:15.330Z"
   },
   {
    "duration": 0,
    "start_time": "2023-12-08T01:52:15.331Z"
   },
   {
    "duration": 4034,
    "start_time": "2023-12-08T13:36:45.382Z"
   },
   {
    "duration": 101,
    "start_time": "2023-12-08T13:36:49.419Z"
   },
   {
    "duration": 19,
    "start_time": "2023-12-08T13:36:51.062Z"
   },
   {
    "duration": 3,
    "start_time": "2023-12-08T13:36:53.270Z"
   },
   {
    "duration": 15,
    "start_time": "2023-12-08T13:36:55.174Z"
   },
   {
    "duration": 2305,
    "start_time": "2023-12-08T13:37:06.469Z"
   },
   {
    "duration": 55,
    "start_time": "2023-12-08T13:37:08.776Z"
   },
   {
    "duration": 14,
    "start_time": "2023-12-08T13:37:08.833Z"
   },
   {
    "duration": 15,
    "start_time": "2023-12-08T13:37:08.848Z"
   },
   {
    "duration": 47,
    "start_time": "2023-12-08T13:37:08.866Z"
   },
   {
    "duration": 26,
    "start_time": "2023-12-08T13:37:08.915Z"
   },
   {
    "duration": 4,
    "start_time": "2023-12-08T13:37:08.943Z"
   },
   {
    "duration": 21,
    "start_time": "2023-12-08T13:37:08.949Z"
   },
   {
    "duration": 33,
    "start_time": "2023-12-08T13:37:08.971Z"
   },
   {
    "duration": 5,
    "start_time": "2023-12-08T13:37:09.006Z"
   },
   {
    "duration": 487,
    "start_time": "2023-12-08T13:37:09.012Z"
   },
   {
    "duration": 48,
    "start_time": "2023-12-08T13:37:09.500Z"
   },
   {
    "duration": 100,
    "start_time": "2023-12-08T13:37:09.549Z"
   },
   {
    "duration": 25,
    "start_time": "2023-12-08T13:37:09.652Z"
   },
   {
    "duration": 4,
    "start_time": "2023-12-08T13:37:09.678Z"
   },
   {
    "duration": 77,
    "start_time": "2023-12-08T13:37:09.683Z"
   },
   {
    "duration": 6,
    "start_time": "2023-12-08T13:37:09.761Z"
   },
   {
    "duration": 103,
    "start_time": "2023-12-08T13:37:09.768Z"
   },
   {
    "duration": 78,
    "start_time": "2023-12-08T13:37:09.873Z"
   },
   {
    "duration": 26,
    "start_time": "2023-12-08T13:37:09.952Z"
   },
   {
    "duration": 5,
    "start_time": "2023-12-08T13:37:09.980Z"
   },
   {
    "duration": 133,
    "start_time": "2023-12-08T13:37:09.987Z"
   },
   {
    "duration": 41,
    "start_time": "2023-12-08T13:37:10.122Z"
   },
   {
    "duration": 9,
    "start_time": "2023-12-08T13:37:10.165Z"
   },
   {
    "duration": 20,
    "start_time": "2023-12-08T13:37:10.176Z"
   },
   {
    "duration": 3731,
    "start_time": "2023-12-09T04:24:15.249Z"
   },
   {
    "duration": 91,
    "start_time": "2023-12-09T04:24:18.982Z"
   },
   {
    "duration": 15,
    "start_time": "2023-12-09T04:24:19.074Z"
   },
   {
    "duration": 2,
    "start_time": "2023-12-09T04:24:19.090Z"
   },
   {
    "duration": 25,
    "start_time": "2023-12-09T04:24:19.094Z"
   },
   {
    "duration": 15,
    "start_time": "2023-12-09T04:24:19.120Z"
   },
   {
    "duration": 3,
    "start_time": "2023-12-09T04:24:19.136Z"
   },
   {
    "duration": 12,
    "start_time": "2023-12-09T04:24:19.140Z"
   },
   {
    "duration": 11,
    "start_time": "2023-12-09T04:24:19.154Z"
   },
   {
    "duration": 4,
    "start_time": "2023-12-09T04:24:19.166Z"
   },
   {
    "duration": 526,
    "start_time": "2023-12-09T04:24:19.171Z"
   },
   {
    "duration": 24,
    "start_time": "2023-12-09T04:24:19.698Z"
   },
   {
    "duration": 96,
    "start_time": "2023-12-09T04:24:19.723Z"
   },
   {
    "duration": 20,
    "start_time": "2023-12-09T04:24:19.821Z"
   },
   {
    "duration": 3,
    "start_time": "2023-12-09T04:24:19.842Z"
   },
   {
    "duration": 30,
    "start_time": "2023-12-09T04:24:19.846Z"
   },
   {
    "duration": 39,
    "start_time": "2023-12-09T04:24:19.877Z"
   },
   {
    "duration": 75,
    "start_time": "2023-12-09T04:24:19.917Z"
   },
   {
    "duration": 69,
    "start_time": "2023-12-09T04:24:19.993Z"
   },
   {
    "duration": 21,
    "start_time": "2023-12-09T04:24:20.064Z"
   },
   {
    "duration": 18,
    "start_time": "2023-12-09T04:24:20.086Z"
   },
   {
    "duration": 105,
    "start_time": "2023-12-09T04:24:20.105Z"
   },
   {
    "duration": 24,
    "start_time": "2023-12-09T04:24:20.214Z"
   },
   {
    "duration": 22,
    "start_time": "2023-12-09T04:24:20.239Z"
   },
   {
    "duration": 32,
    "start_time": "2023-12-09T04:24:20.262Z"
   },
   {
    "duration": 3862,
    "start_time": "2023-12-09T08:18:35.399Z"
   },
   {
    "duration": 58,
    "start_time": "2023-12-09T08:18:39.263Z"
   },
   {
    "duration": 17,
    "start_time": "2023-12-09T08:18:39.323Z"
   },
   {
    "duration": 3,
    "start_time": "2023-12-09T08:18:39.342Z"
   },
   {
    "duration": 16,
    "start_time": "2023-12-09T08:18:39.347Z"
   },
   {
    "duration": 19,
    "start_time": "2023-12-09T08:18:39.364Z"
   },
   {
    "duration": 33,
    "start_time": "2023-12-09T08:18:39.384Z"
   },
   {
    "duration": 22,
    "start_time": "2023-12-09T08:18:39.419Z"
   },
   {
    "duration": 23,
    "start_time": "2023-12-09T08:18:39.444Z"
   },
   {
    "duration": 5,
    "start_time": "2023-12-09T08:18:39.469Z"
   },
   {
    "duration": 549,
    "start_time": "2023-12-09T08:18:39.476Z"
   },
   {
    "duration": 11,
    "start_time": "2023-12-09T08:18:40.027Z"
   },
   {
    "duration": 104,
    "start_time": "2023-12-09T08:18:40.039Z"
   },
   {
    "duration": 23,
    "start_time": "2023-12-09T08:18:40.145Z"
   },
   {
    "duration": 4,
    "start_time": "2023-12-09T08:18:40.170Z"
   },
   {
    "duration": 45,
    "start_time": "2023-12-09T08:18:40.215Z"
   },
   {
    "duration": 4,
    "start_time": "2023-12-09T08:18:40.262Z"
   },
   {
    "duration": 100,
    "start_time": "2023-12-09T08:18:40.267Z"
   },
   {
    "duration": 79,
    "start_time": "2023-12-09T08:18:40.368Z"
   },
   {
    "duration": 25,
    "start_time": "2023-12-09T08:18:40.449Z"
   },
   {
    "duration": 14,
    "start_time": "2023-12-09T08:18:40.476Z"
   },
   {
    "duration": 165,
    "start_time": "2023-12-09T08:18:40.492Z"
   },
   {
    "duration": 30,
    "start_time": "2023-12-09T08:18:40.659Z"
   },
   {
    "duration": 29,
    "start_time": "2023-12-09T08:18:40.690Z"
   },
   {
    "duration": 18,
    "start_time": "2023-12-09T08:18:40.721Z"
   },
   {
    "duration": 5,
    "start_time": "2023-12-09T08:56:23.831Z"
   },
   {
    "duration": 3546,
    "start_time": "2023-12-09T08:59:46.478Z"
   },
   {
    "duration": 58,
    "start_time": "2023-12-09T08:59:50.026Z"
   },
   {
    "duration": 19,
    "start_time": "2023-12-09T08:59:50.085Z"
   },
   {
    "duration": 15,
    "start_time": "2023-12-09T08:59:50.107Z"
   },
   {
    "duration": 31,
    "start_time": "2023-12-09T08:59:50.124Z"
   },
   {
    "duration": 21,
    "start_time": "2023-12-09T08:59:50.157Z"
   },
   {
    "duration": 4,
    "start_time": "2023-12-09T08:59:50.180Z"
   },
   {
    "duration": 34,
    "start_time": "2023-12-09T08:59:50.185Z"
   },
   {
    "duration": 31,
    "start_time": "2023-12-09T08:59:50.220Z"
   },
   {
    "duration": 4,
    "start_time": "2023-12-09T08:59:50.253Z"
   },
   {
    "duration": 564,
    "start_time": "2023-12-09T08:59:50.259Z"
   },
   {
    "duration": 11,
    "start_time": "2023-12-09T08:59:50.824Z"
   },
   {
    "duration": 100,
    "start_time": "2023-12-09T08:59:50.837Z"
   },
   {
    "duration": 25,
    "start_time": "2023-12-09T08:59:50.938Z"
   },
   {
    "duration": 12,
    "start_time": "2023-12-09T08:59:50.965Z"
   },
   {
    "duration": 71,
    "start_time": "2023-12-09T08:59:50.978Z"
   },
   {
    "duration": 5,
    "start_time": "2023-12-09T08:59:51.052Z"
   },
   {
    "duration": 127,
    "start_time": "2023-12-09T08:59:51.059Z"
   },
   {
    "duration": 72,
    "start_time": "2023-12-09T08:59:51.187Z"
   },
   {
    "duration": 28,
    "start_time": "2023-12-09T08:59:51.261Z"
   },
   {
    "duration": 24,
    "start_time": "2023-12-09T08:59:51.291Z"
   },
   {
    "duration": 128,
    "start_time": "2023-12-09T08:59:51.317Z"
   },
   {
    "duration": 28,
    "start_time": "2023-12-09T08:59:51.447Z"
   },
   {
    "duration": 38,
    "start_time": "2023-12-09T08:59:51.476Z"
   },
   {
    "duration": 16,
    "start_time": "2023-12-09T08:59:51.516Z"
   },
   {
    "duration": 48,
    "start_time": "2023-12-09T18:30:14.948Z"
   },
   {
    "duration": 6,
    "start_time": "2023-12-09T18:30:17.939Z"
   },
   {
    "duration": 3910,
    "start_time": "2023-12-09T18:30:30.592Z"
   },
   {
    "duration": 192,
    "start_time": "2023-12-09T18:30:34.504Z"
   },
   {
    "duration": 17,
    "start_time": "2023-12-09T18:30:34.697Z"
   },
   {
    "duration": 11,
    "start_time": "2023-12-09T18:30:34.716Z"
   },
   {
    "duration": 38,
    "start_time": "2023-12-09T18:30:34.728Z"
   },
   {
    "duration": 34,
    "start_time": "2023-12-09T18:30:34.767Z"
   },
   {
    "duration": 4,
    "start_time": "2023-12-09T18:30:34.802Z"
   },
   {
    "duration": 54,
    "start_time": "2023-12-09T18:30:34.807Z"
   },
   {
    "duration": 18,
    "start_time": "2023-12-09T18:30:34.863Z"
   },
   {
    "duration": 16,
    "start_time": "2023-12-09T18:30:34.883Z"
   },
   {
    "duration": 1650,
    "start_time": "2023-12-09T18:30:34.901Z"
   },
   {
    "duration": 53,
    "start_time": "2023-12-09T18:30:36.553Z"
   },
   {
    "duration": 128,
    "start_time": "2023-12-09T18:30:36.608Z"
   },
   {
    "duration": 76,
    "start_time": "2023-12-09T18:30:36.738Z"
   },
   {
    "duration": 13,
    "start_time": "2023-12-09T18:30:55.950Z"
   },
   {
    "duration": 14,
    "start_time": "2023-12-09T18:33:50.702Z"
   },
   {
    "duration": 9,
    "start_time": "2023-12-09T18:40:58.652Z"
   },
   {
    "duration": 24,
    "start_time": "2023-12-09T18:41:07.595Z"
   },
   {
    "duration": 109,
    "start_time": "2023-12-09T18:44:02.898Z"
   },
   {
    "duration": 4,
    "start_time": "2023-12-09T18:44:27.937Z"
   },
   {
    "duration": 49,
    "start_time": "2023-12-09T18:44:30.858Z"
   },
   {
    "duration": 38,
    "start_time": "2023-12-09T18:44:34.380Z"
   },
   {
    "duration": 43,
    "start_time": "2023-12-09T18:47:16.005Z"
   },
   {
    "duration": 42,
    "start_time": "2023-12-09T18:47:38.245Z"
   },
   {
    "duration": 37,
    "start_time": "2023-12-09T18:48:54.014Z"
   },
   {
    "duration": 68,
    "start_time": "2023-12-09T18:53:49.839Z"
   },
   {
    "duration": 21,
    "start_time": "2023-12-09T18:56:04.064Z"
   },
   {
    "duration": 24,
    "start_time": "2023-12-09T18:57:08.690Z"
   },
   {
    "duration": 18,
    "start_time": "2023-12-09T18:57:17.813Z"
   },
   {
    "duration": 19,
    "start_time": "2023-12-09T18:59:34.938Z"
   },
   {
    "duration": 25,
    "start_time": "2023-12-09T19:00:58.603Z"
   },
   {
    "duration": 22,
    "start_time": "2023-12-09T19:03:21.978Z"
   },
   {
    "duration": 30,
    "start_time": "2023-12-09T19:05:34.847Z"
   },
   {
    "duration": 31,
    "start_time": "2023-12-09T19:09:55.998Z"
   },
   {
    "duration": 14,
    "start_time": "2023-12-09T19:10:14.647Z"
   },
   {
    "duration": 27,
    "start_time": "2023-12-09T19:11:21.937Z"
   },
   {
    "duration": 48,
    "start_time": "2023-12-09T19:12:22.789Z"
   },
   {
    "duration": 5,
    "start_time": "2023-12-09T19:18:56.915Z"
   },
   {
    "duration": 30,
    "start_time": "2023-12-09T19:20:02.953Z"
   },
   {
    "duration": 592,
    "start_time": "2023-12-09T19:23:10.767Z"
   },
   {
    "duration": 37,
    "start_time": "2023-12-09T19:23:25.422Z"
   },
   {
    "duration": 31,
    "start_time": "2023-12-09T19:24:13.273Z"
   },
   {
    "duration": 10,
    "start_time": "2023-12-09T19:25:35.556Z"
   },
   {
    "duration": 5,
    "start_time": "2023-12-09T19:26:27.536Z"
   },
   {
    "duration": 24,
    "start_time": "2023-12-09T19:30:17.607Z"
   },
   {
    "duration": 10,
    "start_time": "2023-12-09T19:30:22.200Z"
   },
   {
    "duration": 25,
    "start_time": "2023-12-09T19:30:35.012Z"
   },
   {
    "duration": 11,
    "start_time": "2023-12-09T19:30:38.903Z"
   },
   {
    "duration": 23,
    "start_time": "2023-12-09T19:30:58.605Z"
   },
   {
    "duration": 3,
    "start_time": "2023-12-09T19:31:05.481Z"
   },
   {
    "duration": 25,
    "start_time": "2023-12-09T19:31:20.956Z"
   },
   {
    "duration": 36,
    "start_time": "2023-12-09T19:31:53.524Z"
   },
   {
    "duration": 9,
    "start_time": "2023-12-09T19:32:04.234Z"
   },
   {
    "duration": 4,
    "start_time": "2023-12-09T19:32:07.943Z"
   },
   {
    "duration": 22,
    "start_time": "2023-12-09T19:32:14.635Z"
   },
   {
    "duration": 25,
    "start_time": "2023-12-09T19:32:49.226Z"
   },
   {
    "duration": 22,
    "start_time": "2023-12-09T19:33:04.752Z"
   },
   {
    "duration": 26,
    "start_time": "2023-12-09T19:38:13.754Z"
   },
   {
    "duration": 25,
    "start_time": "2023-12-09T19:38:18.970Z"
   },
   {
    "duration": 95,
    "start_time": "2023-12-09T19:47:14.456Z"
   },
   {
    "duration": 87,
    "start_time": "2023-12-09T19:49:18.564Z"
   },
   {
    "duration": 15,
    "start_time": "2023-12-09T19:57:20.070Z"
   },
   {
    "duration": 30,
    "start_time": "2023-12-09T19:58:06.893Z"
   },
   {
    "duration": 26,
    "start_time": "2023-12-09T19:58:32.084Z"
   },
   {
    "duration": 64,
    "start_time": "2023-12-09T20:00:33.213Z"
   },
   {
    "duration": 49,
    "start_time": "2023-12-09T20:01:10.765Z"
   },
   {
    "duration": 52,
    "start_time": "2023-12-09T20:02:12.833Z"
   },
   {
    "duration": 47,
    "start_time": "2023-12-09T20:02:59.201Z"
   },
   {
    "duration": 29,
    "start_time": "2023-12-09T20:03:16.885Z"
   },
   {
    "duration": 50,
    "start_time": "2023-12-09T20:05:53.659Z"
   },
   {
    "duration": 33,
    "start_time": "2023-12-09T20:06:05.864Z"
   },
   {
    "duration": 32,
    "start_time": "2023-12-09T20:06:24.380Z"
   },
   {
    "duration": 55,
    "start_time": "2023-12-09T20:07:03.889Z"
   },
   {
    "duration": 9,
    "start_time": "2023-12-09T20:16:11.370Z"
   },
   {
    "duration": 6,
    "start_time": "2023-12-09T20:22:33.919Z"
   },
   {
    "duration": 56,
    "start_time": "2023-12-09T20:23:01.706Z"
   },
   {
    "duration": 6,
    "start_time": "2023-12-09T20:23:51.452Z"
   },
   {
    "duration": 36,
    "start_time": "2023-12-09T20:23:55.532Z"
   },
   {
    "duration": 7,
    "start_time": "2023-12-09T20:24:03.235Z"
   },
   {
    "duration": 35,
    "start_time": "2023-12-09T20:24:06.249Z"
   },
   {
    "duration": 5,
    "start_time": "2023-12-09T20:24:14.125Z"
   },
   {
    "duration": 31,
    "start_time": "2023-12-09T20:24:16.176Z"
   },
   {
    "duration": 5,
    "start_time": "2023-12-09T20:24:54.447Z"
   },
   {
    "duration": 5,
    "start_time": "2023-12-09T20:25:14.827Z"
   },
   {
    "duration": 46,
    "start_time": "2023-12-09T20:25:16.626Z"
   },
   {
    "duration": 35,
    "start_time": "2023-12-09T20:26:07.979Z"
   },
   {
    "duration": 110,
    "start_time": "2023-12-09T20:26:31.869Z"
   },
   {
    "duration": 15,
    "start_time": "2023-12-09T20:34:31.546Z"
   },
   {
    "duration": 18,
    "start_time": "2023-12-09T20:35:31.648Z"
   },
   {
    "duration": 11,
    "start_time": "2023-12-09T20:36:16.173Z"
   },
   {
    "duration": 12,
    "start_time": "2023-12-09T20:36:28.209Z"
   },
   {
    "duration": 22,
    "start_time": "2023-12-09T20:40:09.969Z"
   },
   {
    "duration": 6,
    "start_time": "2023-12-09T20:40:33.264Z"
   },
   {
    "duration": 7,
    "start_time": "2023-12-09T20:53:02.462Z"
   },
   {
    "duration": 5,
    "start_time": "2023-12-09T21:08:38.335Z"
   },
   {
    "duration": 41,
    "start_time": "2023-12-09T21:08:42.353Z"
   },
   {
    "duration": 4,
    "start_time": "2023-12-09T21:15:51.119Z"
   },
   {
    "duration": 26,
    "start_time": "2023-12-09T21:15:53.723Z"
   },
   {
    "duration": 9,
    "start_time": "2023-12-09T21:16:17.896Z"
   },
   {
    "duration": 32,
    "start_time": "2023-12-09T21:16:49.264Z"
   },
   {
    "duration": 24,
    "start_time": "2023-12-09T21:16:56.044Z"
   },
   {
    "duration": 4,
    "start_time": "2023-12-09T21:17:02.929Z"
   },
   {
    "duration": 12,
    "start_time": "2023-12-09T21:18:34.731Z"
   },
   {
    "duration": 23,
    "start_time": "2023-12-09T21:18:44.456Z"
   },
   {
    "duration": 23,
    "start_time": "2023-12-09T21:19:36.215Z"
   },
   {
    "duration": 10,
    "start_time": "2023-12-09T21:21:55.833Z"
   },
   {
    "duration": 58,
    "start_time": "2023-12-09T21:33:31.761Z"
   },
   {
    "duration": 48,
    "start_time": "2023-12-09T21:38:08.266Z"
   },
   {
    "duration": 3,
    "start_time": "2023-12-09T21:38:20.563Z"
   },
   {
    "duration": 4353,
    "start_time": "2023-12-10T11:06:07.575Z"
   },
   {
    "duration": 95,
    "start_time": "2023-12-10T11:06:11.931Z"
   },
   {
    "duration": 22,
    "start_time": "2023-12-10T11:06:12.027Z"
   },
   {
    "duration": 5,
    "start_time": "2023-12-10T11:06:12.053Z"
   },
   {
    "duration": 21,
    "start_time": "2023-12-10T11:06:12.059Z"
   },
   {
    "duration": 18,
    "start_time": "2023-12-10T11:06:12.081Z"
   },
   {
    "duration": 3,
    "start_time": "2023-12-10T11:06:12.101Z"
   },
   {
    "duration": 9,
    "start_time": "2023-12-10T11:06:12.106Z"
   },
   {
    "duration": 41,
    "start_time": "2023-12-10T11:06:12.116Z"
   },
   {
    "duration": 4,
    "start_time": "2023-12-10T11:06:12.160Z"
   },
   {
    "duration": 615,
    "start_time": "2023-12-10T11:06:12.166Z"
   },
   {
    "duration": 60,
    "start_time": "2023-12-10T11:06:12.783Z"
   },
   {
    "duration": 104,
    "start_time": "2023-12-10T11:06:12.845Z"
   },
   {
    "duration": 17,
    "start_time": "2023-12-10T11:06:12.951Z"
   },
   {
    "duration": 8,
    "start_time": "2023-12-10T11:06:12.969Z"
   },
   {
    "duration": 24,
    "start_time": "2023-12-10T11:06:12.978Z"
   },
   {
    "duration": 4,
    "start_time": "2023-12-10T11:06:13.004Z"
   },
   {
    "duration": 31,
    "start_time": "2023-12-10T11:06:13.042Z"
   },
   {
    "duration": 4,
    "start_time": "2023-12-10T11:06:13.075Z"
   },
   {
    "duration": 111,
    "start_time": "2023-12-10T11:06:13.080Z"
   },
   {
    "duration": 8,
    "start_time": "2023-12-10T11:06:13.193Z"
   },
   {
    "duration": 69,
    "start_time": "2023-12-10T11:06:13.202Z"
   },
   {
    "duration": 137,
    "start_time": "2023-12-10T11:06:13.273Z"
   },
   {
    "duration": 55,
    "start_time": "2023-12-10T11:06:13.412Z"
   },
   {
    "duration": 12,
    "start_time": "2023-12-10T11:06:13.469Z"
   },
   {
    "duration": 6,
    "start_time": "2023-12-10T11:06:13.483Z"
   },
   {
    "duration": 140,
    "start_time": "2023-12-10T11:06:13.490Z"
   },
   {
    "duration": 7,
    "start_time": "2023-12-10T11:06:13.642Z"
   },
   {
    "duration": 29,
    "start_time": "2023-12-10T11:06:13.652Z"
   },
   {
    "duration": 10,
    "start_time": "2023-12-10T11:06:13.683Z"
   },
   {
    "duration": 11,
    "start_time": "2023-12-10T11:06:13.706Z"
   },
   {
    "duration": 3802,
    "start_time": "2023-12-10T11:18:10.615Z"
   },
   {
    "duration": 57,
    "start_time": "2023-12-10T11:18:14.420Z"
   },
   {
    "duration": 18,
    "start_time": "2023-12-10T11:18:14.478Z"
   },
   {
    "duration": 5,
    "start_time": "2023-12-10T11:18:14.498Z"
   },
   {
    "duration": 30,
    "start_time": "2023-12-10T11:18:14.505Z"
   },
   {
    "duration": 37,
    "start_time": "2023-12-10T11:18:14.536Z"
   },
   {
    "duration": 24,
    "start_time": "2023-12-10T11:18:14.574Z"
   },
   {
    "duration": 21,
    "start_time": "2023-12-10T11:18:14.600Z"
   },
   {
    "duration": 49,
    "start_time": "2023-12-10T11:18:14.622Z"
   },
   {
    "duration": 10,
    "start_time": "2023-12-10T11:18:14.672Z"
   },
   {
    "duration": 623,
    "start_time": "2023-12-10T11:18:14.683Z"
   },
   {
    "duration": 45,
    "start_time": "2023-12-10T11:18:15.307Z"
   },
   {
    "duration": 110,
    "start_time": "2023-12-10T11:18:15.353Z"
   },
   {
    "duration": 15,
    "start_time": "2023-12-10T11:18:15.466Z"
   },
   {
    "duration": 35,
    "start_time": "2023-12-10T11:18:15.483Z"
   },
   {
    "duration": 24,
    "start_time": "2023-12-10T11:18:15.520Z"
   },
   {
    "duration": 4,
    "start_time": "2023-12-10T11:18:15.546Z"
   },
   {
    "duration": 33,
    "start_time": "2023-12-10T11:18:15.551Z"
   },
   {
    "duration": 4,
    "start_time": "2023-12-10T11:18:15.585Z"
   },
   {
    "duration": 101,
    "start_time": "2023-12-10T11:18:15.590Z"
   },
   {
    "duration": 6,
    "start_time": "2023-12-10T11:18:15.693Z"
   },
   {
    "duration": 55,
    "start_time": "2023-12-10T11:18:15.700Z"
   },
   {
    "duration": 121,
    "start_time": "2023-12-10T11:18:15.757Z"
   },
   {
    "duration": 25,
    "start_time": "2023-12-10T11:18:15.880Z"
   },
   {
    "duration": 37,
    "start_time": "2023-12-10T11:18:15.906Z"
   },
   {
    "duration": 21,
    "start_time": "2023-12-10T11:18:15.944Z"
   },
   {
    "duration": 146,
    "start_time": "2023-12-10T11:18:15.966Z"
   },
   {
    "duration": 3,
    "start_time": "2023-12-10T11:18:16.114Z"
   },
   {
    "duration": 43,
    "start_time": "2023-12-10T11:18:16.118Z"
   },
   {
    "duration": 26,
    "start_time": "2023-12-10T11:18:16.162Z"
   },
   {
    "duration": 18,
    "start_time": "2023-12-10T11:18:16.189Z"
   },
   {
    "duration": 4048,
    "start_time": "2023-12-11T08:39:37.321Z"
   },
   {
    "duration": 59,
    "start_time": "2023-12-11T08:39:41.372Z"
   },
   {
    "duration": 19,
    "start_time": "2023-12-11T08:39:41.433Z"
   },
   {
    "duration": 3,
    "start_time": "2023-12-11T08:39:41.453Z"
   },
   {
    "duration": 20,
    "start_time": "2023-12-11T08:39:41.458Z"
   },
   {
    "duration": 30,
    "start_time": "2023-12-11T08:39:41.480Z"
   },
   {
    "duration": 20,
    "start_time": "2023-12-11T08:39:41.511Z"
   },
   {
    "duration": 10,
    "start_time": "2023-12-11T08:39:41.532Z"
   },
   {
    "duration": 24,
    "start_time": "2023-12-11T08:39:41.544Z"
   },
   {
    "duration": 8,
    "start_time": "2023-12-11T08:39:41.570Z"
   },
   {
    "duration": 653,
    "start_time": "2023-12-11T08:39:41.580Z"
   },
   {
    "duration": 11,
    "start_time": "2023-12-11T08:39:42.235Z"
   },
   {
    "duration": 99,
    "start_time": "2023-12-11T08:39:42.248Z"
   },
   {
    "duration": 15,
    "start_time": "2023-12-11T08:39:42.350Z"
   },
   {
    "duration": 16,
    "start_time": "2023-12-11T08:39:42.366Z"
   },
   {
    "duration": 66,
    "start_time": "2023-12-11T08:39:42.383Z"
   },
   {
    "duration": 4,
    "start_time": "2023-12-11T08:39:42.451Z"
   },
   {
    "duration": 31,
    "start_time": "2023-12-11T08:39:42.456Z"
   },
   {
    "duration": 4,
    "start_time": "2023-12-11T08:39:42.488Z"
   },
   {
    "duration": 108,
    "start_time": "2023-12-11T08:39:42.494Z"
   },
   {
    "duration": 6,
    "start_time": "2023-12-11T08:39:42.603Z"
   },
   {
    "duration": 64,
    "start_time": "2023-12-11T08:39:42.611Z"
   },
   {
    "duration": 126,
    "start_time": "2023-12-11T08:39:42.677Z"
   },
   {
    "duration": 49,
    "start_time": "2023-12-11T08:39:42.805Z"
   },
   {
    "duration": 13,
    "start_time": "2023-12-11T08:39:42.856Z"
   },
   {
    "duration": 6,
    "start_time": "2023-12-11T08:39:42.871Z"
   },
   {
    "duration": 137,
    "start_time": "2023-12-11T08:39:42.878Z"
   },
   {
    "duration": 4,
    "start_time": "2023-12-11T08:39:43.030Z"
   },
   {
    "duration": 28,
    "start_time": "2023-12-11T08:39:43.036Z"
   },
   {
    "duration": 11,
    "start_time": "2023-12-11T08:39:43.067Z"
   },
   {
    "duration": 11,
    "start_time": "2023-12-11T08:39:43.079Z"
   },
   {
    "duration": 3597,
    "start_time": "2023-12-11T08:50:55.002Z"
   },
   {
    "duration": 59,
    "start_time": "2023-12-11T08:50:58.601Z"
   },
   {
    "duration": 18,
    "start_time": "2023-12-11T08:50:58.661Z"
   },
   {
    "duration": 3,
    "start_time": "2023-12-11T08:50:58.681Z"
   },
   {
    "duration": 22,
    "start_time": "2023-12-11T08:50:58.685Z"
   },
   {
    "duration": 37,
    "start_time": "2023-12-11T08:50:58.709Z"
   },
   {
    "duration": 12,
    "start_time": "2023-12-11T08:50:58.748Z"
   },
   {
    "duration": 26,
    "start_time": "2023-12-11T08:50:58.762Z"
   },
   {
    "duration": 67,
    "start_time": "2023-12-11T08:50:58.790Z"
   },
   {
    "duration": 31,
    "start_time": "2023-12-11T08:50:58.859Z"
   },
   {
    "duration": 583,
    "start_time": "2023-12-11T08:50:58.892Z"
   },
   {
    "duration": 54,
    "start_time": "2023-12-11T08:50:59.477Z"
   },
   {
    "duration": 109,
    "start_time": "2023-12-11T08:50:59.533Z"
   },
   {
    "duration": 14,
    "start_time": "2023-12-11T08:50:59.644Z"
   },
   {
    "duration": 31,
    "start_time": "2023-12-11T08:50:59.659Z"
   },
   {
    "duration": 38,
    "start_time": "2023-12-11T08:50:59.692Z"
   },
   {
    "duration": 16,
    "start_time": "2023-12-11T08:50:59.731Z"
   },
   {
    "duration": 45,
    "start_time": "2023-12-11T08:50:59.749Z"
   },
   {
    "duration": 19,
    "start_time": "2023-12-11T08:50:59.795Z"
   },
   {
    "duration": 102,
    "start_time": "2023-12-11T08:50:59.816Z"
   },
   {
    "duration": 6,
    "start_time": "2023-12-11T08:50:59.920Z"
   },
   {
    "duration": 53,
    "start_time": "2023-12-11T08:50:59.931Z"
   },
   {
    "duration": 108,
    "start_time": "2023-12-11T08:50:59.986Z"
   },
   {
    "duration": 54,
    "start_time": "2023-12-11T08:51:00.096Z"
   },
   {
    "duration": 78,
    "start_time": "2023-12-11T08:51:00.151Z"
   },
   {
    "duration": 36,
    "start_time": "2023-12-11T08:51:00.231Z"
   },
   {
    "duration": 167,
    "start_time": "2023-12-11T08:51:00.269Z"
   },
   {
    "duration": 4,
    "start_time": "2023-12-11T08:51:00.439Z"
   },
   {
    "duration": 38,
    "start_time": "2023-12-11T08:51:00.444Z"
   },
   {
    "duration": 40,
    "start_time": "2023-12-11T08:51:00.484Z"
   },
   {
    "duration": 36,
    "start_time": "2023-12-11T08:51:00.526Z"
   },
   {
    "duration": 3804,
    "start_time": "2024-01-05T15:43:44.604Z"
   },
   {
    "duration": 97,
    "start_time": "2024-01-05T15:43:48.410Z"
   },
   {
    "duration": 17,
    "start_time": "2024-01-05T15:43:48.508Z"
   },
   {
    "duration": 23,
    "start_time": "2024-01-05T15:43:48.526Z"
   },
   {
    "duration": 28,
    "start_time": "2024-01-05T15:43:48.551Z"
   },
   {
    "duration": 30,
    "start_time": "2024-01-05T15:43:48.581Z"
   },
   {
    "duration": 3,
    "start_time": "2024-01-05T15:43:48.612Z"
   },
   {
    "duration": 11,
    "start_time": "2024-01-05T15:43:48.617Z"
   },
   {
    "duration": 14,
    "start_time": "2024-01-05T15:43:48.630Z"
   },
   {
    "duration": 4,
    "start_time": "2024-01-05T15:43:48.645Z"
   },
   {
    "duration": 486,
    "start_time": "2024-01-05T15:43:48.651Z"
   },
   {
    "duration": 30,
    "start_time": "2024-01-05T15:43:49.138Z"
   },
   {
    "duration": 108,
    "start_time": "2024-01-05T15:43:49.169Z"
   },
   {
    "duration": 14,
    "start_time": "2024-01-05T15:43:49.280Z"
   },
   {
    "duration": 6,
    "start_time": "2024-01-05T15:43:49.296Z"
   },
   {
    "duration": 22,
    "start_time": "2024-01-05T15:43:49.304Z"
   },
   {
    "duration": 4,
    "start_time": "2024-01-05T15:43:49.327Z"
   },
   {
    "duration": 25,
    "start_time": "2024-01-05T15:43:49.365Z"
   },
   {
    "duration": 4,
    "start_time": "2024-01-05T15:43:49.392Z"
   },
   {
    "duration": 100,
    "start_time": "2024-01-05T15:43:49.398Z"
   },
   {
    "duration": 6,
    "start_time": "2024-01-05T15:43:49.499Z"
   },
   {
    "duration": 45,
    "start_time": "2024-01-05T15:43:49.507Z"
   },
   {
    "duration": 121,
    "start_time": "2024-01-05T15:43:49.553Z"
   },
   {
    "duration": 24,
    "start_time": "2024-01-05T15:43:49.675Z"
   },
   {
    "duration": 11,
    "start_time": "2024-01-05T15:43:49.700Z"
   },
   {
    "duration": 5,
    "start_time": "2024-01-05T15:43:49.712Z"
   },
   {
    "duration": 136,
    "start_time": "2024-01-05T15:43:49.719Z"
   },
   {
    "duration": 4,
    "start_time": "2024-01-05T15:43:49.865Z"
   },
   {
    "duration": 28,
    "start_time": "2024-01-05T15:43:49.870Z"
   },
   {
    "duration": 8,
    "start_time": "2024-01-05T15:43:49.900Z"
   },
   {
    "duration": 15,
    "start_time": "2024-01-05T15:43:49.909Z"
   },
   {
    "duration": 4010,
    "start_time": "2024-08-23T23:32:02.766Z"
   },
   {
    "duration": 186,
    "start_time": "2024-08-23T23:32:06.778Z"
   },
   {
    "duration": 18,
    "start_time": "2024-08-23T23:32:06.966Z"
   },
   {
    "duration": 3,
    "start_time": "2024-08-23T23:32:06.986Z"
   },
   {
    "duration": 21,
    "start_time": "2024-08-23T23:32:06.990Z"
   },
   {
    "duration": 15,
    "start_time": "2024-08-23T23:32:07.013Z"
   },
   {
    "duration": 4,
    "start_time": "2024-08-23T23:32:07.030Z"
   },
   {
    "duration": 23,
    "start_time": "2024-08-23T23:32:07.035Z"
   },
   {
    "duration": 122,
    "start_time": "2024-08-23T23:32:07.060Z"
   },
   {
    "duration": 5,
    "start_time": "2024-08-23T23:32:07.185Z"
   },
   {
    "duration": 561,
    "start_time": "2024-08-23T23:32:07.192Z"
   },
   {
    "duration": 12,
    "start_time": "2024-08-23T23:32:07.755Z"
   },
   {
    "duration": 109,
    "start_time": "2024-08-23T23:32:07.769Z"
   },
   {
    "duration": 16,
    "start_time": "2024-08-23T23:32:07.879Z"
   },
   {
    "duration": 27,
    "start_time": "2024-08-23T23:32:07.896Z"
   },
   {
    "duration": 39,
    "start_time": "2024-08-23T23:32:07.925Z"
   },
   {
    "duration": 4,
    "start_time": "2024-08-23T23:32:07.966Z"
   },
   {
    "duration": 29,
    "start_time": "2024-08-23T23:32:07.972Z"
   },
   {
    "duration": 5,
    "start_time": "2024-08-23T23:32:08.002Z"
   },
   {
    "duration": 125,
    "start_time": "2024-08-23T23:32:08.009Z"
   },
   {
    "duration": 17,
    "start_time": "2024-08-23T23:32:08.136Z"
   },
   {
    "duration": 48,
    "start_time": "2024-08-23T23:32:08.155Z"
   },
   {
    "duration": 120,
    "start_time": "2024-08-23T23:32:08.205Z"
   },
   {
    "duration": 49,
    "start_time": "2024-08-23T23:32:08.326Z"
   },
   {
    "duration": 13,
    "start_time": "2024-08-23T23:32:08.376Z"
   },
   {
    "duration": 31,
    "start_time": "2024-08-23T23:32:08.390Z"
   },
   {
    "duration": 145,
    "start_time": "2024-08-23T23:32:08.422Z"
   },
   {
    "duration": 3,
    "start_time": "2024-08-23T23:32:08.570Z"
   },
   {
    "duration": 38,
    "start_time": "2024-08-23T23:32:08.575Z"
   },
   {
    "duration": 10,
    "start_time": "2024-08-23T23:32:08.615Z"
   },
   {
    "duration": 69,
    "start_time": "2024-08-23T23:32:08.627Z"
   }
  ],
  "kernelspec": {
   "display_name": "Python 3 (ipykernel)",
   "language": "python",
   "name": "python3"
  },
  "language_info": {
   "codemirror_mode": {
    "name": "ipython",
    "version": 3
   },
   "file_extension": ".py",
   "mimetype": "text/x-python",
   "name": "python",
   "nbconvert_exporter": "python",
   "pygments_lexer": "ipython3",
   "version": "3.9.12"
  },
  "toc": {
   "base_numbering": 1,
   "nav_menu": {},
   "number_sections": true,
   "sideBar": true,
   "skip_h1_title": true,
   "title_cell": "Table of Contents",
   "title_sidebar": "Contents",
   "toc_cell": false,
   "toc_position": {},
   "toc_section_display": true,
   "toc_window_display": false
  }
 },
 "nbformat": 4,
 "nbformat_minor": 2
}
