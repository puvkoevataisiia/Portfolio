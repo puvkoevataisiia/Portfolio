{
 "cells": [
  {
   "cell_type": "markdown",
   "id": "d97052c8",
   "metadata": {},
   "source": [
    "# Анализ пользовательского поведения в мобильном приложении"
   ]
  },
  {
   "cell_type": "markdown",
   "id": "b35385ab",
   "metadata": {},
   "source": [
    "<div class=\"alert alert-block alert-info\"> \n",
    "Планируется смена шрифтов в приложении для покупки продуктов питания, однако данное изменение может быть непривычным для пользователей и оказать негативное влияние. Необходимо разобраться, как ведут себя пользователи мобильного приложения после изменения шрифов: как и сколько пользователей доходят до покупки; cколько «застревает» на предыдущих шагах и на каких именно.\n",
    "    \n",
    "<br>Для выполнения задачи: \n",
    "1. Отберем необходимый период, в который пользователи совершали действия в приложении\n",
    "2. Определимся с воронкой событий и проанализируем ее для всех пользователей (посмотрим на доли пользователей)\n",
    "3. Проведем A/A-тест, чтобы выявить различия в контрольных группах и убедиться в правильности разбиения на группы\n",
    "4. Проведем A/B-тест, чтобы выявить различие в долях пользователей в каждом событии по группам\n",
    "    - эксперементальная группа с 1 контрольной группой\n",
    "    - эксперементальная группа со 2 контрольной группой\n",
    "    - эксперементальная группа с объединенной контрольной группой\n",
    "5. Проанализирем результаты\n",
    "</div>"
   ]
  },
  {
   "cell_type": "code",
   "execution_count": 2,
   "id": "4b4ecb0d",
   "metadata": {},
   "outputs": [],
   "source": [
    "import pandas as pd\n",
    "import matplotlib.pyplot as plt\n",
    "import seaborn as sns\n",
    "import plotly.express as px\n",
    "import plotly.graph_objects as go\n",
    "import numpy as np\n",
    "import math as mth\n",
    "from scipy import stats as st"
   ]
  },
  {
   "cell_type": "markdown",
   "id": "b954b2e1",
   "metadata": {},
   "source": [
    "### Шаг 1. Подготовка данных"
   ]
  },
  {
   "cell_type": "code",
   "execution_count": 3,
   "id": "3db1ec2b",
   "metadata": {
    "scrolled": true
   },
   "outputs": [
    {
     "data": {
      "text/html": [
       "<div>\n",
       "<style scoped>\n",
       "    .dataframe tbody tr th:only-of-type {\n",
       "        vertical-align: middle;\n",
       "    }\n",
       "\n",
       "    .dataframe tbody tr th {\n",
       "        vertical-align: top;\n",
       "    }\n",
       "\n",
       "    .dataframe thead th {\n",
       "        text-align: right;\n",
       "    }\n",
       "</style>\n",
       "<table border=\"1\" class=\"dataframe\">\n",
       "  <thead>\n",
       "    <tr style=\"text-align: right;\">\n",
       "      <th></th>\n",
       "      <th>EventName</th>\n",
       "      <th>DeviceIDHash</th>\n",
       "      <th>EventTimestamp</th>\n",
       "      <th>ExpId</th>\n",
       "    </tr>\n",
       "  </thead>\n",
       "  <tbody>\n",
       "    <tr>\n",
       "      <th>0</th>\n",
       "      <td>MainScreenAppear</td>\n",
       "      <td>4575588528974610257</td>\n",
       "      <td>1564029816</td>\n",
       "      <td>246</td>\n",
       "    </tr>\n",
       "    <tr>\n",
       "      <th>1</th>\n",
       "      <td>MainScreenAppear</td>\n",
       "      <td>7416695313311560658</td>\n",
       "      <td>1564053102</td>\n",
       "      <td>246</td>\n",
       "    </tr>\n",
       "    <tr>\n",
       "      <th>2</th>\n",
       "      <td>PaymentScreenSuccessful</td>\n",
       "      <td>3518123091307005509</td>\n",
       "      <td>1564054127</td>\n",
       "      <td>248</td>\n",
       "    </tr>\n",
       "    <tr>\n",
       "      <th>3</th>\n",
       "      <td>CartScreenAppear</td>\n",
       "      <td>3518123091307005509</td>\n",
       "      <td>1564054127</td>\n",
       "      <td>248</td>\n",
       "    </tr>\n",
       "    <tr>\n",
       "      <th>4</th>\n",
       "      <td>PaymentScreenSuccessful</td>\n",
       "      <td>6217807653094995999</td>\n",
       "      <td>1564055322</td>\n",
       "      <td>248</td>\n",
       "    </tr>\n",
       "  </tbody>\n",
       "</table>\n",
       "</div>"
      ],
      "text/plain": [
       "                 EventName         DeviceIDHash  EventTimestamp  ExpId\n",
       "0         MainScreenAppear  4575588528974610257      1564029816    246\n",
       "1         MainScreenAppear  7416695313311560658      1564053102    246\n",
       "2  PaymentScreenSuccessful  3518123091307005509      1564054127    248\n",
       "3         CartScreenAppear  3518123091307005509      1564054127    248\n",
       "4  PaymentScreenSuccessful  6217807653094995999      1564055322    248"
      ]
     },
     "execution_count": 3,
     "metadata": {},
     "output_type": "execute_result"
    }
   ],
   "source": [
    "data = pd.read_csv('logs_exp.csv', sep='\\t') \n",
    "data.head(5)"
   ]
  },
  {
   "cell_type": "code",
   "execution_count": 4,
   "id": "430079d6",
   "metadata": {},
   "outputs": [],
   "source": [
    "data.columns = ['event_name','device_id','event_timestamp','exp_id']"
   ]
  },
  {
   "cell_type": "code",
   "execution_count": 5,
   "id": "f2cc50c6",
   "metadata": {},
   "outputs": [],
   "source": [
    "def first_step(df):\n",
    "    # Проверим наличие пропусков\n",
    "    missing_values = df.isnull().sum()\n",
    "    print(\"Пропущенные значения:\", missing_values.sum())\n",
    "\n",
    "    # Проверим наличие дубликатов\n",
    "    duplicate_values = df.duplicated().sum()\n",
    "    print(\"Количество дубликатов:\", duplicate_values)\n",
    "    if duplicate_values != 0:\n",
    "        print(f\"Доля дубликатов {duplicate_values/df['device_id'].count():.1%}\")\n",
    "    \n",
    "    print(data.info())\n",
    "    print(df.head())"
   ]
  },
  {
   "cell_type": "code",
   "execution_count": 6,
   "id": "3bb160e8",
   "metadata": {},
   "outputs": [
    {
     "name": "stdout",
     "output_type": "stream",
     "text": [
      "Пропущенные значения: 0\n",
      "Количество дубликатов: 413\n",
      "Доля дубликатов 0.2%\n",
      "<class 'pandas.core.frame.DataFrame'>\n",
      "RangeIndex: 244126 entries, 0 to 244125\n",
      "Data columns (total 4 columns):\n",
      " #   Column           Non-Null Count   Dtype \n",
      "---  ------           --------------   ----- \n",
      " 0   event_name       244126 non-null  object\n",
      " 1   device_id        244126 non-null  int64 \n",
      " 2   event_timestamp  244126 non-null  int64 \n",
      " 3   exp_id           244126 non-null  int64 \n",
      "dtypes: int64(3), object(1)\n",
      "memory usage: 7.5+ MB\n",
      "None\n",
      "                event_name            device_id  event_timestamp  exp_id\n",
      "0         MainScreenAppear  4575588528974610257       1564029816     246\n",
      "1         MainScreenAppear  7416695313311560658       1564053102     246\n",
      "2  PaymentScreenSuccessful  3518123091307005509       1564054127     248\n",
      "3         CartScreenAppear  3518123091307005509       1564054127     248\n",
      "4  PaymentScreenSuccessful  6217807653094995999       1564055322     248\n"
     ]
    }
   ],
   "source": [
    "first_step(data)"
   ]
  },
  {
   "cell_type": "markdown",
   "id": "b79c266a",
   "metadata": {},
   "source": [
    "В данных есть 413 дубликатов (0.2%), удалим их"
   ]
  },
  {
   "cell_type": "code",
   "execution_count": 7,
   "id": "6dd17870",
   "metadata": {},
   "outputs": [],
   "source": [
    "data = data.drop_duplicates().reset_index(drop=True)"
   ]
  },
  {
   "cell_type": "markdown",
   "id": "6a20064f",
   "metadata": {},
   "source": [
    "Добавим столбец даты и времени (date_time), а также отдельный столбец дат (date)"
   ]
  },
  {
   "cell_type": "code",
   "execution_count": 8,
   "id": "d5deb059",
   "metadata": {},
   "outputs": [
    {
     "data": {
      "text/html": [
       "<div>\n",
       "<style scoped>\n",
       "    .dataframe tbody tr th:only-of-type {\n",
       "        vertical-align: middle;\n",
       "    }\n",
       "\n",
       "    .dataframe tbody tr th {\n",
       "        vertical-align: top;\n",
       "    }\n",
       "\n",
       "    .dataframe thead th {\n",
       "        text-align: right;\n",
       "    }\n",
       "</style>\n",
       "<table border=\"1\" class=\"dataframe\">\n",
       "  <thead>\n",
       "    <tr style=\"text-align: right;\">\n",
       "      <th></th>\n",
       "      <th>event_name</th>\n",
       "      <th>device_id</th>\n",
       "      <th>event_timestamp</th>\n",
       "      <th>exp_id</th>\n",
       "      <th>date_time</th>\n",
       "      <th>date</th>\n",
       "    </tr>\n",
       "  </thead>\n",
       "  <tbody>\n",
       "    <tr>\n",
       "      <th>0</th>\n",
       "      <td>MainScreenAppear</td>\n",
       "      <td>4575588528974610257</td>\n",
       "      <td>1564029816</td>\n",
       "      <td>246</td>\n",
       "      <td>2019-07-25 04:43:36</td>\n",
       "      <td>2019-07-25</td>\n",
       "    </tr>\n",
       "    <tr>\n",
       "      <th>1</th>\n",
       "      <td>MainScreenAppear</td>\n",
       "      <td>7416695313311560658</td>\n",
       "      <td>1564053102</td>\n",
       "      <td>246</td>\n",
       "      <td>2019-07-25 11:11:42</td>\n",
       "      <td>2019-07-25</td>\n",
       "    </tr>\n",
       "    <tr>\n",
       "      <th>2</th>\n",
       "      <td>PaymentScreenSuccessful</td>\n",
       "      <td>3518123091307005509</td>\n",
       "      <td>1564054127</td>\n",
       "      <td>248</td>\n",
       "      <td>2019-07-25 11:28:47</td>\n",
       "      <td>2019-07-25</td>\n",
       "    </tr>\n",
       "    <tr>\n",
       "      <th>3</th>\n",
       "      <td>CartScreenAppear</td>\n",
       "      <td>3518123091307005509</td>\n",
       "      <td>1564054127</td>\n",
       "      <td>248</td>\n",
       "      <td>2019-07-25 11:28:47</td>\n",
       "      <td>2019-07-25</td>\n",
       "    </tr>\n",
       "    <tr>\n",
       "      <th>4</th>\n",
       "      <td>PaymentScreenSuccessful</td>\n",
       "      <td>6217807653094995999</td>\n",
       "      <td>1564055322</td>\n",
       "      <td>248</td>\n",
       "      <td>2019-07-25 11:48:42</td>\n",
       "      <td>2019-07-25</td>\n",
       "    </tr>\n",
       "  </tbody>\n",
       "</table>\n",
       "</div>"
      ],
      "text/plain": [
       "                event_name            device_id  event_timestamp  exp_id  \\\n",
       "0         MainScreenAppear  4575588528974610257       1564029816     246   \n",
       "1         MainScreenAppear  7416695313311560658       1564053102     246   \n",
       "2  PaymentScreenSuccessful  3518123091307005509       1564054127     248   \n",
       "3         CartScreenAppear  3518123091307005509       1564054127     248   \n",
       "4  PaymentScreenSuccessful  6217807653094995999       1564055322     248   \n",
       "\n",
       "            date_time        date  \n",
       "0 2019-07-25 04:43:36  2019-07-25  \n",
       "1 2019-07-25 11:11:42  2019-07-25  \n",
       "2 2019-07-25 11:28:47  2019-07-25  \n",
       "3 2019-07-25 11:28:47  2019-07-25  \n",
       "4 2019-07-25 11:48:42  2019-07-25  "
      ]
     },
     "execution_count": 8,
     "metadata": {},
     "output_type": "execute_result"
    }
   ],
   "source": [
    "data['date_time'] = pd.to_datetime(data['event_timestamp'], unit='s')\n",
    "data['date'] = data['date_time'].dt.date\n",
    "data.head()"
   ]
  },
  {
   "cell_type": "markdown",
   "id": "bbec23da",
   "metadata": {},
   "source": [
    "Проверим, есть ли пересечения в группах 246, 247 и 248"
   ]
  },
  {
   "cell_type": "code",
   "execution_count": 9,
   "id": "591d5d28",
   "metadata": {},
   "outputs": [
    {
     "data": {
      "text/html": [
       "<div>\n",
       "<style scoped>\n",
       "    .dataframe tbody tr th:only-of-type {\n",
       "        vertical-align: middle;\n",
       "    }\n",
       "\n",
       "    .dataframe tbody tr th {\n",
       "        vertical-align: top;\n",
       "    }\n",
       "\n",
       "    .dataframe thead th {\n",
       "        text-align: right;\n",
       "    }\n",
       "</style>\n",
       "<table border=\"1\" class=\"dataframe\">\n",
       "  <thead>\n",
       "    <tr style=\"text-align: right;\">\n",
       "      <th></th>\n",
       "      <th>device_id</th>\n",
       "      <th>exp_id</th>\n",
       "    </tr>\n",
       "  </thead>\n",
       "  <tbody>\n",
       "  </tbody>\n",
       "</table>\n",
       "</div>"
      ],
      "text/plain": [
       "Empty DataFrame\n",
       "Columns: [device_id, exp_id]\n",
       "Index: []"
      ]
     },
     "execution_count": 9,
     "metadata": {},
     "output_type": "execute_result"
    }
   ],
   "source": [
    "data.groupby('device_id')['exp_id'].nunique().reset_index().query('exp_id > 1')"
   ]
  },
  {
   "cell_type": "markdown",
   "id": "39bc0205",
   "metadata": {},
   "source": [
    "Пересечений нет"
   ]
  },
  {
   "cell_type": "markdown",
   "id": "bff40413",
   "metadata": {},
   "source": [
    "<div class=\"alert alert-info\">\n",
    "<b>Выводы по 1 шагу:</b>\n",
    "    \n",
    "- В данных нет пропущенных значений\n",
    "- Нашлось 413 дубликатов, которые мы удалили\n",
    "- Все данные, кроме даты, имеют правильный тип. Данные по столбцу event_timestamp преобразовали в формат даты и записали их в новый столбец date_time. Также создали отдельный столбец с датой (без времени) date \n",
    "- Изменили названия колонок на более удобные\n",
    "- Проверили, что пересечений по группам нет"
   ]
  },
  {
   "cell_type": "markdown",
   "id": "e5b0a285",
   "metadata": {},
   "source": [
    "### Шаг 2. Изучение данные"
   ]
  },
  {
   "cell_type": "markdown",
   "id": "bcd644d8",
   "metadata": {},
   "source": [
    "1. Сколько всего событий в логе?"
   ]
  },
  {
   "cell_type": "code",
   "execution_count": 10,
   "id": "682fc5b2",
   "metadata": {},
   "outputs": [
    {
     "data": {
      "text/plain": [
       "243713"
      ]
     },
     "execution_count": 10,
     "metadata": {},
     "output_type": "execute_result"
    }
   ],
   "source": [
    "events = data.shape[0]\n",
    "events"
   ]
  },
  {
   "cell_type": "markdown",
   "id": "10051668",
   "metadata": {},
   "source": [
    "2. Сколько всего пользователей в логе?"
   ]
  },
  {
   "cell_type": "code",
   "execution_count": 11,
   "id": "d7dd507b",
   "metadata": {},
   "outputs": [
    {
     "data": {
      "text/plain": [
       "7551"
      ]
     },
     "execution_count": 11,
     "metadata": {},
     "output_type": "execute_result"
    }
   ],
   "source": [
    "users = data['device_id'].nunique()\n",
    "users"
   ]
  },
  {
   "cell_type": "markdown",
   "id": "afbb8d67",
   "metadata": {},
   "source": [
    "3. Сколько в среднем событий приходится на пользователя?"
   ]
  },
  {
   "cell_type": "code",
   "execution_count": 12,
   "id": "a107aaad",
   "metadata": {},
   "outputs": [
    {
     "name": "stdout",
     "output_type": "stream",
     "text": [
      "В среднем 20.0 событий приходится на 1 пользователя\n"
     ]
    }
   ],
   "source": [
    "events_by_user_med = data.groupby('device_id')['event_name'].agg('count').median()\n",
    "print(f'В среднем {events_by_user_med} событий приходится на 1 пользователя')"
   ]
  },
  {
   "cell_type": "markdown",
   "id": "11e31fd6",
   "metadata": {},
   "source": [
    "4. Данными за какой период мы располагаем? "
   ]
  },
  {
   "cell_type": "code",
   "execution_count": 13,
   "id": "d6ad9579",
   "metadata": {},
   "outputs": [
    {
     "name": "stdout",
     "output_type": "stream",
     "text": [
      "2019-07-25 2019-08-07\n"
     ]
    }
   ],
   "source": [
    "min_date = data['date'].min()\n",
    "max_date = data['date'].max()\n",
    "print(min_date, max_date)"
   ]
  },
  {
   "cell_type": "markdown",
   "id": "fe6c419b",
   "metadata": {},
   "source": [
    "<div class=\"alert alert-info\">В данных есть события за период с 25 июля по 7 августа 2019 года. Таким образом, предполагаемый период анализа - 14 дней (2 недели). Узнаем, действительно ли это так, посмотрев как меняется количество данных по дням."
   ]
  },
  {
   "cell_type": "markdown",
   "id": "18a9291f",
   "metadata": {},
   "source": [
    "5. Как меняется количество данных по дням"
   ]
  },
  {
   "cell_type": "code",
   "execution_count": 14,
   "id": "f1c78a5d",
   "metadata": {},
   "outputs": [],
   "source": [
    "colors = ['#636efa', '#ef553b', '#00cc96', '#ab63fa', '#ffa15a']"
   ]
  },
  {
   "cell_type": "code",
   "execution_count": 15,
   "id": "e81b323b",
   "metadata": {},
   "outputs": [
    {
     "data": {
      "image/png": "[encoded data removed]",
      "text/plain": [
       "<Figure size 432x288 with 1 Axes>"
      ]
     },
     "metadata": {
      "needs_background": "light"
     },
     "output_type": "display_data"
    }
   ],
   "source": [
    "grouped = data.groupby(['date', 'exp_id']).size().unstack(fill_value=0)\n",
    "\n",
    "grouped.plot(kind='bar', stacked=True, color=colors)\n",
    "plt.title('Количество событий в зависимости от времени в разрезе групп')\n",
    "plt.xlabel('Дата')\n",
    "plt.ylabel('Количество событий')\n",
    "plt.show()"
   ]
  },
  {
   "cell_type": "markdown",
   "id": "d6d90cf8",
   "metadata": {},
   "source": [
    "<div class=\"alert alert-info\">По графику можно заметить, что данные не одинаково полные за весь период. Данных за первую неделю значительно меньше, чем за вторую: в каждый из первых 7 дней событий меньше 5 тысяч, в то время как в последующие дни более 30 тысяч. Таким образом, данные за первую неделю нельзя брать в анализ, иначе результаты будут скошены. Уберем данные с 25 по 31 июля."
   ]
  },
  {
   "cell_type": "code",
   "execution_count": 16,
   "id": "62275afc",
   "metadata": {},
   "outputs": [
    {
     "data": {
      "text/html": [
       "<div>\n",
       "<style scoped>\n",
       "    .dataframe tbody tr th:only-of-type {\n",
       "        vertical-align: middle;\n",
       "    }\n",
       "\n",
       "    .dataframe tbody tr th {\n",
       "        vertical-align: top;\n",
       "    }\n",
       "\n",
       "    .dataframe thead th {\n",
       "        text-align: right;\n",
       "    }\n",
       "</style>\n",
       "<table border=\"1\" class=\"dataframe\">\n",
       "  <thead>\n",
       "    <tr style=\"text-align: right;\">\n",
       "      <th></th>\n",
       "      <th>event_name</th>\n",
       "      <th>device_id</th>\n",
       "      <th>event_timestamp</th>\n",
       "      <th>exp_id</th>\n",
       "      <th>date_time</th>\n",
       "      <th>date</th>\n",
       "    </tr>\n",
       "  </thead>\n",
       "  <tbody>\n",
       "    <tr>\n",
       "      <th>0</th>\n",
       "      <td>Tutorial</td>\n",
       "      <td>3737462046622621720</td>\n",
       "      <td>1564618048</td>\n",
       "      <td>246</td>\n",
       "      <td>2019-08-01 00:07:28</td>\n",
       "      <td>2019-08-01</td>\n",
       "    </tr>\n",
       "    <tr>\n",
       "      <th>1</th>\n",
       "      <td>MainScreenAppear</td>\n",
       "      <td>3737462046622621720</td>\n",
       "      <td>1564618080</td>\n",
       "      <td>246</td>\n",
       "      <td>2019-08-01 00:08:00</td>\n",
       "      <td>2019-08-01</td>\n",
       "    </tr>\n",
       "    <tr>\n",
       "      <th>2</th>\n",
       "      <td>MainScreenAppear</td>\n",
       "      <td>3737462046622621720</td>\n",
       "      <td>1564618135</td>\n",
       "      <td>246</td>\n",
       "      <td>2019-08-01 00:08:55</td>\n",
       "      <td>2019-08-01</td>\n",
       "    </tr>\n",
       "    <tr>\n",
       "      <th>3</th>\n",
       "      <td>OffersScreenAppear</td>\n",
       "      <td>3737462046622621720</td>\n",
       "      <td>1564618138</td>\n",
       "      <td>246</td>\n",
       "      <td>2019-08-01 00:08:58</td>\n",
       "      <td>2019-08-01</td>\n",
       "    </tr>\n",
       "    <tr>\n",
       "      <th>4</th>\n",
       "      <td>MainScreenAppear</td>\n",
       "      <td>1433840883824088890</td>\n",
       "      <td>1564618139</td>\n",
       "      <td>247</td>\n",
       "      <td>2019-08-01 00:08:59</td>\n",
       "      <td>2019-08-01</td>\n",
       "    </tr>\n",
       "    <tr>\n",
       "      <th>...</th>\n",
       "      <td>...</td>\n",
       "      <td>...</td>\n",
       "      <td>...</td>\n",
       "      <td>...</td>\n",
       "      <td>...</td>\n",
       "      <td>...</td>\n",
       "    </tr>\n",
       "    <tr>\n",
       "      <th>240882</th>\n",
       "      <td>MainScreenAppear</td>\n",
       "      <td>4599628364049201812</td>\n",
       "      <td>1565212345</td>\n",
       "      <td>247</td>\n",
       "      <td>2019-08-07 21:12:25</td>\n",
       "      <td>2019-08-07</td>\n",
       "    </tr>\n",
       "    <tr>\n",
       "      <th>240883</th>\n",
       "      <td>MainScreenAppear</td>\n",
       "      <td>5849806612437486590</td>\n",
       "      <td>1565212439</td>\n",
       "      <td>246</td>\n",
       "      <td>2019-08-07 21:13:59</td>\n",
       "      <td>2019-08-07</td>\n",
       "    </tr>\n",
       "    <tr>\n",
       "      <th>240884</th>\n",
       "      <td>MainScreenAppear</td>\n",
       "      <td>5746969938801999050</td>\n",
       "      <td>1565212483</td>\n",
       "      <td>246</td>\n",
       "      <td>2019-08-07 21:14:43</td>\n",
       "      <td>2019-08-07</td>\n",
       "    </tr>\n",
       "    <tr>\n",
       "      <th>240885</th>\n",
       "      <td>MainScreenAppear</td>\n",
       "      <td>5746969938801999050</td>\n",
       "      <td>1565212498</td>\n",
       "      <td>246</td>\n",
       "      <td>2019-08-07 21:14:58</td>\n",
       "      <td>2019-08-07</td>\n",
       "    </tr>\n",
       "    <tr>\n",
       "      <th>240886</th>\n",
       "      <td>OffersScreenAppear</td>\n",
       "      <td>5746969938801999050</td>\n",
       "      <td>1565212517</td>\n",
       "      <td>246</td>\n",
       "      <td>2019-08-07 21:15:17</td>\n",
       "      <td>2019-08-07</td>\n",
       "    </tr>\n",
       "  </tbody>\n",
       "</table>\n",
       "<p>240887 rows × 6 columns</p>\n",
       "</div>"
      ],
      "text/plain": [
       "                event_name            device_id  event_timestamp  exp_id  \\\n",
       "0                 Tutorial  3737462046622621720       1564618048     246   \n",
       "1         MainScreenAppear  3737462046622621720       1564618080     246   \n",
       "2         MainScreenAppear  3737462046622621720       1564618135     246   \n",
       "3       OffersScreenAppear  3737462046622621720       1564618138     246   \n",
       "4         MainScreenAppear  1433840883824088890       1564618139     247   \n",
       "...                    ...                  ...              ...     ...   \n",
       "240882    MainScreenAppear  4599628364049201812       1565212345     247   \n",
       "240883    MainScreenAppear  5849806612437486590       1565212439     246   \n",
       "240884    MainScreenAppear  5746969938801999050       1565212483     246   \n",
       "240885    MainScreenAppear  5746969938801999050       1565212498     246   \n",
       "240886  OffersScreenAppear  5746969938801999050       1565212517     246   \n",
       "\n",
       "                 date_time        date  \n",
       "0      2019-08-01 00:07:28  2019-08-01  \n",
       "1      2019-08-01 00:08:00  2019-08-01  \n",
       "2      2019-08-01 00:08:55  2019-08-01  \n",
       "3      2019-08-01 00:08:58  2019-08-01  \n",
       "4      2019-08-01 00:08:59  2019-08-01  \n",
       "...                    ...         ...  \n",
       "240882 2019-08-07 21:12:25  2019-08-07  \n",
       "240883 2019-08-07 21:13:59  2019-08-07  \n",
       "240884 2019-08-07 21:14:43  2019-08-07  \n",
       "240885 2019-08-07 21:14:58  2019-08-07  \n",
       "240886 2019-08-07 21:15:17  2019-08-07  \n",
       "\n",
       "[240887 rows x 6 columns]"
      ]
     },
     "execution_count": 16,
     "metadata": {},
     "output_type": "execute_result"
    }
   ],
   "source": [
    "target_date = pd.to_datetime('2019-08-01')\n",
    "data = data[data['date'] >= target_date].reset_index(drop=True)\n",
    "data"
   ]
  },
  {
   "cell_type": "markdown",
   "id": "48b6a5f3",
   "metadata": {},
   "source": [
    "<div class=\"alert alert-info\"> Анализируемый период: с 1 по 7 августа"
   ]
  },
  {
   "cell_type": "markdown",
   "id": "7c50f9da",
   "metadata": {},
   "source": [
    "6. Посчитаем, сколько событий и пользователей мы потеряли, отбросив данные"
   ]
  },
  {
   "cell_type": "code",
   "execution_count": 17,
   "id": "146a7311",
   "metadata": {},
   "outputs": [
    {
     "name": "stdout",
     "output_type": "stream",
     "text": [
      "Потеряли 2826 событий (1.16%) и 17 пользователей (0.23%)\n"
     ]
    }
   ],
   "source": [
    "dif_events = events - data.shape[0]\n",
    "dif_users = users -  data['device_id'].nunique()\n",
    "percent_event = round(dif_events/events * 100,2)\n",
    "percent_user = round(dif_users/users * 100,2)\n",
    "print(f'Потеряли {dif_events} событий ({percent_event}%) и {dif_users} пользователей ({percent_user}%)')"
   ]
  },
  {
   "cell_type": "markdown",
   "id": "b1fa00a3",
   "metadata": {},
   "source": [
    "<div class=\"alert alert-info\"> Потеряли совсем незначительный процент данных, значит действительно может отбросить события за первую неделю."
   ]
  },
  {
   "cell_type": "markdown",
   "id": "c6bd1d5d",
   "metadata": {},
   "source": [
    "7. Проверим, что у нас есть пользователи из всех трёх экспериментальных групп."
   ]
  },
  {
   "cell_type": "code",
   "execution_count": 18,
   "id": "b416d166",
   "metadata": {},
   "outputs": [
    {
     "data": {
      "image/png": "[encoded data removed]",
      "text/plain": [
       "<Figure size 432x432 with 1 Axes>"
      ]
     },
     "metadata": {},
     "output_type": "display_data"
    }
   ],
   "source": [
    "grouped_data = data.groupby('exp_id')['device_id'].nunique().reset_index()\n",
    "grouped_data.columns = ['exp_id', 'num_users']\n",
    "\n",
    "plt.figure(figsize=(6, 6))\n",
    "plt.pie(grouped_data['num_users'], labels=grouped_data['exp_id'], autopct='%1.1f%%', startangle=90, textprops={'color': 'black'}, colors=colors)\n",
    "\n",
    "plt.title('Количество пользователей по группам', fontsize=16)\n",
    "\n",
    "plt.axis('equal') \n",
    "plt.show()"
   ]
  },
  {
   "cell_type": "markdown",
   "id": "68ae0831",
   "metadata": {},
   "source": [
    "<div class=\"alert alert-info\">По графику видно, что в данных есть пользователи с каждой из трех групп, причем они распределены почти равномерно (~33% в каждой группе)"
   ]
  },
  {
   "cell_type": "markdown",
   "id": "a20a378d",
   "metadata": {},
   "source": [
    "<div class=\"alert alert-info\">\n",
    "<b>Выводы по 2 шагу:</b>\n",
    "    \n",
    "- Всего 243713 событий и 7551 пользователь\n",
    "- В среднем 20 событий приходится на 1 пользователя\n",
    "- Отбросили данные за 1 неделю (с 25 по 31 июля), так как в них было слишком мало событий. При этом потеряли около 1% событий и 0.2% пользователей\n",
    "- Анализируемый период: с 1 по 7 августа\n",
    "- Проверили, что в данных есть пользователи с каждой из трех групп и они распределены почти равномерно (~33% в каждой группе)"
   ]
  },
  {
   "cell_type": "markdown",
   "id": "65b64bf1",
   "metadata": {},
   "source": [
    "### Шаг 3. Изучение воронки событий"
   ]
  },
  {
   "cell_type": "markdown",
   "id": "6807fce0",
   "metadata": {},
   "source": [
    "1. Посмотрим, какие события есть в логах и как часто они встречаются"
   ]
  },
  {
   "cell_type": "code",
   "execution_count": 19,
   "id": "9cfb274f",
   "metadata": {
    "scrolled": true
   },
   "outputs": [
    {
     "data": {
      "text/html": [
       "<div>\n",
       "<style scoped>\n",
       "    .dataframe tbody tr th:only-of-type {\n",
       "        vertical-align: middle;\n",
       "    }\n",
       "\n",
       "    .dataframe tbody tr th {\n",
       "        vertical-align: top;\n",
       "    }\n",
       "\n",
       "    .dataframe thead th {\n",
       "        text-align: right;\n",
       "    }\n",
       "</style>\n",
       "<table border=\"1\" class=\"dataframe\">\n",
       "  <thead>\n",
       "    <tr style=\"text-align: right;\">\n",
       "      <th></th>\n",
       "      <th>event_name</th>\n",
       "      <th>frequency</th>\n",
       "    </tr>\n",
       "  </thead>\n",
       "  <tbody>\n",
       "    <tr>\n",
       "      <th>0</th>\n",
       "      <td>MainScreenAppear</td>\n",
       "      <td>117328</td>\n",
       "    </tr>\n",
       "    <tr>\n",
       "      <th>1</th>\n",
       "      <td>OffersScreenAppear</td>\n",
       "      <td>46333</td>\n",
       "    </tr>\n",
       "    <tr>\n",
       "      <th>2</th>\n",
       "      <td>CartScreenAppear</td>\n",
       "      <td>42303</td>\n",
       "    </tr>\n",
       "    <tr>\n",
       "      <th>3</th>\n",
       "      <td>PaymentScreenSuccessful</td>\n",
       "      <td>33918</td>\n",
       "    </tr>\n",
       "    <tr>\n",
       "      <th>4</th>\n",
       "      <td>Tutorial</td>\n",
       "      <td>1005</td>\n",
       "    </tr>\n",
       "  </tbody>\n",
       "</table>\n",
       "</div>"
      ],
      "text/plain": [
       "                event_name  frequency\n",
       "0         MainScreenAppear     117328\n",
       "1       OffersScreenAppear      46333\n",
       "2         CartScreenAppear      42303\n",
       "3  PaymentScreenSuccessful      33918\n",
       "4                 Tutorial       1005"
      ]
     },
     "execution_count": 19,
     "metadata": {},
     "output_type": "execute_result"
    }
   ],
   "source": [
    "data_events = data['event_name'].value_counts().reset_index()\n",
    "data_events.columns = ['event_name', 'frequency']\n",
    "data_events = data_events.sort_values(by='frequency', ascending=False)\n",
    "data_events"
   ]
  },
  {
   "cell_type": "code",
   "execution_count": 20,
   "id": "586508f4",
   "metadata": {},
   "outputs": [
    {
     "data": {
      "image/png": "[encoded data removed]",
      "text/plain": [
       "<Figure size 720x360 with 1 Axes>"
      ]
     },
     "metadata": {
      "needs_background": "light"
     },
     "output_type": "display_data"
    }
   ],
   "source": [
    "plt.figure(figsize=(10, 5))\n",
    "sns.barplot(data=data_events, x='event_name', y='frequency', palette=colors)\n",
    "\n",
    "plt.title('События в логах', fontsize=16)\n",
    "plt.xlabel('События', fontsize=12)\n",
    "plt.ylabel('Частота встречаемости', fontsize=12)\n",
    "\n",
    "plt.show()"
   ]
  },
  {
   "cell_type": "markdown",
   "id": "5060aec2",
   "metadata": {},
   "source": [
    "<div class=\"alert alert-info\">События MainScreenAppear встречаются чаще всего (около 120 тысяч). Их количество почти в 3 раза больше чем событий OffersScreenAppear, CartScreenAppear и PaymentScreenSuccessful, который примерно одинаково (46, 42 и 34 тысячи). Количество событий Tutorial совсем незначительно - 1005."
   ]
  },
  {
   "cell_type": "markdown",
   "id": "a374253c",
   "metadata": {},
   "source": [
    "2. Посчитаем, сколько пользователей совершали каждое из этих событий"
   ]
  },
  {
   "cell_type": "code",
   "execution_count": 21,
   "id": "aae39d80",
   "metadata": {},
   "outputs": [
    {
     "data": {
      "text/html": [
       "<div>\n",
       "<style scoped>\n",
       "    .dataframe tbody tr th:only-of-type {\n",
       "        vertical-align: middle;\n",
       "    }\n",
       "\n",
       "    .dataframe tbody tr th {\n",
       "        vertical-align: top;\n",
       "    }\n",
       "\n",
       "    .dataframe thead th {\n",
       "        text-align: right;\n",
       "    }\n",
       "</style>\n",
       "<table border=\"1\" class=\"dataframe\">\n",
       "  <thead>\n",
       "    <tr style=\"text-align: right;\">\n",
       "      <th></th>\n",
       "      <th>event_name</th>\n",
       "      <th>num_users</th>\n",
       "      <th>user_proportion</th>\n",
       "    </tr>\n",
       "  </thead>\n",
       "  <tbody>\n",
       "    <tr>\n",
       "      <th>0</th>\n",
       "      <td>MainScreenAppear</td>\n",
       "      <td>7419</td>\n",
       "      <td>0.98</td>\n",
       "    </tr>\n",
       "    <tr>\n",
       "      <th>1</th>\n",
       "      <td>OffersScreenAppear</td>\n",
       "      <td>4593</td>\n",
       "      <td>0.61</td>\n",
       "    </tr>\n",
       "    <tr>\n",
       "      <th>2</th>\n",
       "      <td>CartScreenAppear</td>\n",
       "      <td>3734</td>\n",
       "      <td>0.50</td>\n",
       "    </tr>\n",
       "    <tr>\n",
       "      <th>3</th>\n",
       "      <td>PaymentScreenSuccessful</td>\n",
       "      <td>3539</td>\n",
       "      <td>0.47</td>\n",
       "    </tr>\n",
       "    <tr>\n",
       "      <th>4</th>\n",
       "      <td>Tutorial</td>\n",
       "      <td>840</td>\n",
       "      <td>0.11</td>\n",
       "    </tr>\n",
       "  </tbody>\n",
       "</table>\n",
       "</div>"
      ],
      "text/plain": [
       "                event_name  num_users  user_proportion\n",
       "0         MainScreenAppear       7419             0.98\n",
       "1       OffersScreenAppear       4593             0.61\n",
       "2         CartScreenAppear       3734             0.50\n",
       "3  PaymentScreenSuccessful       3539             0.47\n",
       "4                 Tutorial        840             0.11"
      ]
     },
     "execution_count": 21,
     "metadata": {},
     "output_type": "execute_result"
    }
   ],
   "source": [
    "users_per_event = data.groupby('event_name')['device_id'].nunique().reset_index()\n",
    "users_per_event.columns = ['event_name', 'num_users']\n",
    "users_per_event = users_per_event.sort_values(by='num_users', ascending=False).reset_index(drop=True)\n",
    "\n",
    "total_users = data['device_id'].nunique()\n",
    "users_per_event['user_proportion'] = round(users_per_event['num_users'] / total_users,2)\n",
    "\n",
    "users_per_event"
   ]
  },
  {
   "cell_type": "code",
   "execution_count": 22,
   "id": "e3b3a72d",
   "metadata": {},
   "outputs": [
    {
     "data": {
      "image/png": "[encoded data removed]",
      "text/plain": [
       "<Figure size 432x432 with 1 Axes>"
      ]
     },
     "metadata": {},
     "output_type": "display_data"
    }
   ],
   "source": [
    "plt.figure(figsize=(6, 6))\n",
    "plt.pie(users_per_event['num_users'], labels=users_per_event['event_name'], autopct='%1.1f%%', \n",
    "        startangle=90, colors=colors, textprops={'color': 'black'})\n",
    "\n",
    "plt.title('Количество пользователей в событиях', fontsize=16, pad=25)\n",
    "\n",
    "plt.axis('equal') \n",
    "plt.show()"
   ]
  },
  {
   "cell_type": "markdown",
   "id": "8a271801",
   "metadata": {},
   "source": [
    "Предположим, в каком порядке происходят события"
   ]
  },
  {
   "cell_type": "markdown",
   "id": "47cca06a",
   "metadata": {},
   "source": [
    "<div class=\"alert alert-info\">Скорее всего события происходят в таком порядке:\n",
    "    \n",
    "<br>1) MainScreenAppear (открываем главную страницу)\n",
    "\n",
    "2) OffersScreenAppear (выбираем товары на странице каталога)\n",
    "\n",
    "3) CartScreenAppear (открываем корзину с выбранными товарами)\n",
    "\n",
    "4) PaymentScreenSuccessful (оплачиваем заказ)\n",
    "\n",
    "<br>Tutorial может происходить между любыми, указанными выше событиями, и не является обязательным для пользователей. Об этом говорит и его доля, всего 4% пользователей переходят на эту страницу. Таким образом не будем включать данное событие в воронку событий."
   ]
  },
  {
   "cell_type": "markdown",
   "id": "e13ab499",
   "metadata": {},
   "source": [
    "3. Посчитаем, какая доля пользователей проходит на следующий шаг воронки"
   ]
  },
  {
   "cell_type": "code",
   "execution_count": 23,
   "id": "9eef3644",
   "metadata": {},
   "outputs": [
    {
     "data": {
      "text/html": [
       "<div>\n",
       "<style scoped>\n",
       "    .dataframe tbody tr th:only-of-type {\n",
       "        vertical-align: middle;\n",
       "    }\n",
       "\n",
       "    .dataframe tbody tr th {\n",
       "        vertical-align: top;\n",
       "    }\n",
       "\n",
       "    .dataframe thead th {\n",
       "        text-align: right;\n",
       "    }\n",
       "</style>\n",
       "<table border=\"1\" class=\"dataframe\">\n",
       "  <thead>\n",
       "    <tr style=\"text-align: right;\">\n",
       "      <th></th>\n",
       "      <th>event_name</th>\n",
       "      <th>num_users</th>\n",
       "      <th>user_proportion</th>\n",
       "    </tr>\n",
       "  </thead>\n",
       "  <tbody>\n",
       "    <tr>\n",
       "      <th>0</th>\n",
       "      <td>MainScreenAppear</td>\n",
       "      <td>7419</td>\n",
       "      <td>0.98</td>\n",
       "    </tr>\n",
       "    <tr>\n",
       "      <th>1</th>\n",
       "      <td>OffersScreenAppear</td>\n",
       "      <td>4593</td>\n",
       "      <td>0.61</td>\n",
       "    </tr>\n",
       "    <tr>\n",
       "      <th>2</th>\n",
       "      <td>CartScreenAppear</td>\n",
       "      <td>3734</td>\n",
       "      <td>0.50</td>\n",
       "    </tr>\n",
       "    <tr>\n",
       "      <th>3</th>\n",
       "      <td>PaymentScreenSuccessful</td>\n",
       "      <td>3539</td>\n",
       "      <td>0.47</td>\n",
       "    </tr>\n",
       "  </tbody>\n",
       "</table>\n",
       "</div>"
      ],
      "text/plain": [
       "                event_name  num_users  user_proportion\n",
       "0         MainScreenAppear       7419             0.98\n",
       "1       OffersScreenAppear       4593             0.61\n",
       "2         CartScreenAppear       3734             0.50\n",
       "3  PaymentScreenSuccessful       3539             0.47"
      ]
     },
     "execution_count": 23,
     "metadata": {},
     "output_type": "execute_result"
    }
   ],
   "source": [
    "users_per_event = users_per_event.iloc[:-1]\n",
    "users_per_event"
   ]
  },
  {
   "cell_type": "code",
   "execution_count": 24,
   "id": "3b5c7758",
   "metadata": {
    "scrolled": true
   },
   "outputs": [
    {
     "data": {
      "text/html": [
       "<div>\n",
       "<style scoped>\n",
       "    .dataframe tbody tr th:only-of-type {\n",
       "        vertical-align: middle;\n",
       "    }\n",
       "\n",
       "    .dataframe tbody tr th {\n",
       "        vertical-align: top;\n",
       "    }\n",
       "\n",
       "    .dataframe thead th {\n",
       "        text-align: right;\n",
       "    }\n",
       "</style>\n",
       "<table border=\"1\" class=\"dataframe\">\n",
       "  <thead>\n",
       "    <tr style=\"text-align: right;\">\n",
       "      <th></th>\n",
       "      <th>event_name</th>\n",
       "      <th>num_users</th>\n",
       "      <th>user_proportion</th>\n",
       "      <th>conversion</th>\n",
       "    </tr>\n",
       "  </thead>\n",
       "  <tbody>\n",
       "    <tr>\n",
       "      <th>0</th>\n",
       "      <td>MainScreenAppear</td>\n",
       "      <td>7419</td>\n",
       "      <td>0.98</td>\n",
       "      <td>NaN</td>\n",
       "    </tr>\n",
       "    <tr>\n",
       "      <th>1</th>\n",
       "      <td>OffersScreenAppear</td>\n",
       "      <td>4593</td>\n",
       "      <td>0.61</td>\n",
       "      <td>61.9</td>\n",
       "    </tr>\n",
       "    <tr>\n",
       "      <th>2</th>\n",
       "      <td>CartScreenAppear</td>\n",
       "      <td>3734</td>\n",
       "      <td>0.50</td>\n",
       "      <td>81.3</td>\n",
       "    </tr>\n",
       "    <tr>\n",
       "      <th>3</th>\n",
       "      <td>PaymentScreenSuccessful</td>\n",
       "      <td>3539</td>\n",
       "      <td>0.47</td>\n",
       "      <td>94.8</td>\n",
       "    </tr>\n",
       "  </tbody>\n",
       "</table>\n",
       "</div>"
      ],
      "text/plain": [
       "                event_name  num_users  user_proportion  conversion\n",
       "0         MainScreenAppear       7419             0.98         NaN\n",
       "1       OffersScreenAppear       4593             0.61        61.9\n",
       "2         CartScreenAppear       3734             0.50        81.3\n",
       "3  PaymentScreenSuccessful       3539             0.47        94.8"
      ]
     },
     "execution_count": 24,
     "metadata": {},
     "output_type": "execute_result"
    }
   ],
   "source": [
    "next_step_users = users_per_event['num_users'].shift(1)\n",
    "\n",
    "conversion = round(users_per_event['num_users']/next_step_users*100,1)\n",
    "users_per_event['conversion'] = conversion.values\n",
    "\n",
    "users_per_event"
   ]
  },
  {
   "cell_type": "code",
   "execution_count": 25,
   "id": "5c789a09",
   "metadata": {},
   "outputs": [
    {
     "data": {
      "image/png": "[encoded data removed]",
      "text/plain": [
       "<Figure size 720x360 with 1 Axes>"
      ]
     },
     "metadata": {
      "needs_background": "light"
     },
     "output_type": "display_data"
    }
   ],
   "source": [
    "plt.figure(figsize=(10, 5))\n",
    "sns.barplot(data=users_per_event, x='event_name', y='num_users', palette=colors)\n",
    "\n",
    "plt.title('Воронка событий', fontsize=16)\n",
    "plt.xlabel('События', fontsize=12)\n",
    "plt.ylabel('Количество пользователей', fontsize=12)\n",
    "\n",
    "plt.show()"
   ]
  },
  {
   "cell_type": "markdown",
   "id": "8d832a3e",
   "metadata": {},
   "source": [
    "<div class=\"alert alert-info\">На переходе от главного экрана к каталогу теряется больше всего пользователей, около 38%. При переходе от корзине к оплате теряется меньше всего - 5% пользователей, а от каталога к корзине - около 20%."
   ]
  },
  {
   "cell_type": "markdown",
   "id": "a254499b",
   "metadata": {},
   "source": [
    "4. Посмотрим, какая доля пользователей доходит от первого события до оплаты"
   ]
  },
  {
   "cell_type": "code",
   "execution_count": 26,
   "id": "ea049575",
   "metadata": {},
   "outputs": [
    {
     "name": "stdout",
     "output_type": "stream",
     "text": [
      "От первого события до оплаты доходит 47.7% пользователей\n"
     ]
    }
   ],
   "source": [
    "share = round(users_per_event['num_users'][3] / users_per_event['num_users'][0]*100,1)\n",
    "print(f'От первого события до оплаты доходит {share}% пользователей')"
   ]
  },
  {
   "cell_type": "markdown",
   "id": "a6286848",
   "metadata": {},
   "source": [
    "<div class=\"alert alert-info\">Таким образом, до оплаты доходит меньше половины всех пользователей, посетивших главную страницу"
   ]
  },
  {
   "cell_type": "markdown",
   "id": "6ae55ff2",
   "metadata": {},
   "source": [
    "<div class=\"alert alert-info\">\n",
    "<b>Выводы по 3 шагу:</b>\n",
    "    \n",
    "- События MainScreenAppear встречаются чаще всего - около 120 тысяч, что в примерно в 3 раза больше, чем событий OffersScreenAppear, CartScreenAppear и PaymentScreenSuccessful. Событий Tutorial очень мало - около 1 тысячи.\n",
    "- Выделили воронку событий:\n",
    "    - MainScreenAppear \n",
    "    - OffersScreenAppear \n",
    "    - CartScreenAppear \n",
    "    - PaymentScreenSuccessful\n",
    "События Tutorial не вошли в воронку.\n",
    "- Проанализировали доли в воронке событий:\n",
    "    - От события MainScreenAppear к событию OffersScreenAppear проходит 62% пользователей\n",
    "    - От события OffersScreenAppear к событию CartScreenAppear — 81,2% пользователей\n",
    "    - От события CartScreenAppear к событию PaymentScreenSuccessful — 94,7% пользователей\n",
    "    - От первого события до оплаты доходит 47.7% пользователей\n",
    "    \n",
    "Таким образом, больше всего пользователей теряется при переходе с главного экрана к каталогу. Чтобы снизить этот процент, стоит разместить на главную страницу более явное предложение перейти к катологу (например, более красочную и большую кнопку). Также возможно, что главная страница недостаточно хорошо рассказывает пользователям о товарах магазина (в общих чертах) и у них не возникает желания заглянуть в каталог.  "
   ]
  },
  {
   "cell_type": "markdown",
   "id": "be2785bd",
   "metadata": {},
   "source": [
    "### Шаг 4. Изучим результаты эксперимента "
   ]
  },
  {
   "cell_type": "markdown",
   "id": "986f8465",
   "metadata": {},
   "source": [
    "1. Еще раз посмотрим сколько пользователей в каждой экспериментальной группе"
   ]
  },
  {
   "cell_type": "code",
   "execution_count": 27,
   "id": "78aaffa9",
   "metadata": {
    "scrolled": true
   },
   "outputs": [
    {
     "data": {
      "text/html": [
       "<div>\n",
       "<style scoped>\n",
       "    .dataframe tbody tr th:only-of-type {\n",
       "        vertical-align: middle;\n",
       "    }\n",
       "\n",
       "    .dataframe tbody tr th {\n",
       "        vertical-align: top;\n",
       "    }\n",
       "\n",
       "    .dataframe thead th {\n",
       "        text-align: right;\n",
       "    }\n",
       "</style>\n",
       "<table border=\"1\" class=\"dataframe\">\n",
       "  <thead>\n",
       "    <tr style=\"text-align: right;\">\n",
       "      <th></th>\n",
       "      <th>exp_id</th>\n",
       "      <th>num_users</th>\n",
       "    </tr>\n",
       "  </thead>\n",
       "  <tbody>\n",
       "    <tr>\n",
       "      <th>0</th>\n",
       "      <td>246</td>\n",
       "      <td>2484</td>\n",
       "    </tr>\n",
       "    <tr>\n",
       "      <th>1</th>\n",
       "      <td>247</td>\n",
       "      <td>2513</td>\n",
       "    </tr>\n",
       "    <tr>\n",
       "      <th>2</th>\n",
       "      <td>248</td>\n",
       "      <td>2537</td>\n",
       "    </tr>\n",
       "  </tbody>\n",
       "</table>\n",
       "</div>"
      ],
      "text/plain": [
       "   exp_id  num_users\n",
       "0     246       2484\n",
       "1     247       2513\n",
       "2     248       2537"
      ]
     },
     "execution_count": 27,
     "metadata": {},
     "output_type": "execute_result"
    }
   ],
   "source": [
    "grouped_data"
   ]
  },
  {
   "cell_type": "markdown",
   "id": "b5e315e7",
   "metadata": {},
   "source": [
    "2. Проверим, находят ли статистические критерии разницу между выборками 246 и 247 (проведем А/А-эксперимента)"
   ]
  },
  {
   "cell_type": "markdown",
   "id": "8a333aec",
   "metadata": {},
   "source": [
    "H0: Среди среднего количества пользователей групп 246 и 247 нет различий\n",
    "\n",
    "H1: Среди среднего количества пользователей групп 246 и 247 есть различия"
   ]
  },
  {
   "cell_type": "code",
   "execution_count": 28,
   "id": "7e2f3cab",
   "metadata": {},
   "outputs": [],
   "source": [
    "t1 = data.query('exp_id == 246')\n",
    "t2 = data.query('exp_id == 247')\n",
    "t3 = data.query('exp_id == 248')"
   ]
  },
  {
   "cell_type": "code",
   "execution_count": 29,
   "id": "c5ccef46",
   "metadata": {},
   "outputs": [
    {
     "name": "stdout",
     "output_type": "stream",
     "text": [
      "p-значение для сравнения групп 246 и 247: 2.155939166417117e-25\n"
     ]
    }
   ],
   "source": [
    "results_AB = st.ttest_ind(t1['device_id'], t2['device_id'])\n",
    "print('p-значение для сравнения групп 246 и 247:', results_AB.pvalue)"
   ]
  },
  {
   "cell_type": "markdown",
   "id": "1cb1a731",
   "metadata": {},
   "source": [
    "<div class=\"alert alert-info\">Отвергнуть нулевую гипотезу не можем: различие ключевых метрик по группам не превышает 1% и не имеет статистической значимости. Таким образом, мы можем быть уверены в точности дальнейшего тестирования."
   ]
  },
  {
   "cell_type": "markdown",
   "id": "4a48400e",
   "metadata": {},
   "source": [
    "3. Выберем самое популярное событие в каждой из контрольных групп."
   ]
  },
  {
   "cell_type": "code",
   "execution_count": 30,
   "id": "3d783949",
   "metadata": {},
   "outputs": [
    {
     "data": {
      "text/html": [
       "<div>\n",
       "<style scoped>\n",
       "    .dataframe tbody tr th:only-of-type {\n",
       "        vertical-align: middle;\n",
       "    }\n",
       "\n",
       "    .dataframe tbody tr th {\n",
       "        vertical-align: top;\n",
       "    }\n",
       "\n",
       "    .dataframe thead th {\n",
       "        text-align: right;\n",
       "    }\n",
       "</style>\n",
       "<table border=\"1\" class=\"dataframe\">\n",
       "  <thead>\n",
       "    <tr style=\"text-align: right;\">\n",
       "      <th></th>\n",
       "      <th>event_name</th>\n",
       "      <th>num_users</th>\n",
       "      <th>user_proportion</th>\n",
       "    </tr>\n",
       "  </thead>\n",
       "  <tbody>\n",
       "    <tr>\n",
       "      <th>0</th>\n",
       "      <td>MainScreenAppear</td>\n",
       "      <td>2450</td>\n",
       "      <td>0.99</td>\n",
       "    </tr>\n",
       "    <tr>\n",
       "      <th>1</th>\n",
       "      <td>OffersScreenAppear</td>\n",
       "      <td>1542</td>\n",
       "      <td>0.62</td>\n",
       "    </tr>\n",
       "    <tr>\n",
       "      <th>2</th>\n",
       "      <td>CartScreenAppear</td>\n",
       "      <td>1266</td>\n",
       "      <td>0.51</td>\n",
       "    </tr>\n",
       "    <tr>\n",
       "      <th>3</th>\n",
       "      <td>PaymentScreenSuccessful</td>\n",
       "      <td>1200</td>\n",
       "      <td>0.48</td>\n",
       "    </tr>\n",
       "    <tr>\n",
       "      <th>4</th>\n",
       "      <td>Tutorial</td>\n",
       "      <td>278</td>\n",
       "      <td>0.11</td>\n",
       "    </tr>\n",
       "  </tbody>\n",
       "</table>\n",
       "</div>"
      ],
      "text/plain": [
       "                event_name  num_users  user_proportion\n",
       "0         MainScreenAppear       2450             0.99\n",
       "1       OffersScreenAppear       1542             0.62\n",
       "2         CartScreenAppear       1266             0.51\n",
       "3  PaymentScreenSuccessful       1200             0.48\n",
       "4                 Tutorial        278             0.11"
      ]
     },
     "execution_count": 30,
     "metadata": {},
     "output_type": "execute_result"
    }
   ],
   "source": [
    "t1_per_event = t1.groupby('event_name')['device_id'].nunique().reset_index()\n",
    "t1_per_event.columns = ['event_name', 'num_users']\n",
    "t1_per_event = t1_per_event.sort_values(by='num_users', ascending=False).reset_index(drop=True)\n",
    "\n",
    "total_users = t1['device_id'].nunique()\n",
    "t1_per_event['user_proportion'] = round(t1_per_event['num_users'] / total_users,2)\n",
    "\n",
    "t1_per_event"
   ]
  },
  {
   "cell_type": "code",
   "execution_count": 31,
   "id": "d0c6ebb1",
   "metadata": {
    "scrolled": true
   },
   "outputs": [
    {
     "data": {
      "text/html": [
       "<div>\n",
       "<style scoped>\n",
       "    .dataframe tbody tr th:only-of-type {\n",
       "        vertical-align: middle;\n",
       "    }\n",
       "\n",
       "    .dataframe tbody tr th {\n",
       "        vertical-align: top;\n",
       "    }\n",
       "\n",
       "    .dataframe thead th {\n",
       "        text-align: right;\n",
       "    }\n",
       "</style>\n",
       "<table border=\"1\" class=\"dataframe\">\n",
       "  <thead>\n",
       "    <tr style=\"text-align: right;\">\n",
       "      <th></th>\n",
       "      <th>event_name</th>\n",
       "      <th>num_users</th>\n",
       "      <th>user_proportion</th>\n",
       "    </tr>\n",
       "  </thead>\n",
       "  <tbody>\n",
       "    <tr>\n",
       "      <th>0</th>\n",
       "      <td>MainScreenAppear</td>\n",
       "      <td>2476</td>\n",
       "      <td>0.97</td>\n",
       "    </tr>\n",
       "    <tr>\n",
       "      <th>1</th>\n",
       "      <td>OffersScreenAppear</td>\n",
       "      <td>1520</td>\n",
       "      <td>0.61</td>\n",
       "    </tr>\n",
       "    <tr>\n",
       "      <th>2</th>\n",
       "      <td>CartScreenAppear</td>\n",
       "      <td>1238</td>\n",
       "      <td>0.50</td>\n",
       "    </tr>\n",
       "    <tr>\n",
       "      <th>3</th>\n",
       "      <td>PaymentScreenSuccessful</td>\n",
       "      <td>1158</td>\n",
       "      <td>0.48</td>\n",
       "    </tr>\n",
       "    <tr>\n",
       "      <th>4</th>\n",
       "      <td>Tutorial</td>\n",
       "      <td>283</td>\n",
       "      <td>0.11</td>\n",
       "    </tr>\n",
       "  </tbody>\n",
       "</table>\n",
       "</div>"
      ],
      "text/plain": [
       "                event_name  num_users  user_proportion\n",
       "0         MainScreenAppear       2476             0.97\n",
       "1       OffersScreenAppear       1520             0.61\n",
       "2         CartScreenAppear       1238             0.50\n",
       "3  PaymentScreenSuccessful       1158             0.48\n",
       "4                 Tutorial        283             0.11"
      ]
     },
     "execution_count": 31,
     "metadata": {},
     "output_type": "execute_result"
    }
   ],
   "source": [
    "t2_per_event = t2.groupby('event_name')['device_id'].nunique().reset_index()\n",
    "t2_per_event.columns = ['event_name', 'num_users']\n",
    "t2_per_event = t2_per_event.sort_values(by='num_users', ascending=False).reset_index(drop=True)\n",
    "\n",
    "total_users = t2['device_id'].nunique()\n",
    "t2_per_event['user_proportion'] = round(t1_per_event['num_users'] / total_users,2)\n",
    "\n",
    "t2_per_event"
   ]
  },
  {
   "cell_type": "markdown",
   "id": "50a5a1f3",
   "metadata": {},
   "source": [
    "<div class=\"alert alert-info\"> Самым популярным событием в обеих контрольных группах является открытие главного экрана: 99% и 97% пользователей совершают это событие в 246 и 247 группах соответственно."
   ]
  },
  {
   "cell_type": "markdown",
   "id": "95dd5998",
   "metadata": {},
   "source": [
    "4. Проверим, будет ли отличие между группами 246 и 247 статистически достоверным."
   ]
  },
  {
   "cell_type": "markdown",
   "id": "cd5b7fe6",
   "metadata": {},
   "source": [
    "H0: Среди долей пользователей групп 246 и 247 нет различий\n",
    "\n",
    "H1: Среди долей пользователей групп 246 и 247 есть различия"
   ]
  },
  {
   "cell_type": "code",
   "execution_count": 32,
   "id": "2b1edcc5",
   "metadata": {},
   "outputs": [],
   "source": [
    "def stat_test(g1, g2, event):\n",
    "    \n",
    "    t1 = g1.groupby('event_name')['device_id'].nunique().reset_index().sort_values(by='device_id', ascending=False)\n",
    "    t2 = g2.groupby('event_name')['device_id'].nunique().reset_index().sort_values(by='device_id', ascending=False)\n",
    "    \n",
    "    trial = t1['device_id'].sum()\n",
    "    succes = t1.query('event_name == @event')['device_id']\n",
    "\n",
    "    trial2 = t2['device_id'].sum()\n",
    "    succes2 = t2.query('event_name == @event')['device_id']\n",
    "    \n",
    "    shidak = 1 - (1 - 0.05)**(1/16)\n",
    "\n",
    "    successes = np.array([succes, succes2])\n",
    "    trials = np.array([trial, trial2])\n",
    "    \n",
    "    p1 = successes[0]/trials[0]\n",
    "    p2 = successes[1]/trials[1]\n",
    "    \n",
    "    p_combined = (successes[0] + successes[1]) / (trials[0] + trials[1])\n",
    "    \n",
    "    difference = p1 - p2 \n",
    "    \n",
    "    z_value = difference / mth.sqrt(p_combined * (1 - p_combined) * (1/trials[0] + 1/trials[1]))\n",
    "    distr = st.norm(0, 1) \n",
    "    p_value = (1 - distr.cdf(abs(z_value))) * 2\n",
    "    \n",
    "    print('p-значение: ', p_value)\n",
    "    \n",
    "    if p_value < shidak:\n",
    "        print('Отвергаем нулевую гипотезу: между долями есть значимая разница')\n",
    "    else:\n",
    "        print(\n",
    "            'Не получилось отвергнуть нулевую гипотезу, нет оснований считать доли разными'\n",
    "        )"
   ]
  },
  {
   "cell_type": "code",
   "execution_count": 33,
   "id": "0706c6e0",
   "metadata": {},
   "outputs": [],
   "source": [
    "def test(group1, group2, event1, event2, event3, event4):\n",
    "    print(f'Разница в {event1}:')\n",
    "    stat_test(group1, group2, event1)\n",
    "    print(f'\\nРазница в {event2}:')\n",
    "    stat_test(group1, group2, event2)\n",
    "    print(f'\\nРазница в {event3}:')\n",
    "    stat_test(group1, group2, event3)\n",
    "    print(f'\\nРазница в {event4}:')\n",
    "    stat_test(group1, group2, event4)"
   ]
  },
  {
   "cell_type": "code",
   "execution_count": 34,
   "id": "e61555a6",
   "metadata": {},
   "outputs": [
    {
     "data": {
      "text/plain": [
       "array(['Tutorial', 'MainScreenAppear', 'OffersScreenAppear',\n",
       "       'PaymentScreenSuccessful', 'CartScreenAppear'], dtype=object)"
      ]
     },
     "execution_count": 34,
     "metadata": {},
     "output_type": "execute_result"
    }
   ],
   "source": [
    "t1['event_name'].unique()"
   ]
  },
  {
   "cell_type": "code",
   "execution_count": 35,
   "id": "e170df7b",
   "metadata": {},
   "outputs": [
    {
     "name": "stdout",
     "output_type": "stream",
     "text": [
      "Разница в MainScreenAppear:\n",
      "p-значение:  [0.38589665]\n",
      "Не получилось отвергнуть нулевую гипотезу, нет оснований считать доли разными\n",
      "\n",
      "Разница в OffersScreenAppear:\n",
      "p-значение:  [0.86810218]\n",
      "Не получилось отвергнуть нулевую гипотезу, нет оснований считать доли разными\n",
      "\n",
      "Разница в PaymentScreenSuccessful:\n",
      "p-значение:  [0.47805195]\n",
      "Не получилось отвергнуть нулевую гипотезу, нет оснований считать доли разными\n",
      "\n",
      "Разница в CartScreenAppear:\n",
      "p-значение:  [0.71280924]\n",
      "Не получилось отвергнуть нулевую гипотезу, нет оснований считать доли разными\n"
     ]
    }
   ],
   "source": [
    "test(t1, t2, 'MainScreenAppear', 'OffersScreenAppear', 'PaymentScreenSuccessful', 'CartScreenAppear')"
   ]
  },
  {
   "cell_type": "markdown",
   "id": "e2096f54",
   "metadata": {},
   "source": [
    "<div class=\"alert alert-info\">Мы посмотрели на доли пользователей каждого события. Все тесты показали, что статистически значимых различий в долях пользователей среди групп 246 и 247 нет. Следовательно разбиение на группы работает корректно."
   ]
  },
  {
   "cell_type": "markdown",
   "id": "a220bff3",
   "metadata": {},
   "source": [
    "5. Проверим различия в долях с группой с изменённым шрифтом (248) и группой 246."
   ]
  },
  {
   "cell_type": "code",
   "execution_count": 36,
   "id": "95bffe76",
   "metadata": {},
   "outputs": [
    {
     "name": "stdout",
     "output_type": "stream",
     "text": [
      "Разница в MainScreenAppear:\n",
      "p-значение:  [0.360908]\n",
      "Не получилось отвергнуть нулевую гипотезу, нет оснований считать доли разными\n",
      "\n",
      "Разница в OffersScreenAppear:\n",
      "p-значение:  [0.90236007]\n",
      "Не получилось отвергнуть нулевую гипотезу, нет оснований считать доли разными\n",
      "\n",
      "Разница в PaymentScreenSuccessful:\n",
      "p-значение:  [0.73292237]\n",
      "Не получилось отвергнуть нулевую гипотезу, нет оснований считать доли разными\n",
      "\n",
      "Разница в CartScreenAppear:\n",
      "p-значение:  [0.47899965]\n",
      "Не получилось отвергнуть нулевую гипотезу, нет оснований считать доли разными\n"
     ]
    }
   ],
   "source": [
    "test(t1, t3, 'MainScreenAppear', 'OffersScreenAppear', 'PaymentScreenSuccessful', 'CartScreenAppear')"
   ]
  },
  {
   "cell_type": "markdown",
   "id": "d0a63d53",
   "metadata": {},
   "source": [
    "<div class=\"alert alert-info\">Все тесты показали, что статистически значимых различий в долях пользователей среди групп 246 и 248 нет."
   ]
  },
  {
   "cell_type": "markdown",
   "id": "c149fff3",
   "metadata": {},
   "source": [
    "6. Проверим различия в долях с группой 248 и группой 247."
   ]
  },
  {
   "cell_type": "code",
   "execution_count": 37,
   "id": "248d6605",
   "metadata": {},
   "outputs": [
    {
     "name": "stdout",
     "output_type": "stream",
     "text": [
      "Разница в MainScreenAppear:\n",
      "p-значение:  [0.96395635]\n",
      "Не получилось отвергнуть нулевую гипотезу, нет оснований считать доли разными\n",
      "\n",
      "Разница в OffersScreenAppear:\n",
      "p-значение:  [0.96527644]\n",
      "Не получилось отвергнуть нулевую гипотезу, нет оснований считать доли разными\n",
      "\n",
      "Разница в PaymentScreenSuccessful:\n",
      "p-значение:  [0.7125605]\n",
      "Не получилось отвергнуть нулевую гипотезу, нет оснований считать доли разными\n",
      "\n",
      "Разница в CartScreenAppear:\n",
      "p-значение:  [0.73496329]\n",
      "Не получилось отвергнуть нулевую гипотезу, нет оснований считать доли разными\n"
     ]
    }
   ],
   "source": [
    "test(t2, t3, 'MainScreenAppear', 'OffersScreenAppear', 'PaymentScreenSuccessful', 'CartScreenAppear')"
   ]
  },
  {
   "cell_type": "markdown",
   "id": "54860f02",
   "metadata": {},
   "source": [
    "<div class=\"alert alert-info\">Все тесты показали, что статистически значимых различий в долях пользователей среди групп 247 и 248 нет."
   ]
  },
  {
   "cell_type": "markdown",
   "id": "e5c98a98",
   "metadata": {},
   "source": [
    "7. Проверим различия в долях с группой 248 и объединенной контрольной группой."
   ]
  },
  {
   "cell_type": "code",
   "execution_count": 38,
   "id": "52a2d58e",
   "metadata": {},
   "outputs": [],
   "source": [
    "t12 = data.query('exp_id == 246 | exp_id == 247')"
   ]
  },
  {
   "cell_type": "code",
   "execution_count": 39,
   "id": "987e8d1c",
   "metadata": {},
   "outputs": [
    {
     "name": "stdout",
     "output_type": "stream",
     "text": [
      "Разница в MainScreenAppear:\n",
      "p-значение:  [0.57886627]\n",
      "Не получилось отвергнуть нулевую гипотезу, нет оснований считать доли разными\n",
      "\n",
      "Разница в OffersScreenAppear:\n",
      "p-значение:  [0.96325525]\n",
      "Не получилось отвергнуть нулевую гипотезу, нет оснований считать доли разными\n",
      "\n",
      "Разница в PaymentScreenSuccessful:\n",
      "p-значение:  [0.98944572]\n",
      "Не получилось отвергнуть нулевую гипотезу, нет оснований считать доли разными\n",
      "\n",
      "Разница в CartScreenAppear:\n",
      "p-значение:  [0.54551553]\n",
      "Не получилось отвергнуть нулевую гипотезу, нет оснований считать доли разными\n"
     ]
    }
   ],
   "source": [
    "test(t12, t3, 'MainScreenAppear', 'OffersScreenAppear', 'PaymentScreenSuccessful', 'CartScreenAppear')"
   ]
  },
  {
   "cell_type": "markdown",
   "id": "728e50d0",
   "metadata": {},
   "source": [
    "<div class=\"alert alert-info\">Все тесты показали, что статистически значимых различий в долях пользователей объединенной контрольной группы и группы 248 нет."
   ]
  },
  {
   "cell_type": "markdown",
   "id": "6c5acdbf",
   "metadata": {},
   "source": [
    "<div class=\"alert alert-info\">Таким образом, можно сделать вывод, что изменение шрифтов в приложении не повлияло на поведение пользователей."
   ]
  },
  {
   "cell_type": "markdown",
   "id": "93afc44b",
   "metadata": {},
   "source": [
    "<div class=\"alert alert-info\">\n",
    "<b>Выводы по 4 шагу:</b>\n",
    "    \n",
    "- A/A тест показал, что среднее значение контрольных групп 246 и 247 не различается, следовательно тест проводился корректно.\n",
    "- Статистически значимых различий в долях пользователей среди групп 246 и 247 также нет.\n",
    "- Самым популярным событием в обеих контрольных группах является открытие главного экрана (99% и 97%)\n",
    "- Все A/A/B тесты показали, что различий в долях пользователей среди контрольных и эксперементальной группы нет. Следовательно,изменение шрифтов в приложении не повлияло на поведение пользователей."
   ]
  },
  {
   "cell_type": "markdown",
   "id": "38adb181",
   "metadata": {},
   "source": [
    "<div class=\"alert alert-info\">\n",
    "<b>Общий вывод:</b>\n",
    "    \n",
    "1) Анализируемый период: с 1 по 7 августа\n",
    "    \n",
    "2) Воронка событий:\n",
    "    <br>- MainScreenAppear (открываем главную страницу)\n",
    "    <br>- OffersScreenAppear (выбираем товары на странице каталога)\n",
    "    <br>- CartScreenAppear (открываем корзину с выбранными товарами)\n",
    "    <br>- PaymentScreenSuccessful (оплачиваем заказ)\n",
    "    \n",
    "<br>Событие Tutorial не включаем в воронку событий, так как оно является не обязательным для пользователей, о чем говорит его доля (4%).    \n",
    "\n",
    "<br>3) Воронка событий (доля пользователей):\n",
    "    <br>- От события MainScreenAppear к событию OffersScreenAppear проходит 62% пользователей\n",
    "    <br>- От события OffersScreenAppear к событию CartScreenAppear — 81,2% пользователей \n",
    "    <br>- От события CartScreenAppear к событию PaymentScreenSuccessful — 94,7% пользователей  \n",
    "<br>Больше всего пользователей теряется на шаге от события MainScreenAppear к событию OffersScreenAppear — 38% пользователей, а от первого события до оплаты доходит 47,7% пользователей.\n",
    "    \n",
    "<br>4) А/А/В-тест:\n",
    "<br>Доли пользователей в контрольных группах равны, разбиение на группы работает корректно. Нет статистически значимого различия между контрольными группами и экспериментальной группой с изменённым шрифтом. Таким образом, изменение шрифта не влияет на поведение пользователей.    \n",
    "\n",
    "<br>Так как данные доступны только за 1 неделю, они могут быть не совсем репрезентативны. Стоит собрать данные хотя бы еще за 1 неделю и провести повторный анализ. Однако ожидать, что ситуация сильно изменится и появятся статистически значимые различия между группами, не стоит, так как уже по полученным p_value можно сказать, что различия совсем незначительны."
   ]
  }
 ],
 "metadata": {
  "ExecuteTimeLog": [
   {
    "duration": 1553,
    "start_time": "2024-04-11T10:29:02.720Z"
   },
   {
    "duration": 953,
    "start_time": "2024-04-11T10:29:04.275Z"
   },
   {
    "duration": 4,
    "start_time": "2024-04-11T10:29:05.229Z"
   },
   {
    "duration": 17,
    "start_time": "2024-04-11T10:29:05.235Z"
   },
   {
    "duration": 152,
    "start_time": "2024-04-11T10:29:05.255Z"
   },
   {
    "duration": 80,
    "start_time": "2024-04-11T10:29:05.408Z"
   },
   {
    "duration": 98,
    "start_time": "2024-04-11T10:29:05.489Z"
   },
   {
    "duration": 48,
    "start_time": "2024-04-11T10:29:05.589Z"
   },
   {
    "duration": 5,
    "start_time": "2024-04-11T10:29:05.638Z"
   },
   {
    "duration": 78,
    "start_time": "2024-04-11T10:29:05.644Z"
   },
   {
    "duration": 32,
    "start_time": "2024-04-11T10:29:05.724Z"
   },
   {
    "duration": 41,
    "start_time": "2024-04-11T10:29:05.758Z"
   },
   {
    "duration": 343,
    "start_time": "2024-04-11T10:29:05.801Z"
   },
   {
    "duration": 96,
    "start_time": "2024-04-11T10:29:06.147Z"
   },
   {
    "duration": 11,
    "start_time": "2024-04-11T10:29:06.245Z"
   },
   {
    "duration": 846,
    "start_time": "2024-04-11T10:29:06.272Z"
   },
   {
    "duration": 67,
    "start_time": "2024-04-11T10:29:07.119Z"
   },
   {
    "duration": 169,
    "start_time": "2024-04-11T10:29:07.188Z"
   },
   {
    "duration": 68,
    "start_time": "2024-04-11T10:29:07.358Z"
   },
   {
    "duration": 129,
    "start_time": "2024-04-11T10:29:07.428Z"
   },
   {
    "duration": 31,
    "start_time": "2024-04-11T10:29:07.558Z"
   },
   {
    "duration": 24,
    "start_time": "2024-04-11T10:29:07.590Z"
   },
   {
    "duration": 72,
    "start_time": "2024-04-11T10:29:07.615Z"
   },
   {
    "duration": 4,
    "start_time": "2024-04-11T10:29:07.689Z"
   },
   {
    "duration": 13,
    "start_time": "2024-04-11T10:29:07.695Z"
   },
   {
    "duration": 39,
    "start_time": "2024-04-11T10:29:07.710Z"
   },
   {
    "duration": 7,
    "start_time": "2024-04-11T10:29:07.751Z"
   },
   {
    "duration": 51,
    "start_time": "2024-04-11T10:29:07.760Z"
   },
   {
    "duration": 31,
    "start_time": "2024-04-11T10:29:07.813Z"
   },
   {
    "duration": 7,
    "start_time": "2024-04-11T10:29:07.848Z"
   },
   {
    "duration": 12,
    "start_time": "2024-04-11T10:29:07.873Z"
   },
   {
    "duration": 17,
    "start_time": "2024-04-11T10:29:07.887Z"
   },
   {
    "duration": 158,
    "start_time": "2024-04-11T10:29:07.905Z"
   },
   {
    "duration": 179,
    "start_time": "2024-04-11T10:29:08.064Z"
   },
   {
    "duration": 176,
    "start_time": "2024-04-11T10:29:08.245Z"
   },
   {
    "duration": 17,
    "start_time": "2024-04-11T10:29:08.423Z"
   },
   {
    "duration": 255,
    "start_time": "2024-04-11T10:29:08.442Z"
   },
   {
    "duration": 80,
    "start_time": "2024-04-11T10:38:08.266Z"
   },
   {
    "duration": 71,
    "start_time": "2024-04-11T10:55:38.734Z"
   },
   {
    "duration": 45,
    "start_time": "2024-04-11T12:24:34.517Z"
   },
   {
    "duration": 1312,
    "start_time": "2024-04-11T12:24:38.298Z"
   },
   {
    "duration": 291,
    "start_time": "2024-04-11T12:24:39.612Z"
   },
   {
    "duration": 3,
    "start_time": "2024-04-11T12:24:39.905Z"
   },
   {
    "duration": 13,
    "start_time": "2024-04-11T12:24:39.910Z"
   },
   {
    "duration": 111,
    "start_time": "2024-04-11T12:24:39.924Z"
   },
   {
    "duration": 68,
    "start_time": "2024-04-11T12:24:40.037Z"
   },
   {
    "duration": 90,
    "start_time": "2024-04-11T12:24:40.107Z"
   },
   {
    "duration": 49,
    "start_time": "2024-04-11T12:24:40.199Z"
   },
   {
    "duration": 4,
    "start_time": "2024-04-11T12:24:40.250Z"
   },
   {
    "duration": 23,
    "start_time": "2024-04-11T12:24:40.256Z"
   },
   {
    "duration": 7,
    "start_time": "2024-04-11T12:24:40.281Z"
   },
   {
    "duration": 21,
    "start_time": "2024-04-11T12:24:42.389Z"
   },
   {
    "duration": 18,
    "start_time": "2024-04-11T12:25:44.624Z"
   },
   {
    "duration": 1170,
    "start_time": "2024-04-11T15:57:29.617Z"
   },
   {
    "duration": 178,
    "start_time": "2024-04-11T15:57:30.789Z"
   },
   {
    "duration": 3,
    "start_time": "2024-04-11T15:57:30.969Z"
   },
   {
    "duration": 131,
    "start_time": "2024-04-11T15:57:30.974Z"
   },
   {
    "duration": 153,
    "start_time": "2024-04-11T15:57:31.107Z"
   },
   {
    "duration": 67,
    "start_time": "2024-04-11T15:57:31.261Z"
   },
   {
    "duration": 87,
    "start_time": "2024-04-11T15:57:31.329Z"
   },
   {
    "duration": 47,
    "start_time": "2024-04-11T15:57:31.418Z"
   },
   {
    "duration": 4,
    "start_time": "2024-04-11T15:57:31.466Z"
   },
   {
    "duration": 43,
    "start_time": "2024-04-11T15:57:31.472Z"
   },
   {
    "duration": 80,
    "start_time": "2024-04-11T15:57:31.517Z"
   },
   {
    "duration": 82,
    "start_time": "2024-04-11T15:57:31.598Z"
   },
   {
    "duration": 52,
    "start_time": "2024-04-11T15:57:31.681Z"
   },
   {
    "duration": 288,
    "start_time": "2024-04-11T15:57:31.735Z"
   },
   {
    "duration": 55,
    "start_time": "2024-04-11T15:57:32.024Z"
   },
   {
    "duration": 6,
    "start_time": "2024-04-11T15:57:32.081Z"
   },
   {
    "duration": 338,
    "start_time": "2024-04-11T15:57:32.089Z"
   },
   {
    "duration": 29,
    "start_time": "2024-04-11T15:57:32.428Z"
   },
   {
    "duration": 104,
    "start_time": "2024-04-11T15:57:32.458Z"
   },
   {
    "duration": 53,
    "start_time": "2024-04-11T15:57:32.563Z"
   },
   {
    "duration": 47,
    "start_time": "2024-04-11T15:57:32.618Z"
   },
   {
    "duration": 9,
    "start_time": "2024-04-11T15:57:32.666Z"
   },
   {
    "duration": 16,
    "start_time": "2024-04-11T15:57:32.676Z"
   },
   {
    "duration": 147,
    "start_time": "2024-04-11T15:57:32.693Z"
   },
   {
    "duration": 0,
    "start_time": "2024-04-11T15:57:32.845Z"
   },
   {
    "duration": 0,
    "start_time": "2024-04-11T15:57:32.846Z"
   },
   {
    "duration": 0,
    "start_time": "2024-04-11T15:57:32.847Z"
   },
   {
    "duration": 0,
    "start_time": "2024-04-11T15:57:32.848Z"
   },
   {
    "duration": 0,
    "start_time": "2024-04-11T15:57:32.849Z"
   },
   {
    "duration": 0,
    "start_time": "2024-04-11T15:57:32.850Z"
   },
   {
    "duration": 0,
    "start_time": "2024-04-11T15:57:32.851Z"
   },
   {
    "duration": 0,
    "start_time": "2024-04-11T15:57:32.919Z"
   },
   {
    "duration": 0,
    "start_time": "2024-04-11T15:57:32.920Z"
   },
   {
    "duration": 0,
    "start_time": "2024-04-11T15:57:32.921Z"
   },
   {
    "duration": 0,
    "start_time": "2024-04-11T15:57:32.922Z"
   },
   {
    "duration": 0,
    "start_time": "2024-04-11T15:57:32.923Z"
   },
   {
    "duration": 0,
    "start_time": "2024-04-11T15:57:32.924Z"
   },
   {
    "duration": 0,
    "start_time": "2024-04-11T15:57:32.925Z"
   },
   {
    "duration": 0,
    "start_time": "2024-04-11T15:57:32.946Z"
   },
   {
    "duration": 55,
    "start_time": "2024-04-11T16:04:35.808Z"
   },
   {
    "duration": 6,
    "start_time": "2024-04-11T16:04:55.438Z"
   },
   {
    "duration": 4,
    "start_time": "2024-04-11T16:36:24.314Z"
   },
   {
    "duration": 195,
    "start_time": "2024-04-11T16:36:24.320Z"
   },
   {
    "duration": 3,
    "start_time": "2024-04-11T16:36:24.516Z"
   },
   {
    "duration": 27,
    "start_time": "2024-04-11T16:36:24.520Z"
   },
   {
    "duration": 92,
    "start_time": "2024-04-11T16:36:24.548Z"
   },
   {
    "duration": 50,
    "start_time": "2024-04-11T16:36:24.641Z"
   },
   {
    "duration": 89,
    "start_time": "2024-04-11T16:36:24.693Z"
   },
   {
    "duration": 35,
    "start_time": "2024-04-11T16:36:24.783Z"
   },
   {
    "duration": 11,
    "start_time": "2024-04-11T16:36:24.819Z"
   },
   {
    "duration": 24,
    "start_time": "2024-04-11T16:36:24.832Z"
   },
   {
    "duration": 10,
    "start_time": "2024-04-11T16:36:24.857Z"
   },
   {
    "duration": 43,
    "start_time": "2024-04-11T16:36:24.868Z"
   },
   {
    "duration": 31,
    "start_time": "2024-04-11T16:36:24.912Z"
   },
   {
    "duration": 276,
    "start_time": "2024-04-11T16:36:24.944Z"
   },
   {
    "duration": 48,
    "start_time": "2024-04-11T16:36:25.222Z"
   },
   {
    "duration": 11,
    "start_time": "2024-04-11T16:36:25.272Z"
   },
   {
    "duration": 72,
    "start_time": "2024-04-11T16:36:25.284Z"
   },
   {
    "duration": 27,
    "start_time": "2024-04-11T16:36:25.358Z"
   },
   {
    "duration": 60,
    "start_time": "2024-04-11T16:36:25.387Z"
   },
   {
    "duration": 61,
    "start_time": "2024-04-11T16:36:25.449Z"
   },
   {
    "duration": 49,
    "start_time": "2024-04-11T16:36:25.512Z"
   },
   {
    "duration": 33,
    "start_time": "2024-04-11T16:36:25.562Z"
   },
   {
    "duration": 31,
    "start_time": "2024-04-11T16:36:25.596Z"
   },
   {
    "duration": 71,
    "start_time": "2024-04-11T16:36:25.629Z"
   },
   {
    "duration": 15,
    "start_time": "2024-04-11T16:36:25.701Z"
   },
   {
    "duration": 0,
    "start_time": "2024-04-11T16:36:25.717Z"
   },
   {
    "duration": 0,
    "start_time": "2024-04-11T16:36:25.719Z"
   },
   {
    "duration": 0,
    "start_time": "2024-04-11T16:36:25.720Z"
   },
   {
    "duration": 0,
    "start_time": "2024-04-11T16:36:25.720Z"
   },
   {
    "duration": 0,
    "start_time": "2024-04-11T16:36:25.721Z"
   },
   {
    "duration": 0,
    "start_time": "2024-04-11T16:36:25.722Z"
   },
   {
    "duration": 0,
    "start_time": "2024-04-11T16:36:25.723Z"
   },
   {
    "duration": 0,
    "start_time": "2024-04-11T16:36:25.745Z"
   },
   {
    "duration": 0,
    "start_time": "2024-04-11T16:36:25.746Z"
   },
   {
    "duration": 0,
    "start_time": "2024-04-11T16:36:25.747Z"
   },
   {
    "duration": 0,
    "start_time": "2024-04-11T16:36:25.748Z"
   },
   {
    "duration": 0,
    "start_time": "2024-04-11T16:36:25.749Z"
   },
   {
    "duration": 0,
    "start_time": "2024-04-11T16:36:25.750Z"
   },
   {
    "duration": 0,
    "start_time": "2024-04-11T16:36:25.751Z"
   },
   {
    "duration": 1075,
    "start_time": "2024-04-11T16:44:42.409Z"
   },
   {
    "duration": 180,
    "start_time": "2024-04-11T16:44:43.486Z"
   },
   {
    "duration": 3,
    "start_time": "2024-04-11T16:44:43.667Z"
   },
   {
    "duration": 6,
    "start_time": "2024-04-11T16:44:43.672Z"
   },
   {
    "duration": 95,
    "start_time": "2024-04-11T16:44:43.680Z"
   },
   {
    "duration": 75,
    "start_time": "2024-04-11T16:44:43.776Z"
   },
   {
    "duration": 75,
    "start_time": "2024-04-11T16:44:43.852Z"
   },
   {
    "duration": 52,
    "start_time": "2024-04-11T16:44:43.929Z"
   },
   {
    "duration": 4,
    "start_time": "2024-04-11T16:44:43.982Z"
   },
   {
    "duration": 7,
    "start_time": "2024-04-11T16:44:43.989Z"
   },
   {
    "duration": 2,
    "start_time": "2024-04-11T16:44:43.998Z"
   },
   {
    "duration": 47,
    "start_time": "2024-04-11T16:44:44.001Z"
   },
   {
    "duration": 31,
    "start_time": "2024-04-11T16:44:44.049Z"
   },
   {
    "duration": 281,
    "start_time": "2024-04-11T16:44:44.082Z"
   },
   {
    "duration": 62,
    "start_time": "2024-04-11T16:44:44.364Z"
   },
   {
    "duration": 19,
    "start_time": "2024-04-11T16:44:44.428Z"
   },
   {
    "duration": 338,
    "start_time": "2024-04-11T16:44:44.449Z"
   },
   {
    "duration": 27,
    "start_time": "2024-04-11T16:44:44.789Z"
   },
   {
    "duration": 80,
    "start_time": "2024-04-11T16:44:44.817Z"
   },
   {
    "duration": 95,
    "start_time": "2024-04-11T16:44:44.898Z"
   },
   {
    "duration": 31,
    "start_time": "2024-04-11T16:44:44.994Z"
   },
   {
    "duration": 54,
    "start_time": "2024-04-11T16:44:45.026Z"
   },
   {
    "duration": 40,
    "start_time": "2024-04-11T16:44:45.082Z"
   },
   {
    "duration": 148,
    "start_time": "2024-04-11T16:44:45.124Z"
   },
   {
    "duration": 199,
    "start_time": "2024-04-11T16:44:45.274Z"
   },
   {
    "duration": 0,
    "start_time": "2024-04-11T16:44:45.475Z"
   },
   {
    "duration": 0,
    "start_time": "2024-04-11T16:44:45.476Z"
   },
   {
    "duration": 0,
    "start_time": "2024-04-11T16:44:45.477Z"
   },
   {
    "duration": 0,
    "start_time": "2024-04-11T16:44:45.478Z"
   },
   {
    "duration": 0,
    "start_time": "2024-04-11T16:44:45.479Z"
   },
   {
    "duration": 0,
    "start_time": "2024-04-11T16:44:45.481Z"
   },
   {
    "duration": 0,
    "start_time": "2024-04-11T16:44:45.481Z"
   },
   {
    "duration": 0,
    "start_time": "2024-04-11T16:44:45.482Z"
   },
   {
    "duration": 0,
    "start_time": "2024-04-11T16:44:45.483Z"
   },
   {
    "duration": 0,
    "start_time": "2024-04-11T16:44:45.484Z"
   },
   {
    "duration": 0,
    "start_time": "2024-04-11T16:44:45.485Z"
   },
   {
    "duration": 0,
    "start_time": "2024-04-11T16:44:45.486Z"
   },
   {
    "duration": 0,
    "start_time": "2024-04-11T16:44:45.487Z"
   },
   {
    "duration": 0,
    "start_time": "2024-04-11T16:44:45.488Z"
   },
   {
    "duration": 3,
    "start_time": "2024-04-11T16:45:29.748Z"
   },
   {
    "duration": 22,
    "start_time": "2024-04-11T16:45:29.754Z"
   },
   {
    "duration": 30,
    "start_time": "2024-04-11T16:45:29.777Z"
   },
   {
    "duration": 5,
    "start_time": "2024-04-11T16:45:29.809Z"
   },
   {
    "duration": 25,
    "start_time": "2024-04-11T16:45:29.815Z"
   },
   {
    "duration": 25,
    "start_time": "2024-04-11T16:45:29.841Z"
   },
   {
    "duration": 6,
    "start_time": "2024-04-11T16:45:29.867Z"
   },
   {
    "duration": 20,
    "start_time": "2024-04-11T16:45:29.875Z"
   },
   {
    "duration": 9,
    "start_time": "2024-04-11T16:45:29.896Z"
   },
   {
    "duration": 139,
    "start_time": "2024-04-11T16:45:29.906Z"
   },
   {
    "duration": 155,
    "start_time": "2024-04-11T16:45:30.047Z"
   },
   {
    "duration": 147,
    "start_time": "2024-04-11T16:45:30.203Z"
   },
   {
    "duration": 12,
    "start_time": "2024-04-11T16:45:30.352Z"
   },
   {
    "duration": 274,
    "start_time": "2024-04-11T16:45:30.366Z"
   },
   {
    "duration": 1452,
    "start_time": "2024-04-12T05:00:03.115Z"
   },
   {
    "duration": 873,
    "start_time": "2024-04-12T05:00:04.570Z"
   },
   {
    "duration": 3,
    "start_time": "2024-04-12T05:00:05.445Z"
   },
   {
    "duration": 47,
    "start_time": "2024-04-12T05:00:05.450Z"
   },
   {
    "duration": 159,
    "start_time": "2024-04-12T05:00:05.499Z"
   },
   {
    "duration": 82,
    "start_time": "2024-04-12T05:00:05.660Z"
   },
   {
    "duration": 132,
    "start_time": "2024-04-12T05:00:05.744Z"
   },
   {
    "duration": 48,
    "start_time": "2024-04-12T05:00:05.878Z"
   },
   {
    "duration": 3,
    "start_time": "2024-04-12T05:00:05.928Z"
   },
   {
    "duration": 26,
    "start_time": "2024-04-12T05:00:05.932Z"
   },
   {
    "duration": 42,
    "start_time": "2024-04-12T05:00:05.959Z"
   },
   {
    "duration": 124,
    "start_time": "2024-04-12T05:00:06.003Z"
   },
   {
    "duration": 86,
    "start_time": "2024-04-12T05:00:06.129Z"
   },
   {
    "duration": 341,
    "start_time": "2024-04-12T05:00:06.218Z"
   },
   {
    "duration": 76,
    "start_time": "2024-04-12T05:00:06.561Z"
   },
   {
    "duration": 7,
    "start_time": "2024-04-12T05:00:06.639Z"
   },
   {
    "duration": 930,
    "start_time": "2024-04-12T05:00:06.648Z"
   },
   {
    "duration": 33,
    "start_time": "2024-04-12T05:00:07.580Z"
   },
   {
    "duration": 237,
    "start_time": "2024-04-12T05:00:07.614Z"
   },
   {
    "duration": 72,
    "start_time": "2024-04-12T05:00:07.852Z"
   },
   {
    "duration": 48,
    "start_time": "2024-04-12T05:00:07.925Z"
   },
   {
    "duration": 7,
    "start_time": "2024-04-12T05:00:07.975Z"
   },
   {
    "duration": 24,
    "start_time": "2024-04-12T05:00:07.984Z"
   },
   {
    "duration": 81,
    "start_time": "2024-04-12T05:00:08.010Z"
   },
   {
    "duration": 4,
    "start_time": "2024-04-12T05:00:08.092Z"
   },
   {
    "duration": 23,
    "start_time": "2024-04-12T05:00:08.098Z"
   },
   {
    "duration": 36,
    "start_time": "2024-04-12T05:00:08.123Z"
   },
   {
    "duration": 7,
    "start_time": "2024-04-12T05:00:08.161Z"
   },
   {
    "duration": 40,
    "start_time": "2024-04-12T05:00:08.169Z"
   },
   {
    "duration": 27,
    "start_time": "2024-04-12T05:00:08.210Z"
   },
   {
    "duration": 7,
    "start_time": "2024-04-12T05:00:08.238Z"
   },
   {
    "duration": 20,
    "start_time": "2024-04-12T05:00:08.247Z"
   },
   {
    "duration": 27,
    "start_time": "2024-04-12T05:00:08.270Z"
   },
   {
    "duration": 158,
    "start_time": "2024-04-12T05:00:08.299Z"
   },
   {
    "duration": 174,
    "start_time": "2024-04-12T05:00:08.458Z"
   },
   {
    "duration": 175,
    "start_time": "2024-04-12T05:00:08.634Z"
   },
   {
    "duration": 15,
    "start_time": "2024-04-12T05:00:08.810Z"
   },
   {
    "duration": 235,
    "start_time": "2024-04-12T05:00:08.827Z"
   },
   {
    "duration": 1151,
    "start_time": "2024-05-24T15:30:18.427Z"
   },
   {
    "duration": 310,
    "start_time": "2024-05-24T15:30:19.579Z"
   },
   {
    "duration": 2,
    "start_time": "2024-05-24T15:30:19.891Z"
   },
   {
    "duration": 20,
    "start_time": "2024-05-24T15:30:19.895Z"
   },
   {
    "duration": 97,
    "start_time": "2024-05-24T15:30:19.917Z"
   },
   {
    "duration": 70,
    "start_time": "2024-05-24T15:30:20.015Z"
   },
   {
    "duration": 92,
    "start_time": "2024-05-24T15:30:20.086Z"
   },
   {
    "duration": 41,
    "start_time": "2024-05-24T15:30:20.179Z"
   },
   {
    "duration": 3,
    "start_time": "2024-05-24T15:30:20.222Z"
   },
   {
    "duration": 42,
    "start_time": "2024-05-24T15:30:20.227Z"
   },
   {
    "duration": 20,
    "start_time": "2024-05-24T15:30:20.270Z"
   },
   {
    "duration": 35,
    "start_time": "2024-05-24T15:30:20.292Z"
   },
   {
    "duration": 44,
    "start_time": "2024-05-24T15:30:20.329Z"
   },
   {
    "duration": 300,
    "start_time": "2024-05-24T15:30:20.374Z"
   },
   {
    "duration": 70,
    "start_time": "2024-05-24T15:30:20.675Z"
   },
   {
    "duration": 7,
    "start_time": "2024-05-24T15:30:20.747Z"
   },
   {
    "duration": 336,
    "start_time": "2024-05-24T15:30:20.756Z"
   },
   {
    "duration": 60,
    "start_time": "2024-05-24T15:30:21.093Z"
   },
   {
    "duration": 116,
    "start_time": "2024-05-24T15:30:21.154Z"
   },
   {
    "duration": 52,
    "start_time": "2024-05-24T15:30:21.272Z"
   },
   {
    "duration": 45,
    "start_time": "2024-05-24T15:30:21.326Z"
   },
   {
    "duration": 10,
    "start_time": "2024-05-24T15:30:21.373Z"
   },
   {
    "duration": 16,
    "start_time": "2024-05-24T15:30:21.384Z"
   },
   {
    "duration": 134,
    "start_time": "2024-05-24T15:30:21.401Z"
   },
   {
    "duration": 13,
    "start_time": "2024-05-24T15:30:21.537Z"
   },
   {
    "duration": 18,
    "start_time": "2024-05-24T15:30:21.552Z"
   },
   {
    "duration": 35,
    "start_time": "2024-05-24T15:30:21.572Z"
   },
   {
    "duration": 5,
    "start_time": "2024-05-24T15:30:21.610Z"
   },
   {
    "duration": 32,
    "start_time": "2024-05-24T15:30:21.617Z"
   },
   {
    "duration": 22,
    "start_time": "2024-05-24T15:30:21.651Z"
   },
   {
    "duration": 5,
    "start_time": "2024-05-24T15:30:21.675Z"
   },
   {
    "duration": 6,
    "start_time": "2024-05-24T15:30:21.682Z"
   },
   {
    "duration": 10,
    "start_time": "2024-05-24T15:30:21.689Z"
   },
   {
    "duration": 146,
    "start_time": "2024-05-24T15:30:21.700Z"
   },
   {
    "duration": 138,
    "start_time": "2024-05-24T15:30:21.847Z"
   },
   {
    "duration": 135,
    "start_time": "2024-05-24T15:30:21.986Z"
   },
   {
    "duration": 24,
    "start_time": "2024-05-24T15:30:22.122Z"
   },
   {
    "duration": 186,
    "start_time": "2024-05-24T15:30:22.148Z"
   },
   {
    "duration": 1166,
    "start_time": "2024-08-25T23:04:58.293Z"
   },
   {
    "duration": 958,
    "start_time": "2024-08-25T23:04:59.461Z"
   },
   {
    "duration": 6,
    "start_time": "2024-08-25T23:05:00.421Z"
   },
   {
    "duration": 17,
    "start_time": "2024-08-25T23:05:00.430Z"
   },
   {
    "duration": 115,
    "start_time": "2024-08-25T23:05:00.449Z"
   },
   {
    "duration": 94,
    "start_time": "2024-08-25T23:05:00.566Z"
   },
   {
    "duration": 98,
    "start_time": "2024-08-25T23:05:00.661Z"
   },
   {
    "duration": 47,
    "start_time": "2024-08-25T23:05:00.760Z"
   },
   {
    "duration": 4,
    "start_time": "2024-08-25T23:05:00.808Z"
   },
   {
    "duration": 10,
    "start_time": "2024-08-25T23:05:00.815Z"
   },
   {
    "duration": 7,
    "start_time": "2024-08-25T23:05:00.826Z"
   },
   {
    "duration": 22,
    "start_time": "2024-08-25T23:05:00.835Z"
   },
   {
    "duration": 49,
    "start_time": "2024-08-25T23:05:00.859Z"
   },
   {
    "duration": 306,
    "start_time": "2024-08-25T23:05:00.910Z"
   },
   {
    "duration": 58,
    "start_time": "2024-08-25T23:05:01.219Z"
   },
   {
    "duration": 7,
    "start_time": "2024-08-25T23:05:01.279Z"
   },
   {
    "duration": 354,
    "start_time": "2024-08-25T23:05:01.287Z"
   },
   {
    "duration": 30,
    "start_time": "2024-08-25T23:05:01.643Z"
   },
   {
    "duration": 83,
    "start_time": "2024-08-25T23:05:01.675Z"
   },
   {
    "duration": 57,
    "start_time": "2024-08-25T23:05:01.807Z"
   },
   {
    "duration": 52,
    "start_time": "2024-08-25T23:05:01.866Z"
   },
   {
    "duration": 9,
    "start_time": "2024-08-25T23:05:01.920Z"
   },
   {
    "duration": 29,
    "start_time": "2024-08-25T23:05:01.931Z"
   },
   {
    "duration": 120,
    "start_time": "2024-08-25T23:05:01.961Z"
   },
   {
    "duration": 3,
    "start_time": "2024-08-25T23:05:02.082Z"
   },
   {
    "duration": 20,
    "start_time": "2024-08-25T23:05:02.087Z"
   },
   {
    "duration": 23,
    "start_time": "2024-08-25T23:05:02.109Z"
   },
   {
    "duration": 10,
    "start_time": "2024-08-25T23:05:02.135Z"
   },
   {
    "duration": 30,
    "start_time": "2024-08-25T23:05:02.147Z"
   },
   {
    "duration": 41,
    "start_time": "2024-08-25T23:05:02.179Z"
   },
   {
    "duration": 9,
    "start_time": "2024-08-25T23:05:02.222Z"
   },
   {
    "duration": 64,
    "start_time": "2024-08-25T23:05:02.232Z"
   },
   {
    "duration": 17,
    "start_time": "2024-08-25T23:05:02.298Z"
   },
   {
    "duration": 157,
    "start_time": "2024-08-25T23:05:02.317Z"
   },
   {
    "duration": 169,
    "start_time": "2024-08-25T23:05:02.476Z"
   },
   {
    "duration": 151,
    "start_time": "2024-08-25T23:05:02.646Z"
   },
   {
    "duration": 28,
    "start_time": "2024-08-25T23:05:02.798Z"
   },
   {
    "duration": 239,
    "start_time": "2024-08-25T23:05:02.828Z"
   }
  ],
  "kernelspec": {
   "display_name": "Python 3 (ipykernel)",
   "language": "python",
   "name": "python3"
  },
  "language_info": {
   "codemirror_mode": {
    "name": "ipython",
    "version": 3
   },
   "file_extension": ".py",
   "mimetype": "text/x-python",
   "name": "python",
   "nbconvert_exporter": "python",
   "pygments_lexer": "ipython3",
   "version": "3.9.12"
  },
  "toc": {
   "base_numbering": 1,
   "nav_menu": {},
   "number_sections": true,
   "sideBar": true,
   "skip_h1_title": true,
   "title_cell": "Table of Contents",
   "title_sidebar": "Contents",
   "toc_cell": false,
   "toc_position": {},
   "toc_section_display": true,
   "toc_window_display": false
  }
 },
 "nbformat": 4,
 "nbformat_minor": 5
}
