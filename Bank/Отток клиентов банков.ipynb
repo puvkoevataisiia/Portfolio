{
 "cells": [
  {
   "cell_type": "markdown",
   "metadata": {},
   "source": [
    "# Анализ оттока клиентов банка"
   ]
  },
  {
   "cell_type": "markdown",
   "metadata": {},
   "source": [
    "<div class=\"alert alert-info\"> <b>Описание проекта</b>\n",
    "\n",
    "Даны данные, содержащий информацию о клиентах банка «Метанпром». Банк располагается в Ярославле и областных городах: Ростов, Великий и Рыбинск. Необходимо проанализировать клиентов регионального банка и выделите сегменты клиентов, которые склонны уходить из банка.\n",
    "\n",
    "Для выполнения поставленной задачи необходимо:\n",
    "- Провести предобработку данных\n",
    "- Провести исследовательский анализ данных:\n",
    "    - Определить значимые признаки отточности (интервалы значений характеристик, которые связаны с повышенным оттоком)\n",
    "    - Сравнить портреты типичных клиентов, которые склонны и не склонны уходить из банка\n",
    "    - Провести корреляционный анализ\n",
    "- Сформулировать и проверить статистические гипотезы:\n",
    "    - Гипотеза \"Средний доход тех клиентов, которые ушли  и тех, которые остались, одинаков\"\n",
    "    - Гипотеза \"Средний балл кредитного скоринга тех клиентов, которые ушли и тех, которые остались, одинаков\"\n",
    "    - Гипотеза \"Средний возраст тех клиентов, которые ушли и тех, которые остались, одинаков\"\n",
    "- Объединяя признаки отточности, сформировать сегменты и отобрать лучшие\n",
    "- Написать рекомендации \n",
    "- Подготовить презентацию "
   ]
  },
  {
   "cell_type": "markdown",
   "metadata": {},
   "source": [
    "Презентация: https://drive.google.com/file/d/1dh2RjSTY5ZRtaWgtUEFGZui68LAVcwcl/view?usp=sharing"
   ]
  },
  {
   "cell_type": "markdown",
   "metadata": {},
   "source": [
    "### Предобработка данных"
   ]
  },
  {
   "cell_type": "markdown",
   "metadata": {},
   "source": [
    "#### 1. Загрузим библиотеки"
   ]
  },
  {
   "cell_type": "code",
   "execution_count": 1,
   "metadata": {
    "hideOutput": true
   },
   "outputs": [
    {
     "name": "stderr",
     "output_type": "stream",
     "text": [
      "C:\\ProgramData\\Anaconda3\\lib\\site-packages\\scipy\\__init__.py:146: UserWarning: A NumPy version >=1.16.5 and <1.23.0 is required for this version of SciPy (detected version 1.23.0\n",
      "  warnings.warn(f\"A NumPy version >={np_minversion} and <{np_maxversion}\"\n"
     ]
    }
   ],
   "source": [
    "import pandas as pd\n",
    "import matplotlib.pyplot as plt\n",
    "import seaborn as sns\n",
    "import plotly.express as px\n",
    "import plotly.graph_objects as go\n",
    "import plotly.subplots as ps\n",
    "import numpy as np\n",
    "import math as mth\n",
    "from scipy import stats\n",
    "import seaborn as sb"
   ]
  },
  {
   "cell_type": "markdown",
   "metadata": {},
   "source": [
    "#### 2. Загрузим данные"
   ]
  },
  {
   "cell_type": "code",
   "execution_count": 2,
   "metadata": {},
   "outputs": [
    {
     "data": {
      "text/html": [
       "<div>\n",
       "<style scoped>\n",
       "    .dataframe tbody tr th:only-of-type {\n",
       "        vertical-align: middle;\n",
       "    }\n",
       "\n",
       "    .dataframe tbody tr th {\n",
       "        vertical-align: top;\n",
       "    }\n",
       "\n",
       "    .dataframe thead th {\n",
       "        text-align: right;\n",
       "    }\n",
       "</style>\n",
       "<table border=\"1\" class=\"dataframe\">\n",
       "  <thead>\n",
       "    <tr style=\"text-align: right;\">\n",
       "      <th></th>\n",
       "      <th>USERID</th>\n",
       "      <th>score</th>\n",
       "      <th>city</th>\n",
       "      <th>gender</th>\n",
       "      <th>age</th>\n",
       "      <th>equity</th>\n",
       "      <th>balance</th>\n",
       "      <th>products</th>\n",
       "      <th>credit_card</th>\n",
       "      <th>last_activity</th>\n",
       "      <th>EST_SALARY</th>\n",
       "      <th>churn</th>\n",
       "    </tr>\n",
       "  </thead>\n",
       "  <tbody>\n",
       "    <tr>\n",
       "      <th>0</th>\n",
       "      <td>183012</td>\n",
       "      <td>850.0</td>\n",
       "      <td>Рыбинск</td>\n",
       "      <td>Ж</td>\n",
       "      <td>25.0</td>\n",
       "      <td>1</td>\n",
       "      <td>59214.82</td>\n",
       "      <td>2</td>\n",
       "      <td>0</td>\n",
       "      <td>1</td>\n",
       "      <td>75719.14</td>\n",
       "      <td>1</td>\n",
       "    </tr>\n",
       "    <tr>\n",
       "      <th>1</th>\n",
       "      <td>146556</td>\n",
       "      <td>861.0</td>\n",
       "      <td>Рыбинск</td>\n",
       "      <td>Ж</td>\n",
       "      <td>37.0</td>\n",
       "      <td>5</td>\n",
       "      <td>850594.33</td>\n",
       "      <td>3</td>\n",
       "      <td>1</td>\n",
       "      <td>0</td>\n",
       "      <td>86621.77</td>\n",
       "      <td>0</td>\n",
       "    </tr>\n",
       "    <tr>\n",
       "      <th>2</th>\n",
       "      <td>120722</td>\n",
       "      <td>892.0</td>\n",
       "      <td>Рыбинск</td>\n",
       "      <td>Ж</td>\n",
       "      <td>30.0</td>\n",
       "      <td>0</td>\n",
       "      <td>NaN</td>\n",
       "      <td>1</td>\n",
       "      <td>1</td>\n",
       "      <td>1</td>\n",
       "      <td>107683.34</td>\n",
       "      <td>0</td>\n",
       "    </tr>\n",
       "    <tr>\n",
       "      <th>3</th>\n",
       "      <td>225363</td>\n",
       "      <td>866.0</td>\n",
       "      <td>Ярославль</td>\n",
       "      <td>Ж</td>\n",
       "      <td>51.0</td>\n",
       "      <td>5</td>\n",
       "      <td>1524746.26</td>\n",
       "      <td>2</td>\n",
       "      <td>0</td>\n",
       "      <td>1</td>\n",
       "      <td>174423.53</td>\n",
       "      <td>1</td>\n",
       "    </tr>\n",
       "    <tr>\n",
       "      <th>4</th>\n",
       "      <td>157978</td>\n",
       "      <td>730.0</td>\n",
       "      <td>Ярославль</td>\n",
       "      <td>М</td>\n",
       "      <td>34.0</td>\n",
       "      <td>5</td>\n",
       "      <td>174.00</td>\n",
       "      <td>1</td>\n",
       "      <td>1</td>\n",
       "      <td>0</td>\n",
       "      <td>67353.16</td>\n",
       "      <td>1</td>\n",
       "    </tr>\n",
       "  </tbody>\n",
       "</table>\n",
       "</div>"
      ],
      "text/plain": [
       "   USERID  score       city gender   age  equity     balance  products  \\\n",
       "0  183012  850.0    Рыбинск      Ж  25.0       1    59214.82         2   \n",
       "1  146556  861.0    Рыбинск      Ж  37.0       5   850594.33         3   \n",
       "2  120722  892.0    Рыбинск      Ж  30.0       0         NaN         1   \n",
       "3  225363  866.0  Ярославль      Ж  51.0       5  1524746.26         2   \n",
       "4  157978  730.0  Ярославль      М  34.0       5      174.00         1   \n",
       "\n",
       "   credit_card  last_activity  EST_SALARY  churn  \n",
       "0            0              1    75719.14      1  \n",
       "1            1              0    86621.77      0  \n",
       "2            1              1   107683.34      0  \n",
       "3            0              1   174423.53      1  \n",
       "4            1              0    67353.16      1  "
      ]
     },
     "execution_count": 2,
     "metadata": {},
     "output_type": "execute_result"
    }
   ],
   "source": [
    "df = pd.read_csv('bank_scrooge.csv')\n",
    "df.head()"
   ]
  },
  {
   "cell_type": "markdown",
   "metadata": {},
   "source": [
    "#### 3. Переименуем колонки"
   ]
  },
  {
   "cell_type": "code",
   "execution_count": 3,
   "metadata": {},
   "outputs": [],
   "source": [
    "df.columns = ['user_id', 'score', 'city', 'gender', 'age', 'equity', 'balance',\n",
    "                'products', 'credit_card', 'last_activity', 'salary', 'churn']"
   ]
  },
  {
   "cell_type": "markdown",
   "metadata": {},
   "source": [
    "#### 4. Исследуем пропущенные значения и типы данных"
   ]
  },
  {
   "cell_type": "code",
   "execution_count": 4,
   "metadata": {},
   "outputs": [],
   "source": [
    "def first_step(df):\n",
    "    # Проверим наличие пропусков\n",
    "    missing_values = df.isnull().sum()\n",
    "    print(\"Пропущенные значения:\", missing_values.sum())\n",
    "    print(missing_values)\n",
    "    if missing_values.sum() != 0:\n",
    "        print(f\"Доля пропущенных значений {missing_values.sum()/df['user_id'].count():.1%}\")\n",
    "\n",
    "    # Проверим наличие дубликатов\n",
    "    duplicate_values = df.duplicated().sum()\n",
    "    print(\"Количество полных дубликатов:\", duplicate_values)\n",
    "    if duplicate_values != 0:\n",
    "        print(f\"Доля дубликатов {duplicate_values/df['user_id'].count():.1%}\")\n",
    "    \n",
    "    print(df.info())"
   ]
  },
  {
   "cell_type": "code",
   "execution_count": 5,
   "metadata": {},
   "outputs": [
    {
     "name": "stdout",
     "output_type": "stream",
     "text": [
      "Пропущенные значения: 2321\n",
      "user_id             0\n",
      "score               0\n",
      "city                0\n",
      "gender              0\n",
      "age                26\n",
      "equity              0\n",
      "balance          2295\n",
      "products            0\n",
      "credit_card         0\n",
      "last_activity       0\n",
      "salary              0\n",
      "churn               0\n",
      "dtype: int64\n",
      "Доля пропущенных значений 23.2%\n",
      "Количество полных дубликатов: 0\n",
      "<class 'pandas.core.frame.DataFrame'>\n",
      "RangeIndex: 10000 entries, 0 to 9999\n",
      "Data columns (total 12 columns):\n",
      " #   Column         Non-Null Count  Dtype  \n",
      "---  ------         --------------  -----  \n",
      " 0   user_id        10000 non-null  int64  \n",
      " 1   score          10000 non-null  float64\n",
      " 2   city           10000 non-null  object \n",
      " 3   gender         10000 non-null  object \n",
      " 4   age            9974 non-null   float64\n",
      " 5   equity         10000 non-null  int64  \n",
      " 6   balance        7705 non-null   float64\n",
      " 7   products       10000 non-null  int64  \n",
      " 8   credit_card    10000 non-null  int64  \n",
      " 9   last_activity  10000 non-null  int64  \n",
      " 10  salary         10000 non-null  float64\n",
      " 11  churn          10000 non-null  int64  \n",
      "dtypes: float64(4), int64(6), object(2)\n",
      "memory usage: 937.6+ KB\n",
      "None\n"
     ]
    }
   ],
   "source": [
    "first_step(df)"
   ]
  },
  {
   "cell_type": "markdown",
   "metadata": {},
   "source": [
    "<div class=\"alert alert-info\"> В данных достаточно много пропущенных значений (почти четверть от общего количества). Посмотрим на пропуски отдельно для каждой переменной: в переменной age всего 26 пропусков (менее 0.5%), можем удалить эти пропуски; в переменной balance уже намного больше пропусков и просто удалить их мы не можем. При этом заменить их медианной/средним значением или нулем тоже кажется нецелесообразным, поэтому пока оставим эти пропуски.\n",
    "\n",
    "У переменных credit_card, last_activity и churn сразу поменяем тип данных на boolean, а у age на integer."
   ]
  },
  {
   "cell_type": "code",
   "execution_count": 6,
   "metadata": {},
   "outputs": [],
   "source": [
    "df = df.dropna(subset=['age'])"
   ]
  },
  {
   "cell_type": "code",
   "execution_count": 7,
   "metadata": {},
   "outputs": [],
   "source": [
    "df['credit_card'] = df['credit_card'].astype(bool)\n",
    "df['last_activity'] = df['last_activity'].astype(bool)\n",
    "df['churn'] = df['churn'].astype(bool)\n",
    "df['age'] = df['age'].astype(int)"
   ]
  },
  {
   "cell_type": "markdown",
   "metadata": {},
   "source": [
    "#### 5. Исследуем дубликаты"
   ]
  },
  {
   "cell_type": "code",
   "execution_count": 8,
   "metadata": {},
   "outputs": [
    {
     "name": "stdout",
     "output_type": "stream",
     "text": [
      "Доля дубликатов в user_id: 0.5%\n"
     ]
    },
    {
     "data": {
      "text/html": [
       "<div>\n",
       "<style scoped>\n",
       "    .dataframe tbody tr th:only-of-type {\n",
       "        vertical-align: middle;\n",
       "    }\n",
       "\n",
       "    .dataframe tbody tr th {\n",
       "        vertical-align: top;\n",
       "    }\n",
       "\n",
       "    .dataframe thead th {\n",
       "        text-align: right;\n",
       "    }\n",
       "</style>\n",
       "<table border=\"1\" class=\"dataframe\">\n",
       "  <thead>\n",
       "    <tr style=\"text-align: right;\">\n",
       "      <th></th>\n",
       "      <th>user_id</th>\n",
       "      <th>score</th>\n",
       "      <th>city</th>\n",
       "      <th>gender</th>\n",
       "      <th>age</th>\n",
       "      <th>equity</th>\n",
       "      <th>balance</th>\n",
       "      <th>products</th>\n",
       "      <th>credit_card</th>\n",
       "      <th>last_activity</th>\n",
       "      <th>salary</th>\n",
       "      <th>churn</th>\n",
       "    </tr>\n",
       "  </thead>\n",
       "  <tbody>\n",
       "    <tr>\n",
       "      <th>1893</th>\n",
       "      <td>116540</td>\n",
       "      <td>883.0</td>\n",
       "      <td>Рыбинск</td>\n",
       "      <td>Ж</td>\n",
       "      <td>55</td>\n",
       "      <td>1</td>\n",
       "      <td>362756.49</td>\n",
       "      <td>3</td>\n",
       "      <td>False</td>\n",
       "      <td>True</td>\n",
       "      <td>175920.48</td>\n",
       "      <td>True</td>\n",
       "    </tr>\n",
       "    <tr>\n",
       "      <th>7694</th>\n",
       "      <td>116540</td>\n",
       "      <td>887.0</td>\n",
       "      <td>Ярославль</td>\n",
       "      <td>Ж</td>\n",
       "      <td>38</td>\n",
       "      <td>0</td>\n",
       "      <td>NaN</td>\n",
       "      <td>1</td>\n",
       "      <td>False</td>\n",
       "      <td>True</td>\n",
       "      <td>119247.61</td>\n",
       "      <td>False</td>\n",
       "    </tr>\n",
       "    <tr>\n",
       "      <th>4866</th>\n",
       "      <td>117943</td>\n",
       "      <td>855.0</td>\n",
       "      <td>Рыбинск</td>\n",
       "      <td>Ж</td>\n",
       "      <td>32</td>\n",
       "      <td>6</td>\n",
       "      <td>1036832.93</td>\n",
       "      <td>4</td>\n",
       "      <td>True</td>\n",
       "      <td>True</td>\n",
       "      <td>107792.71</td>\n",
       "      <td>True</td>\n",
       "    </tr>\n",
       "    <tr>\n",
       "      <th>7542</th>\n",
       "      <td>117943</td>\n",
       "      <td>880.0</td>\n",
       "      <td>Ярославль</td>\n",
       "      <td>Ж</td>\n",
       "      <td>40</td>\n",
       "      <td>0</td>\n",
       "      <td>NaN</td>\n",
       "      <td>1</td>\n",
       "      <td>True</td>\n",
       "      <td>False</td>\n",
       "      <td>137718.93</td>\n",
       "      <td>False</td>\n",
       "    </tr>\n",
       "    <tr>\n",
       "      <th>5863</th>\n",
       "      <td>120258</td>\n",
       "      <td>908.0</td>\n",
       "      <td>Рыбинск</td>\n",
       "      <td>Ж</td>\n",
       "      <td>38</td>\n",
       "      <td>4</td>\n",
       "      <td>2213581.63</td>\n",
       "      <td>2</td>\n",
       "      <td>False</td>\n",
       "      <td>True</td>\n",
       "      <td>160327.77</td>\n",
       "      <td>True</td>\n",
       "    </tr>\n",
       "    <tr>\n",
       "      <th>...</th>\n",
       "      <td>...</td>\n",
       "      <td>...</td>\n",
       "      <td>...</td>\n",
       "      <td>...</td>\n",
       "      <td>...</td>\n",
       "      <td>...</td>\n",
       "      <td>...</td>\n",
       "      <td>...</td>\n",
       "      <td>...</td>\n",
       "      <td>...</td>\n",
       "      <td>...</td>\n",
       "      <td>...</td>\n",
       "    </tr>\n",
       "    <tr>\n",
       "      <th>2302</th>\n",
       "      <td>220816</td>\n",
       "      <td>934.0</td>\n",
       "      <td>Рыбинск</td>\n",
       "      <td>Ж</td>\n",
       "      <td>74</td>\n",
       "      <td>5</td>\n",
       "      <td>1294285.39</td>\n",
       "      <td>3</td>\n",
       "      <td>True</td>\n",
       "      <td>False</td>\n",
       "      <td>95606.80</td>\n",
       "      <td>False</td>\n",
       "    </tr>\n",
       "    <tr>\n",
       "      <th>2597</th>\n",
       "      <td>226719</td>\n",
       "      <td>990.0</td>\n",
       "      <td>Ярославль</td>\n",
       "      <td>М</td>\n",
       "      <td>37</td>\n",
       "      <td>4</td>\n",
       "      <td>14648692.14</td>\n",
       "      <td>2</td>\n",
       "      <td>False</td>\n",
       "      <td>False</td>\n",
       "      <td>934412.61</td>\n",
       "      <td>True</td>\n",
       "    </tr>\n",
       "    <tr>\n",
       "      <th>4216</th>\n",
       "      <td>226719</td>\n",
       "      <td>903.0</td>\n",
       "      <td>Рыбинск</td>\n",
       "      <td>Ж</td>\n",
       "      <td>63</td>\n",
       "      <td>0</td>\n",
       "      <td>NaN</td>\n",
       "      <td>1</td>\n",
       "      <td>True</td>\n",
       "      <td>False</td>\n",
       "      <td>138582.58</td>\n",
       "      <td>False</td>\n",
       "    </tr>\n",
       "    <tr>\n",
       "      <th>8205</th>\n",
       "      <td>227795</td>\n",
       "      <td>840.0</td>\n",
       "      <td>Рыбинск</td>\n",
       "      <td>М</td>\n",
       "      <td>34</td>\n",
       "      <td>2</td>\n",
       "      <td>350768.03</td>\n",
       "      <td>1</td>\n",
       "      <td>True</td>\n",
       "      <td>False</td>\n",
       "      <td>102036.14</td>\n",
       "      <td>True</td>\n",
       "    </tr>\n",
       "    <tr>\n",
       "      <th>8497</th>\n",
       "      <td>227795</td>\n",
       "      <td>839.0</td>\n",
       "      <td>Ярославль</td>\n",
       "      <td>М</td>\n",
       "      <td>34</td>\n",
       "      <td>2</td>\n",
       "      <td>326593.14</td>\n",
       "      <td>2</td>\n",
       "      <td>True</td>\n",
       "      <td>False</td>\n",
       "      <td>103314.92</td>\n",
       "      <td>False</td>\n",
       "    </tr>\n",
       "  </tbody>\n",
       "</table>\n",
       "<p>100 rows × 12 columns</p>\n",
       "</div>"
      ],
      "text/plain": [
       "      user_id  score       city gender  age  equity      balance  products  \\\n",
       "1893   116540  883.0    Рыбинск      Ж   55       1    362756.49         3   \n",
       "7694   116540  887.0  Ярославль      Ж   38       0          NaN         1   \n",
       "4866   117943  855.0    Рыбинск      Ж   32       6   1036832.93         4   \n",
       "7542   117943  880.0  Ярославль      Ж   40       0          NaN         1   \n",
       "5863   120258  908.0    Рыбинск      Ж   38       4   2213581.63         2   \n",
       "...       ...    ...        ...    ...  ...     ...          ...       ...   \n",
       "2302   220816  934.0    Рыбинск      Ж   74       5   1294285.39         3   \n",
       "2597   226719  990.0  Ярославль      М   37       4  14648692.14         2   \n",
       "4216   226719  903.0    Рыбинск      Ж   63       0          NaN         1   \n",
       "8205   227795  840.0    Рыбинск      М   34       2    350768.03         1   \n",
       "8497   227795  839.0  Ярославль      М   34       2    326593.14         2   \n",
       "\n",
       "      credit_card  last_activity     salary  churn  \n",
       "1893        False           True  175920.48   True  \n",
       "7694        False           True  119247.61  False  \n",
       "4866         True           True  107792.71   True  \n",
       "7542         True          False  137718.93  False  \n",
       "5863        False           True  160327.77   True  \n",
       "...           ...            ...        ...    ...  \n",
       "2302         True          False   95606.80  False  \n",
       "2597        False          False  934412.61   True  \n",
       "4216         True          False  138582.58  False  \n",
       "8205         True          False  102036.14   True  \n",
       "8497         True          False  103314.92  False  \n",
       "\n",
       "[100 rows x 12 columns]"
      ]
     },
     "execution_count": 8,
     "metadata": {},
     "output_type": "execute_result"
    }
   ],
   "source": [
    "duplicates = df[df['user_id'].duplicated()]\n",
    "print(f\"Доля дубликатов в user_id: {duplicates['user_id'].count()/df['user_id'].count():.1%}\")\n",
    "\n",
    "duplicates_all = df[df['user_id'].duplicated(keep=False)]\n",
    "\n",
    "duplicates_all = duplicates_all.sort_values(by='user_id')\n",
    "duplicates_all"
   ]
  },
  {
   "cell_type": "markdown",
   "metadata": {},
   "source": [
    "<div class=\"alert alert-info\"> По одному и тому же человеку (среди дубликатов) могут быть совершенно разные данные, но так как доля дубликатов в user_id небольшая, удалим их."
   ]
  },
  {
   "cell_type": "code",
   "execution_count": 9,
   "metadata": {},
   "outputs": [],
   "source": [
    "df = df.drop_duplicates(subset='user_id')"
   ]
  },
  {
   "cell_type": "code",
   "execution_count": 10,
   "metadata": {},
   "outputs": [],
   "source": [
    "df_shape = df.shape[0]"
   ]
  },
  {
   "cell_type": "markdown",
   "metadata": {},
   "source": [
    "#### 6. Проведем кодирование переменных "
   ]
  },
  {
   "cell_type": "code",
   "execution_count": 11,
   "metadata": {},
   "outputs": [
    {
     "data": {
      "text/html": [
       "<div>\n",
       "<style scoped>\n",
       "    .dataframe tbody tr th:only-of-type {\n",
       "        vertical-align: middle;\n",
       "    }\n",
       "\n",
       "    .dataframe tbody tr th {\n",
       "        vertical-align: top;\n",
       "    }\n",
       "\n",
       "    .dataframe thead th {\n",
       "        text-align: right;\n",
       "    }\n",
       "</style>\n",
       "<table border=\"1\" class=\"dataframe\">\n",
       "  <thead>\n",
       "    <tr style=\"text-align: right;\">\n",
       "      <th></th>\n",
       "      <th>user_id</th>\n",
       "      <th>score</th>\n",
       "      <th>city</th>\n",
       "      <th>age</th>\n",
       "      <th>equity</th>\n",
       "      <th>balance</th>\n",
       "      <th>products</th>\n",
       "      <th>credit_card</th>\n",
       "      <th>last_activity</th>\n",
       "      <th>salary</th>\n",
       "      <th>churn</th>\n",
       "      <th>gender_М</th>\n",
       "    </tr>\n",
       "  </thead>\n",
       "  <tbody>\n",
       "    <tr>\n",
       "      <th>0</th>\n",
       "      <td>183012</td>\n",
       "      <td>850.0</td>\n",
       "      <td>Рыбинск</td>\n",
       "      <td>25</td>\n",
       "      <td>1</td>\n",
       "      <td>59214.82</td>\n",
       "      <td>2</td>\n",
       "      <td>False</td>\n",
       "      <td>True</td>\n",
       "      <td>75719.14</td>\n",
       "      <td>True</td>\n",
       "      <td>0</td>\n",
       "    </tr>\n",
       "    <tr>\n",
       "      <th>1</th>\n",
       "      <td>146556</td>\n",
       "      <td>861.0</td>\n",
       "      <td>Рыбинск</td>\n",
       "      <td>37</td>\n",
       "      <td>5</td>\n",
       "      <td>850594.33</td>\n",
       "      <td>3</td>\n",
       "      <td>True</td>\n",
       "      <td>False</td>\n",
       "      <td>86621.77</td>\n",
       "      <td>False</td>\n",
       "      <td>0</td>\n",
       "    </tr>\n",
       "    <tr>\n",
       "      <th>2</th>\n",
       "      <td>120722</td>\n",
       "      <td>892.0</td>\n",
       "      <td>Рыбинск</td>\n",
       "      <td>30</td>\n",
       "      <td>0</td>\n",
       "      <td>NaN</td>\n",
       "      <td>1</td>\n",
       "      <td>True</td>\n",
       "      <td>True</td>\n",
       "      <td>107683.34</td>\n",
       "      <td>False</td>\n",
       "      <td>0</td>\n",
       "    </tr>\n",
       "    <tr>\n",
       "      <th>3</th>\n",
       "      <td>225363</td>\n",
       "      <td>866.0</td>\n",
       "      <td>Ярославль</td>\n",
       "      <td>51</td>\n",
       "      <td>5</td>\n",
       "      <td>1524746.26</td>\n",
       "      <td>2</td>\n",
       "      <td>False</td>\n",
       "      <td>True</td>\n",
       "      <td>174423.53</td>\n",
       "      <td>True</td>\n",
       "      <td>0</td>\n",
       "    </tr>\n",
       "    <tr>\n",
       "      <th>4</th>\n",
       "      <td>157978</td>\n",
       "      <td>730.0</td>\n",
       "      <td>Ярославль</td>\n",
       "      <td>34</td>\n",
       "      <td>5</td>\n",
       "      <td>174.00</td>\n",
       "      <td>1</td>\n",
       "      <td>True</td>\n",
       "      <td>False</td>\n",
       "      <td>67353.16</td>\n",
       "      <td>True</td>\n",
       "      <td>1</td>\n",
       "    </tr>\n",
       "  </tbody>\n",
       "</table>\n",
       "</div>"
      ],
      "text/plain": [
       "   user_id  score       city  age  equity     balance  products  credit_card  \\\n",
       "0   183012  850.0    Рыбинск   25       1    59214.82         2        False   \n",
       "1   146556  861.0    Рыбинск   37       5   850594.33         3         True   \n",
       "2   120722  892.0    Рыбинск   30       0         NaN         1         True   \n",
       "3   225363  866.0  Ярославль   51       5  1524746.26         2        False   \n",
       "4   157978  730.0  Ярославль   34       5      174.00         1         True   \n",
       "\n",
       "   last_activity     salary  churn  gender_М  \n",
       "0           True   75719.14   True         0  \n",
       "1          False   86621.77  False         0  \n",
       "2           True  107683.34  False         0  \n",
       "3           True  174423.53   True         0  \n",
       "4          False   67353.16   True         1  "
      ]
     },
     "execution_count": 11,
     "metadata": {},
     "output_type": "execute_result"
    }
   ],
   "source": [
    "df_dummies = pd.get_dummies(df, columns=['gender'], drop_first=True)\n",
    "df_dummies.head()"
   ]
  },
  {
   "cell_type": "markdown",
   "metadata": {},
   "source": [
    "<div class=\"alert alert-info\"> <b>Вывод:</b> В данных удалили дубликаты по user_id и пропуски в age, пропуски в balance оставили. Также привели данные к правильному типу и переименновали некоторые колонки. Создали отдельную таблицу, в которой переменная gender изменена на дамми переменную (gender_M)."
   ]
  },
  {
   "cell_type": "markdown",
   "metadata": {},
   "source": [
    "### Исследовательский анализ данных "
   ]
  },
  {
   "cell_type": "markdown",
   "metadata": {},
   "source": [
    "#### 1. Посмотрим на расспределение переменных"
   ]
  },
  {
   "cell_type": "code",
   "execution_count": 12,
   "metadata": {},
   "outputs": [],
   "source": [
    "def plot_var(data, var, name, name2):\n",
    "    fig, (ax1, ax2) = plt.subplots(1, 2, figsize=(12, 6), gridspec_kw={'width_ratios': [1, 1.5]})\n",
    "    \n",
    "    sns.boxplot(y=var, data=data, ax=ax1, color=\"#636efa\")\n",
    "    ax1.set_title(f'Boxplot', fontsize=14)\n",
    "    ax1.set_ylabel(name2, fontsize=12)\n",
    "    ax1.set_xlabel('')\n",
    "\n",
    "    sns.histplot(data[var], bins=20, kde=True, ax=ax2, color=\"#00cc96\")\n",
    "    ax2.set_title(f'Histogram', fontsize=14)\n",
    "    ax2.set_xlabel(name2, fontsize=12)\n",
    "    ax2.set_ylabel('Количество', fontsize=12)\n",
    "    \n",
    "    fig.suptitle(name, fontsize=16, y=1.05)\n",
    "    plt.tight_layout()\n",
    "    plt.show()"
   ]
  },
  {
   "cell_type": "code",
   "execution_count": 13,
   "metadata": {},
   "outputs": [],
   "source": [
    "colors = ['#636efa', '#ef553b', '#00cc96', '#ab63fa', '#ffa15a', \n",
    "          '#19d3f3', '#ff6692', '#b6e880', '#ff97ff', '#fecb52', '#c6cafd']"
   ]
  },
  {
   "cell_type": "markdown",
   "metadata": {},
   "source": [
    "##### 1.1. Распределение баланса на счёте"
   ]
  },
  {
   "cell_type": "code",
   "execution_count": 14,
   "metadata": {},
   "outputs": [
    {
     "data": {
      "image/png": "[encoded data removed]",
      "text/plain": [
       "<Figure size 864x432 with 2 Axes>"
      ]
     },
     "metadata": {
      "needs_background": "light"
     },
     "output_type": "display_data"
    }
   ],
   "source": [
    "plot_var(df, 'balance', 'Распределение баланса на счёте', 'Баланс на счёте')"
   ]
  },
  {
   "cell_type": "markdown",
   "metadata": {},
   "source": [
    "В балансе клиентов есть сильные выбросы, отбросим людей с более 2 миллионами на счете. "
   ]
  },
  {
   "cell_type": "code",
   "execution_count": 15,
   "metadata": {},
   "outputs": [
    {
     "name": "stdout",
     "output_type": "stream",
     "text": [
      "Доля оставшихся после удаления данных:  95.7\n"
     ]
    }
   ],
   "source": [
    "df_new = df[(df['balance'] < 2000000) | (df['balance'].isna())]\n",
    "df_shape_new = df_new.shape[0]\n",
    "print('Доля оставшихся после удаления данных: ', round(df_shape_new/df_shape * 100,2))"
   ]
  },
  {
   "cell_type": "markdown",
   "metadata": {},
   "source": [
    "Количество отброшенных данных не превышает 10%"
   ]
  },
  {
   "cell_type": "code",
   "execution_count": 16,
   "metadata": {},
   "outputs": [],
   "source": [
    "df = df_new"
   ]
  },
  {
   "cell_type": "code",
   "execution_count": 17,
   "metadata": {},
   "outputs": [
    {
     "data": {
      "image/png": "[encoded data removed]",
      "text/plain": [
       "<Figure size 864x432 with 2 Axes>"
      ]
     },
     "metadata": {
      "needs_background": "light"
     },
     "output_type": "display_data"
    }
   ],
   "source": [
    "plot_var(df, 'balance', 'Распределение баланса на счёте', 'Баланс на счёте')"
   ]
  },
  {
   "cell_type": "markdown",
   "metadata": {},
   "source": [
    "<div class=\"alert alert-info\"> Медианное значение баланса - 489К. Большинство клиентов имеет баланс от 286К до 872К. Количество людей с балансом более 1.75М достаточно маленькое, но удалять их не будем."
   ]
  },
  {
   "cell_type": "markdown",
   "metadata": {},
   "source": [
    "##### 1.2 Распределение зарплаты"
   ]
  },
  {
   "cell_type": "code",
   "execution_count": 18,
   "metadata": {},
   "outputs": [
    {
     "data": {
      "image/png": "[encoded data removed]",
      "text/plain": [
       "<Figure size 864x432 with 2 Axes>"
      ]
     },
     "metadata": {
      "needs_background": "light"
     },
     "output_type": "display_data"
    }
   ],
   "source": [
    "plot_var(df, 'salary', 'Распределение зарплаты', 'Зарплата')"
   ]
  },
  {
   "cell_type": "markdown",
   "metadata": {},
   "source": [
    "Распределение зарпалаты также неравномерно. Может удалить некоторые выбросы: клиентов с зарплатой больше 500 тысяч."
   ]
  },
  {
   "cell_type": "code",
   "execution_count": 19,
   "metadata": {},
   "outputs": [
    {
     "name": "stdout",
     "output_type": "stream",
     "text": [
      "Доля оставшихся после удаления данных:  93.68\n"
     ]
    }
   ],
   "source": [
    "df_new = df[(df['salary'] <= 500000) | (df['salary'].isna())]\n",
    "df_shape_new = df_new.shape[0]\n",
    "print('Доля оставшихся после удаления данных: ', round(df_shape_new/df_shape * 100,2))"
   ]
  },
  {
   "cell_type": "markdown",
   "metadata": {},
   "source": [
    "Количество отброшенных данных не превышает 10%"
   ]
  },
  {
   "cell_type": "code",
   "execution_count": 20,
   "metadata": {},
   "outputs": [],
   "source": [
    "df = df_new"
   ]
  },
  {
   "cell_type": "code",
   "execution_count": 21,
   "metadata": {},
   "outputs": [
    {
     "data": {
      "image/png": "[encoded data removed]",
      "text/plain": [
       "<Figure size 864x432 with 2 Axes>"
      ]
     },
     "metadata": {
      "needs_background": "light"
     },
     "output_type": "display_data"
    }
   ],
   "source": [
    "plot_var(df, 'salary', 'Распределение зарплаты', 'Зарплата')"
   ]
  },
  {
   "cell_type": "markdown",
   "metadata": {},
   "source": [
    "<div class=\"alert alert-info\"> Выбросы все еще есть, но пока оставим их. Медианная зарплата около 115К. Большинство клиентов имеют зарплату от 73К до 165К."
   ]
  },
  {
   "cell_type": "markdown",
   "metadata": {},
   "source": [
    "##### 1.3 Распределение баллов кредитного скоринга"
   ]
  },
  {
   "cell_type": "code",
   "execution_count": 22,
   "metadata": {},
   "outputs": [
    {
     "data": {
      "image/png": "[encoded data removed]",
      "text/plain": [
       "<Figure size 864x432 with 2 Axes>"
      ]
     },
     "metadata": {
      "needs_background": "light"
     },
     "output_type": "display_data"
    }
   ],
   "source": [
    "plot_var(df, 'score', 'Распределение баллов кредитного скоринга', 'Балл кредитного скоринга')"
   ]
  },
  {
   "cell_type": "markdown",
   "metadata": {},
   "source": [
    "<div class=\"alert alert-info\">Распределение баллов кредитного скоринга близко к нормальному, есть небольшие выбросы: несколько пользователей с баллами ниже 657. Медиана - 848. Большинство пользователей имеею рейтинг от 800 до 895."
   ]
  },
  {
   "cell_type": "markdown",
   "metadata": {},
   "source": [
    "##### 1.4 Распределение возраста"
   ]
  },
  {
   "cell_type": "code",
   "execution_count": 23,
   "metadata": {
    "scrolled": false
   },
   "outputs": [
    {
     "data": {
      "image/png": "[encoded data removed]",
      "text/plain": [
       "<Figure size 864x432 with 2 Axes>"
      ]
     },
     "metadata": {
      "needs_background": "light"
     },
     "output_type": "display_data"
    }
   ],
   "source": [
    "plot_var(df, 'age', 'Распределение возраста', 'Возраст')"
   ]
  },
  {
   "cell_type": "markdown",
   "metadata": {},
   "source": [
    "<div class=\"alert alert-info\">Большинству клиентов 33-51 год, а медианный возраст - 40 лет. Есть небольшое количество людей, старше 78 лет. "
   ]
  },
  {
   "cell_type": "markdown",
   "metadata": {},
   "source": [
    "##### 1.5 Распределение количества баллов собственности"
   ]
  },
  {
   "cell_type": "code",
   "execution_count": 24,
   "metadata": {},
   "outputs": [
    {
     "data": {
      "image/png": "[encoded data removed]",
      "text/plain": [
       "<Figure size 864x432 with 2 Axes>"
      ]
     },
     "metadata": {
      "needs_background": "light"
     },
     "output_type": "display_data"
    }
   ],
   "source": [
    "plot_var(df, 'equity', 'Распределение количества баллов собственности', 'Балл собственности')"
   ]
  },
  {
   "cell_type": "markdown",
   "metadata": {},
   "source": [
    "<div class=\"alert alert-info\">Большинство клиентов имеют 0 баллов собственности, также большое количество имеют 4 и 5 балла. Выше 5 уже совсем малое количество. Медиана - 3 балла."
   ]
  },
  {
   "cell_type": "markdown",
   "metadata": {},
   "source": [
    "##### 1.6 Распределение количества продуктов, которыми пользуется клиент"
   ]
  },
  {
   "cell_type": "code",
   "execution_count": 25,
   "metadata": {},
   "outputs": [
    {
     "data": {
      "image/png": "[encoded data removed]",
      "text/plain": [
       "<Figure size 864x432 with 2 Axes>"
      ]
     },
     "metadata": {
      "needs_background": "light"
     },
     "output_type": "display_data"
    }
   ],
   "source": [
    "plot_var(df, 'products', 'Распределение количества продуктов, которыми пользуется клиент', 'Количество продуктов')"
   ]
  },
  {
   "cell_type": "markdown",
   "metadata": {},
   "source": [
    "<div class=\"alert alert-info\">Большинство клиентов пользуются 2 продуктами банка, и только 19 человек пользуются 5 продуктами, что является максимальным количеством продуктов. Ноль продуктов всего у нескольких клиентов."
   ]
  },
  {
   "cell_type": "markdown",
   "metadata": {},
   "source": [
    "##### 1.7 Распределение клиентов по городам"
   ]
  },
  {
   "cell_type": "code",
   "execution_count": 26,
   "metadata": {},
   "outputs": [
    {
     "data": {
      "image/png": "[encoded data removed]",
      "text/plain": [
       "<Figure size 432x432 with 1 Axes>"
      ]
     },
     "metadata": {},
     "output_type": "display_data"
    }
   ],
   "source": [
    "city_counts = df['city'].value_counts().reset_index()\n",
    "city_counts.columns = ['city', 'count']\n",
    "\n",
    "plt.figure(figsize=(6, 6))\n",
    "plt.pie(city_counts['count'], \n",
    "        labels=city_counts['city'], \n",
    "        autopct='%1.1f%%',  \n",
    "        startangle=90, \n",
    "        colors=colors, \n",
    "        textprops={'fontsize': 12, 'color': 'black'})\n",
    "plt.title('Распределение клиентов по городам', fontsize=16, pad=20)\n",
    "plt.axis('equal')  \n",
    "plt.show()"
   ]
  },
  {
   "cell_type": "markdown",
   "metadata": {},
   "source": [
    "<div class=\"alert alert-info\"> Больше всего клиентов в Ярославле, меньше всего в Ростове."
   ]
  },
  {
   "cell_type": "markdown",
   "metadata": {},
   "source": [
    "##### 1.8 Распределение клиентов по полу"
   ]
  },
  {
   "cell_type": "code",
   "execution_count": 27,
   "metadata": {},
   "outputs": [
    {
     "data": {
      "image/png": "[encoded data removed]",
      "text/plain": [
       "<Figure size 432x432 with 1 Axes>"
      ]
     },
     "metadata": {},
     "output_type": "display_data"
    }
   ],
   "source": [
    "gender_counts = df['gender'].value_counts().reset_index()\n",
    "gender_counts.columns = ['gender', 'count']\n",
    "\n",
    "plt.figure(figsize=(6, 6))\n",
    "plt.pie(\n",
    "    gender_counts['count'], \n",
    "    labels=gender_counts['gender'], \n",
    "    autopct='%1.1f%%', \n",
    "    startangle=90, \n",
    "    colors=colors, \n",
    "    textprops={'fontsize': 12, 'color': 'black'})\n",
    "plt.title('Распределение клиентов по полу', fontsize=16, pad=20)\n",
    "plt.axis('equal')\n",
    "plt.show()"
   ]
  },
  {
   "cell_type": "markdown",
   "metadata": {},
   "source": [
    "<div class=\"alert alert-info\">Количество мужчин и женщин среди клиентов примерно одинаково (мужчин совсем немного меньше)."
   ]
  },
  {
   "cell_type": "markdown",
   "metadata": {},
   "source": [
    "##### 1.9 Распределение клиентов по наличию кредитной карты"
   ]
  },
  {
   "cell_type": "code",
   "execution_count": 28,
   "metadata": {},
   "outputs": [
    {
     "data": {
      "image/png": "[encoded data removed]",
      "text/plain": [
       "<Figure size 432x432 with 1 Axes>"
      ]
     },
     "metadata": {},
     "output_type": "display_data"
    }
   ],
   "source": [
    "city_counts = df['credit_card'].value_counts().reset_index()\n",
    "city_counts.columns = ['credit_card', 'count']\n",
    "\n",
    "plt.figure(figsize=(6, 6))\n",
    "plt.pie(\n",
    "    city_counts['count'], \n",
    "    labels=city_counts['credit_card'], \n",
    "    autopct='%1.1f%%', \n",
    "    startangle=90, \n",
    "    colors=colors, \n",
    "    textprops={'fontsize': 12, 'color': 'black'})\n",
    "plt.title('Распределение клиентов по наличию кредитной карты', fontsize=16, pad=20)\n",
    "plt.axis('equal')\n",
    "plt.show()"
   ]
  },
  {
   "cell_type": "markdown",
   "metadata": {},
   "source": [
    "<div class=\"alert alert-info\"> Кредитной картой владеют в два раза больше клиентов."
   ]
  },
  {
   "cell_type": "markdown",
   "metadata": {},
   "source": [
    "##### 1.10 Распределение клиентов по активности"
   ]
  },
  {
   "cell_type": "code",
   "execution_count": 29,
   "metadata": {},
   "outputs": [
    {
     "data": {
      "image/png": "[encoded data removed]",
      "text/plain": [
       "<Figure size 432x432 with 1 Axes>"
      ]
     },
     "metadata": {},
     "output_type": "display_data"
    }
   ],
   "source": [
    "city_counts = df['last_activity'].value_counts().reset_index()\n",
    "city_counts.columns = ['last_activity', 'count']\n",
    "\n",
    "plt.figure(figsize=(6, 6))\n",
    "plt.pie(\n",
    "    city_counts['count'], \n",
    "    labels=city_counts['last_activity'], \n",
    "    autopct='%1.1f%%', \n",
    "    startangle=90, \n",
    "    colors=colors, \n",
    "    textprops={'fontsize': 12, 'color': 'black'})\n",
    "plt.title('Распределение клиентов по активности', fontsize=16, pad=20)\n",
    "plt.axis('equal')\n",
    "plt.show()"
   ]
  },
  {
   "cell_type": "markdown",
   "metadata": {},
   "source": [
    "<div class=\"alert alert-info\"> По активности клиенты распределены почти одинаково (чуть больше активных клиентов)."
   ]
  },
  {
   "cell_type": "markdown",
   "metadata": {},
   "source": [
    "<div class=\"alert alert-info\"> <b>Вывод</b>: Еще раз посмотрим на медианные значения по переменным:\n",
    "        \n",
    "- баланс на счету: 489K,\n",
    "- зарплата: 115K,\n",
    "- возраст: 40 лет, \n",
    "- баллы кредитного скоринга: 848 баллов,\n",
    "- баллы собственности: 3,\n",
    "- количество продуктов: 2. \n",
    "    \n",
    "Также стоит отметить, что:\n",
    "\n",
    "- больше всего пользователей в Ярославле; \n",
    "- количество женщин и мужчин среди клиентов примерно одинаково; \n",
    "- у большинства есть кредитная карта; \n",
    "- примерно одинаковое количество активных и неактивных пользователей."
   ]
  },
  {
   "cell_type": "markdown",
   "metadata": {},
   "source": [
    "#### 2. Построим портреты клиентов (разделив на группы ушли/не ушли)"
   ]
  },
  {
   "cell_type": "code",
   "execution_count": 30,
   "metadata": {},
   "outputs": [
    {
     "data": {
      "image/png": "[encoded data removed]",
      "text/plain": [
       "<Figure size 432x432 with 1 Axes>"
      ]
     },
     "metadata": {},
     "output_type": "display_data"
    }
   ],
   "source": [
    "churn_counts = df['churn'].value_counts().reset_index()\n",
    "churn_counts.columns = ['churn', 'count']\n",
    "\n",
    "plt.figure(figsize=(6, 6))\n",
    "plt.pie(\n",
    "    churn_counts['count'], \n",
    "    labels=churn_counts['churn'], \n",
    "    autopct='%1.1f%%', \n",
    "    startangle=90, \n",
    "    colors=colors, \n",
    "    textprops={'fontsize': 12, 'color': 'black'})\n",
    "plt.title('Доли ушедших/оставшихся клиентов', fontsize=16, pad=20)\n",
    "plt.axis('equal')\n",
    "plt.show()"
   ]
  },
  {
   "cell_type": "markdown",
   "metadata": {},
   "source": [
    "<div class=\"alert alert-info\"> Доля ушедших клиентов составляет 17.2%, что является достаточно большой частью - почти одна пятая часть от всех клиентов."
   ]
  },
  {
   "cell_type": "code",
   "execution_count": 31,
   "metadata": {},
   "outputs": [],
   "source": [
    "df_leave = df[df['churn'] == True]\n",
    "df_stay = df[df['churn'] == False]"
   ]
  },
  {
   "cell_type": "markdown",
   "metadata": {},
   "source": [
    "##### 1.1 Распределение баллов кредитного скоринга"
   ]
  },
  {
   "cell_type": "code",
   "execution_count": 32,
   "metadata": {},
   "outputs": [],
   "source": [
    "def leave_stay_plot(var, name, name2):\n",
    "    mean_leave = df_leave[var].mean()\n",
    "    mean_stay = df_stay[var].mean()\n",
    "    print('Среднее значение у оставшихся клиентов:', round(mean_stay))\n",
    "    print('Среднее значение у ушедших клиентов:', round(mean_leave))\n",
    "\n",
    "    plt.figure(figsize=(10, 6))\n",
    "    sns.histplot(data=df, x=var, hue='churn', multiple='stack', kde=False, palette=colors[:2])\n",
    "    \n",
    "    plt.title('Распределение ' + name, fontsize=16, pad=15)\n",
    "    plt.xlabel(name2, fontsize=14)\n",
    "    plt.ylabel('Количество клиентов', fontsize=14)\n",
    "    plt.legend(title='Ушел ли клиент', labels=['Остался', 'Ушел'])\n",
    "    plt.show()"
   ]
  },
  {
   "cell_type": "code",
   "execution_count": 33,
   "metadata": {},
   "outputs": [
    {
     "name": "stdout",
     "output_type": "stream",
     "text": [
      "Среднее значение у оставшихся клиентов: 843\n",
      "Среднее значение у ушедших клиентов: 856\n"
     ]
    },
    {
     "data": {
      "image/png": "[encoded data removed]",
      "text/plain": [
       "<Figure size 720x432 with 1 Axes>"
      ]
     },
     "metadata": {
      "needs_background": "light"
     },
     "output_type": "display_data"
    }
   ],
   "source": [
    "leave_stay_plot('score', 'баллов кредитного скоринга', 'Балл кредитного скоринга')"
   ]
  },
  {
   "cell_type": "markdown",
   "metadata": {},
   "source": [
    "<div class=\"alert alert-info\"> Среди оставшихся клиентов средний балл ниже, чем среди тех, что ушел (примерно на 13 баллов)."
   ]
  },
  {
   "cell_type": "markdown",
   "metadata": {},
   "source": [
    "##### 1.2 Распределение возраста"
   ]
  },
  {
   "cell_type": "code",
   "execution_count": 34,
   "metadata": {},
   "outputs": [
    {
     "name": "stdout",
     "output_type": "stream",
     "text": [
      "Среднее значение у оставшихся клиентов: 43\n",
      "Среднее значение у ушедших клиентов: 41\n"
     ]
    },
    {
     "data": {
      "image/png": "[encoded data removed]",
      "text/plain": [
       "<Figure size 720x432 with 1 Axes>"
      ]
     },
     "metadata": {
      "needs_background": "light"
     },
     "output_type": "display_data"
    }
   ],
   "source": [
    "leave_stay_plot('age', 'возраста клиентов', 'Возраст')"
   ]
  },
  {
   "cell_type": "markdown",
   "metadata": {},
   "source": [
    "<div class=\"alert alert-info\"> Распределение возраста ушедших и оставшихся клиентов очень схоже. Среди оставшихся клиентов есть более пожилые люди (макс возраст больше)."
   ]
  },
  {
   "cell_type": "markdown",
   "metadata": {},
   "source": [
    "##### 1.3 Распределение баллов собственности"
   ]
  },
  {
   "cell_type": "code",
   "execution_count": 35,
   "metadata": {},
   "outputs": [
    {
     "name": "stdout",
     "output_type": "stream",
     "text": [
      "Среднее значение у оставшихся клиентов: 2\n",
      "Среднее значение у ушедших клиентов: 4\n"
     ]
    },
    {
     "data": {
      "image/png": "[encoded data removed]",
      "text/plain": [
       "<Figure size 720x432 with 1 Axes>"
      ]
     },
     "metadata": {
      "needs_background": "light"
     },
     "output_type": "display_data"
    }
   ],
   "source": [
    "leave_stay_plot('equity', 'баллов собственности', 'Балл собственности')"
   ]
  },
  {
   "cell_type": "markdown",
   "metadata": {},
   "source": [
    "<div class=\"alert alert-info\"> Количество клиентов с нулем баллов собственности среди ушедших сильно ниже, чем среди тех, кто остался."
   ]
  },
  {
   "cell_type": "markdown",
   "metadata": {},
   "source": [
    "##### 1.4 Распределение баланса на счете"
   ]
  },
  {
   "cell_type": "code",
   "execution_count": 36,
   "metadata": {},
   "outputs": [
    {
     "name": "stdout",
     "output_type": "stream",
     "text": [
      "Среднее значение у оставшихся клиентов: 569863\n",
      "Среднее значение у ушедших клиентов: 764171\n"
     ]
    },
    {
     "data": {
      "image/png": "[encoded data removed]",
      "text/plain": [
       "<Figure size 720x432 with 1 Axes>"
      ]
     },
     "metadata": {
      "needs_background": "light"
     },
     "output_type": "display_data"
    }
   ],
   "source": [
    "leave_stay_plot('balance', 'баланса на счете', 'Баланс')"
   ]
  },
  {
   "cell_type": "markdown",
   "metadata": {},
   "source": [
    "<div class=\"alert alert-info\"> Баланс счета ушедших клиентов в среднем на 200K больше, чем у оставшихся. "
   ]
  },
  {
   "cell_type": "markdown",
   "metadata": {},
   "source": [
    "##### 1.5 Распределение количества продуктов"
   ]
  },
  {
   "cell_type": "code",
   "execution_count": 37,
   "metadata": {},
   "outputs": [
    {
     "name": "stdout",
     "output_type": "stream",
     "text": [
      "Среднее значение у оставшихся клиентов: 2\n",
      "Среднее значение у ушедших клиентов: 2\n"
     ]
    },
    {
     "data": {
      "image/png": "[encoded data removed]",
      "text/plain": [
       "<Figure size 720x432 with 1 Axes>"
      ]
     },
     "metadata": {
      "needs_background": "light"
     },
     "output_type": "display_data"
    }
   ],
   "source": [
    "leave_stay_plot('products', 'количества продуктов', 'Количество продуктов')"
   ]
  },
  {
   "cell_type": "markdown",
   "metadata": {},
   "source": [
    "<div class=\"alert alert-info\"> Распределение количества продуктов в целом схоже, но среди оставшихся нет клиентов с 0 продуктов и намного больше людей с 1-2 продуктами."
   ]
  },
  {
   "cell_type": "markdown",
   "metadata": {},
   "source": [
    "##### 1.6 Распределение зарплаты"
   ]
  },
  {
   "cell_type": "code",
   "execution_count": 38,
   "metadata": {},
   "outputs": [
    {
     "name": "stdout",
     "output_type": "stream",
     "text": [
      "Среднее значение у оставшихся клиентов: 125714\n",
      "Среднее значение у ушедших клиентов: 124264\n"
     ]
    },
    {
     "data": {
      "image/png": "[encoded data removed]",
      "text/plain": [
       "<Figure size 720x432 with 1 Axes>"
      ]
     },
     "metadata": {
      "needs_background": "light"
     },
     "output_type": "display_data"
    }
   ],
   "source": [
    "leave_stay_plot('salary', 'зарплаты', 'Зарплата')"
   ]
  },
  {
   "cell_type": "markdown",
   "metadata": {},
   "source": [
    "<div class=\"alert alert-info\"> Распределение зарплаты очень схоже."
   ]
  },
  {
   "cell_type": "markdown",
   "metadata": {},
   "source": [
    "##### 1.7 Распределение по городам"
   ]
  },
  {
   "cell_type": "code",
   "execution_count": 39,
   "metadata": {},
   "outputs": [
    {
     "data": {
      "image/png": "[encoded data removed]",
      "text/plain": [
       "<Figure size 720x432 with 1 Axes>"
      ]
     },
     "metadata": {
      "needs_background": "light"
     },
     "output_type": "display_data"
    }
   ],
   "source": [
    "plt.figure(figsize=(10, 6))\n",
    "sns.countplot(data=df, x='city', hue='churn', palette=colors[1::-1])\n",
    "\n",
    "plt.title('Распределение ушедших/оставшихся клиентов по городам', fontsize=16, pad=15)\n",
    "plt.xlabel('Город', fontsize=14)\n",
    "plt.ylabel('Количество клиентов', fontsize=14)\n",
    "plt.legend(title='Ушел ли клиент', labels=['Остался', 'Ушел'])\n",
    "plt.show()"
   ]
  },
  {
   "cell_type": "markdown",
   "metadata": {},
   "source": [
    "<div class=\"alert alert-info\"> Распределение по городам тоже похоже. Больше всего клиентов в городе Ярославль, меньше всего в Ростове."
   ]
  },
  {
   "cell_type": "markdown",
   "metadata": {},
   "source": [
    "##### 1.8 Распределение по полу"
   ]
  },
  {
   "cell_type": "code",
   "execution_count": 40,
   "metadata": {},
   "outputs": [
    {
     "data": {
      "image/png": "[encoded data removed]",
      "text/plain": [
       "<Figure size 720x432 with 1 Axes>"
      ]
     },
     "metadata": {
      "needs_background": "light"
     },
     "output_type": "display_data"
    }
   ],
   "source": [
    "plt.figure(figsize=(10, 6))\n",
    "sns.countplot(data=df, x='gender', hue='churn', palette=colors[1::-1])\n",
    "\n",
    "plt.title('Распределение ушедших/оставшихся клиентов по полу', fontsize=16, pad=15)\n",
    "plt.xlabel('Пол', fontsize=14)\n",
    "plt.ylabel('Количество клиентов', fontsize=14)\n",
    "plt.legend(title='Ушел ли клиент', labels=['Остался', 'Ушел'])\n",
    "plt.show()"
   ]
  },
  {
   "cell_type": "markdown",
   "metadata": {},
   "source": [
    "<div class=\"alert alert-info\">Среди ушедших клиентов больше мужчин."
   ]
  },
  {
   "cell_type": "markdown",
   "metadata": {},
   "source": [
    "##### 1.9 Распределение по наличию кредитной карты"
   ]
  },
  {
   "cell_type": "code",
   "execution_count": 41,
   "metadata": {},
   "outputs": [
    {
     "data": {
      "image/png": "[encoded data removed]",
      "text/plain": [
       "<Figure size 720x432 with 1 Axes>"
      ]
     },
     "metadata": {
      "needs_background": "light"
     },
     "output_type": "display_data"
    }
   ],
   "source": [
    "plt.figure(figsize=(10, 6))\n",
    "sns.countplot(data=df, x='credit_card', hue='churn', palette=colors[1::-1])\n",
    "\n",
    "plt.title('Распределение ушедших/оставшихся клиентов по наличию кредитной карты', fontsize=16, pad=15)\n",
    "plt.xlabel('Есть ли кредитная карта', fontsize=14)\n",
    "plt.ylabel('Количество клиентов', fontsize=14)\n",
    "plt.legend(title='Ушел ли клиент', labels=['Остался', 'Ушел'])\n",
    "plt.show()"
   ]
  },
  {
   "cell_type": "markdown",
   "metadata": {},
   "source": [
    "<div class=\"alert alert-info\"> В сравнении с оставшимися клиентами, у ушедших клиентов примерно одинаковое количество людей с кредитной картой и без (немного больше с картой). В то время как у оставшихся намного больше людей имеют кредитную карту. "
   ]
  },
  {
   "cell_type": "markdown",
   "metadata": {},
   "source": [
    "##### 1.10 Распределение активных клиентов"
   ]
  },
  {
   "cell_type": "code",
   "execution_count": 42,
   "metadata": {},
   "outputs": [
    {
     "data": {
      "image/png": "[encoded data removed]",
      "text/plain": [
       "<Figure size 720x432 with 1 Axes>"
      ]
     },
     "metadata": {
      "needs_background": "light"
     },
     "output_type": "display_data"
    }
   ],
   "source": [
    "plt.figure(figsize=(10, 6))\n",
    "sns.countplot(data=df, x='last_activity', hue='churn', palette=colors[1::-1])\n",
    "\n",
    "plt.title('Количество активных клиентов среди ушедших/оставшихся', fontsize=16, pad=15)\n",
    "plt.xlabel('Активен ли клиент', fontsize=14)\n",
    "plt.ylabel('Количество клиентов', fontsize=14)\n",
    "plt.legend(title='Ушел ли клиент', labels=['Остался', 'Ушел'])\n",
    "plt.show()"
   ]
  },
  {
   "cell_type": "markdown",
   "metadata": {},
   "source": [
    "<div class=\"alert alert-info\"> Среди ушедших клиентов больше активных, в то время как среди оставшихся - неактивных."
   ]
  },
  {
   "cell_type": "markdown",
   "metadata": {},
   "source": [
    "<div class=\"alert alert-info\"> <b>Вывод</b>: Доля ушедших клиетов составляет около пятой части всех клиентов. Если говорить о ключевых различиях между ушедшими и оставшимися клиентами, стоит отметить:\n",
    "\n",
    "- Балл кредитного скоринга ушедших клиентов в среднем на 13 выше, чем у тех, кто остался.\n",
    "- Среди оставшихся клиентов больше людей пожилого возраста. \n",
    "- Количество клиентов с 0 баллов собственности среди ушедших сильно ниже, чем среди тех, кто остался.\n",
    "- Баланса счета ушедших клиентов в среднем на 200K больше, чем у оставшихся.\n",
    "- Среди оставшихся нет клиентов с 0 продуктов и намного больше людей с 1-2 продуктами.\n",
    "- Зарплата почти одинакова.\n",
    "- Среди тех, кто ушел, больше мужчин.\n",
    "- Среди тех клиентов, кто имеет кредитную карту, меньше процент ухода.\n",
    "- Среди ушедших клиентов больше активных."
   ]
  },
  {
   "cell_type": "markdown",
   "metadata": {},
   "source": [
    "#### 3. Проведем корреляционный анализ"
   ]
  },
  {
   "cell_type": "code",
   "execution_count": 43,
   "metadata": {
    "scrolled": true
   },
   "outputs": [
    {
     "data": {
      "text/plain": [
       "products         0.301291\n",
       "equity           0.270115\n",
       "last_activity    0.169459\n",
       "gender_М         0.141601\n",
       "score            0.106383\n",
       "balance          0.085708\n",
       "salary           0.001392\n",
       "age             -0.049748\n",
       "credit_card     -0.130564\n",
       "Name: churn, dtype: float64"
      ]
     },
     "execution_count": 43,
     "metadata": {},
     "output_type": "execute_result"
    }
   ],
   "source": [
    "correlation = df_dummies.corr()['churn'].drop(['churn','user_id']).sort_values(ascending=False)\n",
    "correlation"
   ]
  },
  {
   "cell_type": "markdown",
   "metadata": {},
   "source": [
    "<div class=\"alert alert-info\"> С переменной оттока сильной связи не наблюдается ни у одного показателя. Наиболее связанные показатели: количество продуктов, собственность и баланс. Они положительно влияют на отток. "
   ]
  },
  {
   "cell_type": "markdown",
   "metadata": {},
   "source": [
    "### Проверка гипотез"
   ]
  },
  {
   "cell_type": "markdown",
   "metadata": {},
   "source": [
    "Будем использовать тест Манна-Уинти, так как он устойчив к аномальным значениям, что как раз необходимо в нашем случае, ведь в анализируемых переменных присутствуют выбросы."
   ]
  },
  {
   "cell_type": "markdown",
   "metadata": {},
   "source": [
    "#### 1. Гипотеза \"Средний доход тех клиентов, которые ушли и тех, которые остались, одинаков\""
   ]
  },
  {
   "cell_type": "markdown",
   "metadata": {},
   "source": [
    "H0: Средний доход клиентов, которые ушли, равен среднему доходу клиентов, которые остались.\n",
    "<br>H1: Средний доход клиентов, которые ушли, не равен среднему доходу клиентов, которые остались."
   ]
  },
  {
   "cell_type": "code",
   "execution_count": 44,
   "metadata": {},
   "outputs": [
    {
     "name": "stdout",
     "output_type": "stream",
     "text": [
      "Statistic: 6239593.0\n",
      "p-value: 0.35044578632367984\n",
      "Не можем отвергнуть нулевую гипотезу: средние доходы не различаются.\n"
     ]
    }
   ],
   "source": [
    "churn_true = df_leave['salary']\n",
    "churn_false = df_stay['salary']\n",
    "\n",
    "statistic, p_value = stats.mannwhitneyu(churn_true, churn_false)\n",
    "\n",
    "print(\"Statistic:\", statistic)\n",
    "print(\"p-value:\", p_value)\n",
    "\n",
    "alpha = 0.05\n",
    "if p_value < alpha:\n",
    "    print(\"Отвергаем нулевую гипотезу: средние доходы различаются.\")\n",
    "else:\n",
    "    print(\"Не можем отвергнуть нулевую гипотезу: средние доходы не различаются.\")"
   ]
  },
  {
   "cell_type": "markdown",
   "metadata": {},
   "source": [
    "<div class=\"alert alert-info\">Тест показал, что средние доходы тех, кто ушел, и тех, кто остался, не различаются."
   ]
  },
  {
   "cell_type": "markdown",
   "metadata": {},
   "source": [
    "#### 2. Гипотеза \"Средний балл кредитного скоринга тех клиентов, которые ушли и тех, которые остались, одинаков\""
   ]
  },
  {
   "cell_type": "markdown",
   "metadata": {},
   "source": [
    "H0: Средний балл кредитного скоринга клиентов, которые ушли, равен среднему баллу клиентов, которые остались.\n",
    "<br>H1: Средний балл кредитного скоринга клиентов, которые ушли, не равен среднему баллу клиентов, которые остались."
   ]
  },
  {
   "cell_type": "code",
   "execution_count": 45,
   "metadata": {},
   "outputs": [
    {
     "name": "stdout",
     "output_type": "stream",
     "text": [
      "Statistic: 6789708.0\n",
      "p-value: 5.046730822225727e-11\n",
      "Отвергаем нулевую гипотезу: средний балл кредитного скоринга различается.\n"
     ]
    }
   ],
   "source": [
    "churn_true = df_leave['score']\n",
    "churn_false = df_stay['score']\n",
    "\n",
    "statistic, p_value = stats.mannwhitneyu(churn_true, churn_false)\n",
    "\n",
    "print(\"Statistic:\", statistic)\n",
    "print(\"p-value:\", p_value)\n",
    "\n",
    "alpha = 0.05\n",
    "if p_value < alpha:\n",
    "    print(\"Отвергаем нулевую гипотезу: средний балл кредитного скоринга различается.\")\n",
    "else:\n",
    "    print(\"Не можем отвергнуть нулевую гипотезу: средний балл кредитного скоринга не различается.\")"
   ]
  },
  {
   "cell_type": "markdown",
   "metadata": {},
   "source": [
    "<div class=\"alert alert-info\"> Тест показал, что средний балл кредитного скоринга тех, кто ушел, и тех, кто остался, различается."
   ]
  },
  {
   "cell_type": "markdown",
   "metadata": {},
   "source": [
    "#### 3. Гипотеза \"Средний возраст тех клиентов, которые ушли и тех, которые остались, одинаков\""
   ]
  },
  {
   "cell_type": "markdown",
   "metadata": {},
   "source": [
    "H0: Средний возраст клиентов, которые ушли, равен среднему возраст клиентов, которые остались.\n",
    "<br>H1: Средний возраст клиентов, которые ушли, не равен среднему возраст клиентов, которые остались."
   ]
  },
  {
   "cell_type": "code",
   "execution_count": 46,
   "metadata": {
    "scrolled": true
   },
   "outputs": [
    {
     "name": "stdout",
     "output_type": "stream",
     "text": [
      "Statistic: 5709629.5\n",
      "p-value: 6.883927194597237e-06\n",
      "Отвергаем нулевую гипотезу: средний возраст различается.\n"
     ]
    }
   ],
   "source": [
    "churn_true = df_leave['age']\n",
    "churn_false = df_stay['age']\n",
    "\n",
    "statistic, p_value = stats.mannwhitneyu(churn_true, churn_false)\n",
    "\n",
    "print(\"Statistic:\", statistic)\n",
    "print(\"p-value:\", p_value)\n",
    "\n",
    "alpha = 0.05\n",
    "if p_value < alpha:\n",
    "    print(\"Отвергаем нулевую гипотезу: средний возраст различается.\")\n",
    "else:\n",
    "    print(\"Не можем отвергнуть нулевую гипотезу: средний возраст не различается.\")"
   ]
  },
  {
   "cell_type": "markdown",
   "metadata": {},
   "source": [
    "<div class=\"alert alert-info\">Тест показал, что средний возраст тех, кто ушел, и тех, кто остался, различается."
   ]
  },
  {
   "cell_type": "markdown",
   "metadata": {},
   "source": [
    "<div class=\"alert alert-info\"><b>Вывод</b>: средний доход среди оставшихся и ушедших клиентов не различается, а средний балл кредитного скоринга и средний возраст отличаются."
   ]
  },
  {
   "cell_type": "markdown",
   "metadata": {},
   "source": [
    "### Сегментация данных"
   ]
  },
  {
   "cell_type": "markdown",
   "metadata": {},
   "source": [
    "<div class=\"alert alert-info\">Из построенных портретов клиентов мы выяснили, что наиболее значимыми показателями являются: количество продуктов, собственность, баланс, пол, наличие кредитной карты и активность. Балл кредитного скоринга и возраст также различаются среди ушедших и оставшихся клиентов.\n",
    "\n",
    "На основе имеющихся различий разделим клиентов на 3 сегмента."
   ]
  },
  {
   "cell_type": "markdown",
   "metadata": {},
   "source": [
    "#### 1. Разделим клиентов на сегменты"
   ]
  },
  {
   "cell_type": "code",
   "execution_count": 47,
   "metadata": {},
   "outputs": [],
   "source": [
    "def segments(segment):\n",
    "    shape = segment.shape[0]\n",
    "    shape_leave = segment[segment['churn'] == True].shape[0]\n",
    "    \n",
    "    print('Количество клиентов в сегменте:', shape)\n",
    "    print('Количество отточных клиентов в сегменте:', shape_leave)\n",
    "    print(f'Уровень оттока: {round((shape_leave/shape)*100)}%')"
   ]
  },
  {
   "cell_type": "markdown",
   "metadata": {},
   "source": [
    "##### Сегмент 1: Молодые клиенты с высоким балансом и без кредитной карты"
   ]
  },
  {
   "cell_type": "code",
   "execution_count": 48,
   "metadata": {},
   "outputs": [
    {
     "name": "stdout",
     "output_type": "stream",
     "text": [
      "Количество клиентов в сегменте: 347\n",
      "Количество отточных клиентов в сегменте: 175\n",
      "Уровень оттока: 50%\n"
     ]
    }
   ],
   "source": [
    "segment_1 = df[(df['age'] <= 35) &\n",
    "               (df['balance'] >= 500000) &\n",
    "               (df['credit_card'] == False)]\n",
    "segments(segment_1)"
   ]
  },
  {
   "cell_type": "markdown",
   "metadata": {},
   "source": [
    "<div class=\"alert alert-info\">В сегменте 1 очень большой уровень оттока (50%). Однако если изменить наличие кредитной карты (предположим, теперь эти клиенты имеют кредитную карту) уровень оттока снизится до 29%."
   ]
  },
  {
   "cell_type": "markdown",
   "metadata": {},
   "source": [
    "##### Сегмент 2: Мужчины с высоким уровнем собственности, высоким балансом и без кредитной карты"
   ]
  },
  {
   "cell_type": "code",
   "execution_count": 49,
   "metadata": {},
   "outputs": [
    {
     "name": "stdout",
     "output_type": "stream",
     "text": [
      "Количество клиентов в сегменте: 525\n",
      "Количество отточных клиентов в сегменте: 271\n",
      "Уровень оттока: 52%\n"
     ]
    }
   ],
   "source": [
    "segment_2 = df[(df['gender'] == 'М') &\n",
    "               (df['equity'] >= 3) &\n",
    "               (df['balance'] >= 500000) &\n",
    "               (df['credit_card'] == False)]\n",
    "segments(segment_2)"
   ]
  },
  {
   "cell_type": "markdown",
   "metadata": {},
   "source": [
    "<div class=\"alert alert-info\">Для сегмента 2 получаются похожие выводы, процент оттока клиентов без кредитной карты высок (52%), а с картой заметно ниже (30%)."
   ]
  },
  {
   "cell_type": "markdown",
   "metadata": {},
   "source": [
    "##### Сегмент 3: Активные клиенты с высоким кредитным скорингом, низким количеством продуктов и кредитной картой"
   ]
  },
  {
   "cell_type": "code",
   "execution_count": 50,
   "metadata": {},
   "outputs": [
    {
     "name": "stdout",
     "output_type": "stream",
     "text": [
      "Количество клиентов в сегменте: 246\n",
      "Количество отточных клиентов в сегменте: 75\n",
      "Уровень оттока: 30%\n"
     ]
    }
   ],
   "source": [
    "segment_3 = df[(df['score'] >= 900) &\n",
    "               (df['products'] <= 2) &\n",
    "               (df['credit_card'] == False) &\n",
    "               (df['last_activity'] == True)]\n",
    "segments(segment_3)"
   ]
  },
  {
   "cell_type": "markdown",
   "metadata": {},
   "source": [
    "<div class=\"alert alert-info\"> В сегменте 3 уровень оттока ниже остальных (30%) и при изменение на \"кредитная карта есть\" становиться даже ниже, чем общий отток по банку."
   ]
  },
  {
   "cell_type": "markdown",
   "metadata": {},
   "source": [
    "#### 2. Приоритизируем сегменты"
   ]
  },
  {
   "cell_type": "markdown",
   "metadata": {},
   "source": [
    "<div class=\"alert alert-info\"> Из 3 сегментов наиболее приоритетным кажется <b>2 сегмент</b>, так как объем выборки, а также уровень оттока в нем самые большие. Однако не стоит забывать про возраст: он тоже сильно влияет на уход клиентов (молодые люди уходят чаще)."
   ]
  },
  {
   "cell_type": "markdown",
   "metadata": {},
   "source": [
    "<div class=\"alert alert-info\"> <b>Вывод:</b> основными признаками, влиящими на отток, являются возраст и наличие кредитной карты. Также влияет пол: мужчины склонны уходить чаще. Рейтинг кредитного скоринга и количество продуктов не так сильно отражаются на уходе клиентов."
   ]
  },
  {
   "cell_type": "markdown",
   "metadata": {},
   "source": [
    "### Рекомендации"
   ]
  },
  {
   "cell_type": "markdown",
   "metadata": {},
   "source": [
    "<div class=\"alert alert-info\">Основными группами клиентов, на которые стоит обратить внимание банку, являются молодые люди, чаще мужского пола. Также зачастую они имеют высокий баланс и балл собственности. \n",
    "\n",
    "Важно отметить, что наличие кредитной карты сильно снижает процент оттока среди всех клиентов, поэтому банку следует продвигать этот вид своих продуктов. \n",
    "\n",
    "На отток сильно влияет активность клиентов: активные клиенты уходят чаще. Возможно это связано с тем, что клиенты были неудовлетворены своими последними действиями с банком и поэтому решили уйти, или же они, уже приняв решение уйти, осуществляли действия по закрытию своих вкладов/счетов перед уходом. Однако в этом случае, повлиять на этот показатель банку будет сложно. "
   ]
  }
 ],
 "metadata": {
  "ExecuteTimeLog": [
   {
    "duration": 3,
    "start_time": "2024-05-24T13:41:41.983Z"
   },
   {
    "duration": 2,
    "start_time": "2024-05-24T13:42:51.343Z"
   },
   {
    "duration": 387,
    "start_time": "2024-05-24T13:43:48.014Z"
   },
   {
    "duration": 163,
    "start_time": "2024-05-24T13:44:01.695Z"
   },
   {
    "duration": 58,
    "start_time": "2024-05-24T13:44:09.106Z"
   },
   {
    "duration": 4,
    "start_time": "2024-05-24T13:45:56.270Z"
   },
   {
    "duration": 24,
    "start_time": "2024-05-24T13:46:10.223Z"
   },
   {
    "duration": 57,
    "start_time": "2024-05-24T13:47:53.914Z"
   },
   {
    "duration": 4,
    "start_time": "2024-05-24T13:47:57.746Z"
   },
   {
    "duration": 3,
    "start_time": "2024-05-24T13:48:48.618Z"
   },
   {
    "duration": 2,
    "start_time": "2024-05-24T13:49:36.422Z"
   },
   {
    "duration": 3,
    "start_time": "2024-05-24T13:49:56.111Z"
   },
   {
    "duration": 3,
    "start_time": "2024-05-24T13:50:07.109Z"
   },
   {
    "duration": 14,
    "start_time": "2024-05-24T13:50:11.061Z"
   },
   {
    "duration": 3,
    "start_time": "2024-05-24T13:50:40.619Z"
   },
   {
    "duration": 15,
    "start_time": "2024-05-24T13:50:43.086Z"
   },
   {
    "duration": 18,
    "start_time": "2024-05-24T13:51:21.739Z"
   },
   {
    "duration": 7,
    "start_time": "2024-05-24T13:52:10.663Z"
   },
   {
    "duration": 4,
    "start_time": "2024-05-24T13:52:36.017Z"
   },
   {
    "duration": 19,
    "start_time": "2024-05-24T13:52:37.425Z"
   },
   {
    "duration": 7,
    "start_time": "2024-05-24T13:57:11.338Z"
   },
   {
    "duration": 48,
    "start_time": "2024-05-24T13:58:09.802Z"
   },
   {
    "duration": 3,
    "start_time": "2024-05-24T13:58:10.959Z"
   },
   {
    "duration": 19,
    "start_time": "2024-05-24T13:58:15.288Z"
   },
   {
    "duration": 12,
    "start_time": "2024-05-24T13:58:30.132Z"
   },
   {
    "duration": 6,
    "start_time": "2024-05-24T14:01:26.158Z"
   },
   {
    "duration": 4,
    "start_time": "2024-05-24T14:01:51.268Z"
   },
   {
    "duration": 3,
    "start_time": "2024-05-24T14:04:53.829Z"
   },
   {
    "duration": 18,
    "start_time": "2024-05-24T14:04:55.551Z"
   },
   {
    "duration": 5,
    "start_time": "2024-05-24T14:05:16.122Z"
   },
   {
    "duration": 18,
    "start_time": "2024-05-24T14:05:17.822Z"
   },
   {
    "duration": 6,
    "start_time": "2024-05-24T14:11:58.016Z"
   },
   {
    "duration": 5,
    "start_time": "2024-05-24T14:11:59.296Z"
   },
   {
    "duration": 29,
    "start_time": "2024-05-24T14:12:02.830Z"
   },
   {
    "duration": 25,
    "start_time": "2024-05-24T14:13:52.503Z"
   },
   {
    "duration": 25,
    "start_time": "2024-05-24T14:14:56.391Z"
   },
   {
    "duration": 14,
    "start_time": "2024-05-24T14:15:26.395Z"
   },
   {
    "duration": 26,
    "start_time": "2024-05-24T14:15:35.351Z"
   },
   {
    "duration": 19,
    "start_time": "2024-05-24T14:19:51.096Z"
   },
   {
    "duration": 10,
    "start_time": "2024-05-24T14:20:22.107Z"
   },
   {
    "duration": 29,
    "start_time": "2024-05-24T14:20:37.751Z"
   },
   {
    "duration": 23,
    "start_time": "2024-05-24T14:20:46.803Z"
   },
   {
    "duration": 5,
    "start_time": "2024-05-24T14:24:21.417Z"
   },
   {
    "duration": 25,
    "start_time": "2024-05-24T14:24:25.921Z"
   },
   {
    "duration": 10,
    "start_time": "2024-05-24T14:24:34.835Z"
   },
   {
    "duration": 9,
    "start_time": "2024-05-24T14:27:55.149Z"
   },
   {
    "duration": 10,
    "start_time": "2024-05-24T14:27:59.903Z"
   },
   {
    "duration": 1091,
    "start_time": "2024-05-24T14:28:34.852Z"
   },
   {
    "duration": 1182,
    "start_time": "2024-05-24T14:30:53.129Z"
   },
   {
    "duration": 1014,
    "start_time": "2024-05-24T14:31:13.850Z"
   },
   {
    "duration": 974,
    "start_time": "2024-05-24T14:31:35.616Z"
   },
   {
    "duration": 1028,
    "start_time": "2024-05-24T14:32:11.146Z"
   },
   {
    "duration": 980,
    "start_time": "2024-05-24T14:35:06.715Z"
   },
   {
    "duration": 4,
    "start_time": "2024-05-24T15:06:29.677Z"
   },
   {
    "duration": 68,
    "start_time": "2024-05-24T15:06:43.451Z"
   },
   {
    "duration": 4,
    "start_time": "2024-05-24T15:07:05.746Z"
   },
   {
    "duration": 15,
    "start_time": "2024-05-24T15:07:07.146Z"
   },
   {
    "duration": 6,
    "start_time": "2024-05-24T15:11:34.420Z"
   },
   {
    "duration": 4,
    "start_time": "2024-05-24T15:11:38.132Z"
   },
   {
    "duration": 4,
    "start_time": "2024-05-24T15:12:29.391Z"
   },
   {
    "duration": 173,
    "start_time": "2024-05-24T15:12:31.899Z"
   },
   {
    "duration": 168,
    "start_time": "2024-05-24T15:16:30.209Z"
   },
   {
    "duration": 1149,
    "start_time": "2024-05-24T15:16:43.334Z"
   },
   {
    "duration": 52,
    "start_time": "2024-05-24T15:16:44.484Z"
   },
   {
    "duration": 3,
    "start_time": "2024-05-24T15:16:44.538Z"
   },
   {
    "duration": 9,
    "start_time": "2024-05-24T15:16:44.542Z"
   },
   {
    "duration": 110,
    "start_time": "2024-05-24T15:16:44.552Z"
   },
   {
    "duration": 0,
    "start_time": "2024-05-24T15:16:44.663Z"
   },
   {
    "duration": 0,
    "start_time": "2024-05-24T15:16:44.665Z"
   },
   {
    "duration": 0,
    "start_time": "2024-05-24T15:16:44.666Z"
   },
   {
    "duration": 0,
    "start_time": "2024-05-24T15:16:44.667Z"
   },
   {
    "duration": 0,
    "start_time": "2024-05-24T15:16:44.668Z"
   },
   {
    "duration": 0,
    "start_time": "2024-05-24T15:16:44.669Z"
   },
   {
    "duration": 0,
    "start_time": "2024-05-24T15:16:44.670Z"
   },
   {
    "duration": 4,
    "start_time": "2024-05-24T15:17:25.223Z"
   },
   {
    "duration": 4,
    "start_time": "2024-05-24T15:17:30.034Z"
   },
   {
    "duration": 73,
    "start_time": "2024-05-24T15:17:30.040Z"
   },
   {
    "duration": 52,
    "start_time": "2024-05-24T15:17:30.115Z"
   },
   {
    "duration": 25,
    "start_time": "2024-05-24T15:17:30.169Z"
   },
   {
    "duration": 61,
    "start_time": "2024-05-24T15:17:30.196Z"
   },
   {
    "duration": 21,
    "start_time": "2024-05-24T15:17:30.258Z"
   },
   {
    "duration": 31,
    "start_time": "2024-05-24T15:17:30.280Z"
   },
   {
    "duration": 40,
    "start_time": "2024-05-24T15:17:30.313Z"
   },
   {
    "duration": 527,
    "start_time": "2024-05-24T15:17:30.355Z"
   },
   {
    "duration": 4,
    "start_time": "2024-05-24T15:20:41.818Z"
   },
   {
    "duration": 236,
    "start_time": "2024-05-24T15:20:43.598Z"
   },
   {
    "duration": 4,
    "start_time": "2024-05-24T15:20:55.087Z"
   },
   {
    "duration": 173,
    "start_time": "2024-05-24T15:20:56.942Z"
   },
   {
    "duration": 53,
    "start_time": "2024-05-24T15:21:19.643Z"
   },
   {
    "duration": 4,
    "start_time": "2024-05-24T15:21:32.749Z"
   },
   {
    "duration": 472,
    "start_time": "2024-05-24T15:21:34.326Z"
   },
   {
    "duration": 4,
    "start_time": "2024-05-24T15:22:25.574Z"
   },
   {
    "duration": 427,
    "start_time": "2024-05-24T15:22:26.589Z"
   },
   {
    "duration": 4,
    "start_time": "2024-05-24T15:24:22.553Z"
   },
   {
    "duration": 134,
    "start_time": "2024-05-24T15:24:31.711Z"
   },
   {
    "duration": 3,
    "start_time": "2024-05-24T15:24:38.444Z"
   },
   {
    "duration": 190,
    "start_time": "2024-05-24T15:24:39.608Z"
   },
   {
    "duration": 3,
    "start_time": "2024-05-24T15:25:38.471Z"
   },
   {
    "duration": 170,
    "start_time": "2024-05-24T15:25:41.434Z"
   },
   {
    "duration": 69,
    "start_time": "2024-05-24T15:36:43.665Z"
   },
   {
    "duration": 4,
    "start_time": "2024-05-24T15:36:54.939Z"
   },
   {
    "duration": 112,
    "start_time": "2024-05-24T15:36:58.051Z"
   },
   {
    "duration": 3,
    "start_time": "2024-05-24T15:37:17.121Z"
   },
   {
    "duration": 4,
    "start_time": "2024-05-24T15:37:19.983Z"
   },
   {
    "duration": 259,
    "start_time": "2024-05-24T15:37:21.830Z"
   },
   {
    "duration": 4,
    "start_time": "2024-05-24T15:38:08.750Z"
   },
   {
    "duration": 177,
    "start_time": "2024-05-24T15:38:13.526Z"
   },
   {
    "duration": 4,
    "start_time": "2024-05-24T15:39:27.138Z"
   },
   {
    "duration": 168,
    "start_time": "2024-05-24T15:39:29.417Z"
   },
   {
    "duration": 4,
    "start_time": "2024-05-24T15:40:24.373Z"
   },
   {
    "duration": 234,
    "start_time": "2024-05-24T15:40:26.038Z"
   },
   {
    "duration": 4,
    "start_time": "2024-05-24T15:40:34.663Z"
   },
   {
    "duration": 169,
    "start_time": "2024-05-24T15:40:36.567Z"
   },
   {
    "duration": 5,
    "start_time": "2024-05-24T15:40:47.923Z"
   },
   {
    "duration": 170,
    "start_time": "2024-05-24T15:40:49.331Z"
   },
   {
    "duration": 4,
    "start_time": "2024-05-24T15:40:57.410Z"
   },
   {
    "duration": 202,
    "start_time": "2024-05-24T15:40:58.725Z"
   },
   {
    "duration": 4,
    "start_time": "2024-05-24T15:42:05.570Z"
   },
   {
    "duration": 235,
    "start_time": "2024-05-24T15:42:07.893Z"
   },
   {
    "duration": 173,
    "start_time": "2024-05-24T15:42:46.208Z"
   },
   {
    "duration": 4,
    "start_time": "2024-05-24T15:43:02.404Z"
   },
   {
    "duration": 167,
    "start_time": "2024-05-24T15:43:05.926Z"
   },
   {
    "duration": 5,
    "start_time": "2024-05-24T15:43:26.691Z"
   },
   {
    "duration": 185,
    "start_time": "2024-05-24T15:43:28.494Z"
   },
   {
    "duration": 210,
    "start_time": "2024-05-24T15:44:42.617Z"
   },
   {
    "duration": 5,
    "start_time": "2024-05-24T15:47:54.299Z"
   },
   {
    "duration": 155,
    "start_time": "2024-05-24T15:47:55.737Z"
   },
   {
    "duration": 159,
    "start_time": "2024-05-24T15:48:18.276Z"
   },
   {
    "duration": 5,
    "start_time": "2024-05-24T15:48:27.144Z"
   },
   {
    "duration": 195,
    "start_time": "2024-05-24T15:48:28.708Z"
   },
   {
    "duration": 207,
    "start_time": "2024-05-24T15:48:36.923Z"
   },
   {
    "duration": 151,
    "start_time": "2024-05-24T15:55:36.909Z"
   },
   {
    "duration": 199,
    "start_time": "2024-05-24T15:57:28.054Z"
   },
   {
    "duration": 3,
    "start_time": "2024-05-24T15:57:55.095Z"
   },
   {
    "duration": 5,
    "start_time": "2024-05-24T16:10:28.891Z"
   },
   {
    "duration": 175,
    "start_time": "2024-05-24T16:10:30.991Z"
   },
   {
    "duration": 66,
    "start_time": "2024-05-24T16:13:00.266Z"
   },
   {
    "duration": 6,
    "start_time": "2024-05-24T16:13:13.744Z"
   },
   {
    "duration": 154,
    "start_time": "2024-05-24T16:13:15.996Z"
   },
   {
    "duration": 226,
    "start_time": "2024-05-24T16:16:01.768Z"
   },
   {
    "duration": 54,
    "start_time": "2024-05-24T16:17:36.623Z"
   },
   {
    "duration": 154,
    "start_time": "2024-05-24T16:17:52.679Z"
   },
   {
    "duration": 4,
    "start_time": "2024-05-24T16:19:27.898Z"
   },
   {
    "duration": 149,
    "start_time": "2024-05-24T16:19:32.539Z"
   },
   {
    "duration": 57,
    "start_time": "2024-05-24T16:21:18.719Z"
   },
   {
    "duration": 52,
    "start_time": "2024-05-25T10:07:16.341Z"
   },
   {
    "duration": 1439,
    "start_time": "2024-05-25T10:07:28.353Z"
   },
   {
    "duration": 179,
    "start_time": "2024-05-25T10:07:29.794Z"
   },
   {
    "duration": 3,
    "start_time": "2024-05-25T10:07:29.974Z"
   },
   {
    "duration": 22,
    "start_time": "2024-05-25T10:07:29.979Z"
   },
   {
    "duration": 49,
    "start_time": "2024-05-25T10:07:30.003Z"
   },
   {
    "duration": 12,
    "start_time": "2024-05-25T10:07:30.054Z"
   },
   {
    "duration": 30,
    "start_time": "2024-05-25T10:07:30.067Z"
   },
   {
    "duration": 47,
    "start_time": "2024-05-25T10:07:30.098Z"
   },
   {
    "duration": 17,
    "start_time": "2024-05-25T10:07:30.147Z"
   },
   {
    "duration": 24,
    "start_time": "2024-05-25T10:07:30.165Z"
   },
   {
    "duration": 37,
    "start_time": "2024-05-25T10:07:30.191Z"
   },
   {
    "duration": 746,
    "start_time": "2024-05-25T10:07:30.230Z"
   },
   {
    "duration": 265,
    "start_time": "2024-05-25T10:07:30.978Z"
   },
   {
    "duration": 255,
    "start_time": "2024-05-25T10:07:31.246Z"
   },
   {
    "duration": 204,
    "start_time": "2024-05-25T10:07:31.503Z"
   },
   {
    "duration": 3,
    "start_time": "2024-05-25T10:07:31.709Z"
   },
   {
    "duration": 60,
    "start_time": "2024-05-25T10:07:31.714Z"
   },
   {
    "duration": 213,
    "start_time": "2024-05-25T10:07:31.775Z"
   },
   {
    "duration": 201,
    "start_time": "2024-05-25T10:07:31.991Z"
   },
   {
    "duration": 4,
    "start_time": "2024-05-25T10:07:32.193Z"
   },
   {
    "duration": 14,
    "start_time": "2024-05-25T10:07:32.199Z"
   },
   {
    "duration": 179,
    "start_time": "2024-05-25T10:07:32.214Z"
   },
   {
    "duration": 1027,
    "start_time": "2024-05-25T10:20:59.844Z"
   },
   {
    "duration": 45,
    "start_time": "2024-05-25T10:26:37.705Z"
   },
   {
    "duration": 49,
    "start_time": "2024-05-25T10:26:45.215Z"
   },
   {
    "duration": 45,
    "start_time": "2024-05-25T10:35:24.631Z"
   },
   {
    "duration": 41,
    "start_time": "2024-05-25T10:43:28.264Z"
   },
   {
    "duration": 88,
    "start_time": "2024-05-25T10:54:22.846Z"
   },
   {
    "duration": 82,
    "start_time": "2024-05-25T10:54:42.278Z"
   },
   {
    "duration": 94,
    "start_time": "2024-05-25T10:55:46.869Z"
   },
   {
    "duration": 110,
    "start_time": "2024-05-25T11:02:39.798Z"
   },
   {
    "duration": 102,
    "start_time": "2024-05-25T11:03:11.859Z"
   },
   {
    "duration": 96,
    "start_time": "2024-05-25T11:04:56.576Z"
   },
   {
    "duration": 106,
    "start_time": "2024-05-25T11:05:16.709Z"
   },
   {
    "duration": 187,
    "start_time": "2024-05-25T11:06:01.288Z"
   },
   {
    "duration": 81,
    "start_time": "2024-05-25T11:07:17.483Z"
   },
   {
    "duration": 17,
    "start_time": "2024-05-25T11:10:05.152Z"
   },
   {
    "duration": 13,
    "start_time": "2024-05-25T11:10:10.752Z"
   },
   {
    "duration": 4,
    "start_time": "2024-05-25T11:13:17.997Z"
   },
   {
    "duration": 16,
    "start_time": "2024-05-25T11:13:34.407Z"
   },
   {
    "duration": 10,
    "start_time": "2024-05-25T11:14:01.257Z"
   },
   {
    "duration": 4,
    "start_time": "2024-05-25T11:14:11.917Z"
   },
   {
    "duration": 70,
    "start_time": "2024-05-25T11:14:13.102Z"
   },
   {
    "duration": 4,
    "start_time": "2024-05-25T11:14:30.652Z"
   },
   {
    "duration": 90,
    "start_time": "2024-05-25T11:14:32.538Z"
   },
   {
    "duration": 4,
    "start_time": "2024-05-25T11:14:38.482Z"
   },
   {
    "duration": 101,
    "start_time": "2024-05-25T11:14:39.871Z"
   },
   {
    "duration": 82,
    "start_time": "2024-05-25T11:15:16.847Z"
   },
   {
    "duration": 61,
    "start_time": "2024-05-25T11:17:04.007Z"
   },
   {
    "duration": 87,
    "start_time": "2024-05-25T11:19:07.407Z"
   },
   {
    "duration": 5,
    "start_time": "2024-05-25T11:19:45.122Z"
   },
   {
    "duration": 82,
    "start_time": "2024-05-25T11:19:47.951Z"
   },
   {
    "duration": 65,
    "start_time": "2024-05-25T11:20:07.381Z"
   },
   {
    "duration": 96,
    "start_time": "2024-05-25T11:20:38.537Z"
   },
   {
    "duration": 85,
    "start_time": "2024-05-25T11:20:57.232Z"
   },
   {
    "duration": 96,
    "start_time": "2024-05-25T11:20:59.397Z"
   },
   {
    "duration": 81,
    "start_time": "2024-05-25T11:25:35.273Z"
   },
   {
    "duration": 4,
    "start_time": "2024-05-25T11:26:30.657Z"
   },
   {
    "duration": 111,
    "start_time": "2024-05-25T11:27:58.525Z"
   },
   {
    "duration": 113,
    "start_time": "2024-05-25T11:33:19.901Z"
   },
   {
    "duration": 181,
    "start_time": "2024-05-25T11:35:35.281Z"
   },
   {
    "duration": 142,
    "start_time": "2024-05-25T11:36:15.036Z"
   },
   {
    "duration": 87,
    "start_time": "2024-05-25T11:36:23.472Z"
   },
   {
    "duration": 80,
    "start_time": "2024-05-25T11:38:53.522Z"
   },
   {
    "duration": 135,
    "start_time": "2024-05-25T11:39:01.872Z"
   },
   {
    "duration": 93,
    "start_time": "2024-05-25T11:40:26.507Z"
   },
   {
    "duration": 67,
    "start_time": "2024-05-25T11:40:56.767Z"
   },
   {
    "duration": 90,
    "start_time": "2024-05-25T11:43:36.813Z"
   },
   {
    "duration": 97,
    "start_time": "2024-05-25T11:43:51.673Z"
   },
   {
    "duration": 80,
    "start_time": "2024-05-25T11:47:07.200Z"
   },
   {
    "duration": 81,
    "start_time": "2024-05-25T11:47:39.833Z"
   },
   {
    "duration": 82,
    "start_time": "2024-05-25T11:48:55.736Z"
   },
   {
    "duration": 142,
    "start_time": "2024-05-25T11:48:58.174Z"
   },
   {
    "duration": 5,
    "start_time": "2024-05-25T11:50:25.515Z"
   },
   {
    "duration": 73,
    "start_time": "2024-05-25T11:50:32.663Z"
   },
   {
    "duration": 136,
    "start_time": "2024-05-25T11:53:47.906Z"
   },
   {
    "duration": 992,
    "start_time": "2024-05-25T12:16:14.159Z"
   },
   {
    "duration": 19,
    "start_time": "2024-05-25T12:16:25.308Z"
   },
   {
    "duration": 4,
    "start_time": "2024-05-25T12:16:48.280Z"
   },
   {
    "duration": 8,
    "start_time": "2024-05-25T12:16:57.992Z"
   },
   {
    "duration": 6,
    "start_time": "2024-05-25T12:17:25.564Z"
   },
   {
    "duration": 6,
    "start_time": "2024-05-25T12:17:33.313Z"
   },
   {
    "duration": 6,
    "start_time": "2024-05-25T12:17:55.718Z"
   },
   {
    "duration": 6,
    "start_time": "2024-05-25T12:18:19.098Z"
   },
   {
    "duration": 6,
    "start_time": "2024-05-25T12:20:00.449Z"
   },
   {
    "duration": 7,
    "start_time": "2024-05-25T12:20:31.819Z"
   },
   {
    "duration": 2,
    "start_time": "2024-05-25T12:21:21.089Z"
   },
   {
    "duration": 6,
    "start_time": "2024-05-25T12:21:53.548Z"
   },
   {
    "duration": 7,
    "start_time": "2024-05-25T12:21:55.308Z"
   },
   {
    "duration": 6,
    "start_time": "2024-05-25T12:22:05.179Z"
   },
   {
    "duration": 5,
    "start_time": "2024-05-25T12:22:36.439Z"
   },
   {
    "duration": 7,
    "start_time": "2024-05-25T12:24:59.104Z"
   },
   {
    "duration": 3,
    "start_time": "2024-05-25T12:28:08.562Z"
   },
   {
    "duration": 4,
    "start_time": "2024-05-25T12:35:06.044Z"
   },
   {
    "duration": 12,
    "start_time": "2024-05-25T12:35:07.736Z"
   },
   {
    "duration": 6,
    "start_time": "2024-05-25T12:35:38.514Z"
   },
   {
    "duration": 116,
    "start_time": "2024-05-25T12:36:07.590Z"
   },
   {
    "duration": 3,
    "start_time": "2024-05-25T12:36:59.554Z"
   },
   {
    "duration": 3,
    "start_time": "2024-05-25T12:42:24.174Z"
   },
   {
    "duration": 5,
    "start_time": "2024-05-25T12:42:25.389Z"
   },
   {
    "duration": 104,
    "start_time": "2024-05-25T12:42:26.103Z"
   },
   {
    "duration": 4,
    "start_time": "2024-05-25T12:42:36.983Z"
   },
   {
    "duration": 6,
    "start_time": "2024-05-25T12:42:37.984Z"
   },
   {
    "duration": 102,
    "start_time": "2024-05-25T12:42:39.503Z"
   },
   {
    "duration": 3,
    "start_time": "2024-05-25T12:42:51.454Z"
   },
   {
    "duration": 116,
    "start_time": "2024-05-25T12:46:20.701Z"
   },
   {
    "duration": 103,
    "start_time": "2024-05-25T12:47:31.796Z"
   },
   {
    "duration": 3,
    "start_time": "2024-05-25T12:48:13.104Z"
   },
   {
    "duration": 221,
    "start_time": "2024-05-25T12:48:57.402Z"
   },
   {
    "duration": 131,
    "start_time": "2024-05-25T12:51:35.683Z"
   },
   {
    "duration": 1415,
    "start_time": "2024-05-26T14:14:34.292Z"
   },
   {
    "duration": 103,
    "start_time": "2024-05-26T14:14:35.709Z"
   },
   {
    "duration": 80,
    "start_time": "2024-05-26T14:14:35.814Z"
   },
   {
    "duration": 22,
    "start_time": "2024-05-26T14:14:35.895Z"
   },
   {
    "duration": 39,
    "start_time": "2024-05-26T14:14:35.918Z"
   },
   {
    "duration": 38,
    "start_time": "2024-05-26T14:14:35.959Z"
   },
   {
    "duration": 34,
    "start_time": "2024-05-26T14:14:36.001Z"
   },
   {
    "duration": 29,
    "start_time": "2024-05-26T14:14:36.037Z"
   },
   {
    "duration": 5,
    "start_time": "2024-05-26T14:14:36.068Z"
   },
   {
    "duration": 6,
    "start_time": "2024-05-26T14:14:36.076Z"
   },
   {
    "duration": 12,
    "start_time": "2024-05-26T14:14:36.083Z"
   },
   {
    "duration": 569,
    "start_time": "2024-05-26T14:14:36.096Z"
   },
   {
    "duration": 239,
    "start_time": "2024-05-26T14:14:36.667Z"
   },
   {
    "duration": 155,
    "start_time": "2024-05-26T14:14:36.907Z"
   },
   {
    "duration": 263,
    "start_time": "2024-05-26T14:14:37.064Z"
   },
   {
    "duration": 5,
    "start_time": "2024-05-26T14:14:37.328Z"
   },
   {
    "duration": 4,
    "start_time": "2024-05-26T14:14:37.335Z"
   },
   {
    "duration": 185,
    "start_time": "2024-05-26T14:14:37.341Z"
   },
   {
    "duration": 175,
    "start_time": "2024-05-26T14:14:37.527Z"
   },
   {
    "duration": 4,
    "start_time": "2024-05-26T14:14:37.703Z"
   },
   {
    "duration": 126,
    "start_time": "2024-05-26T14:14:37.709Z"
   },
   {
    "duration": 104,
    "start_time": "2024-05-26T14:14:37.837Z"
   },
   {
    "duration": 81,
    "start_time": "2024-05-26T14:14:37.943Z"
   },
   {
    "duration": 83,
    "start_time": "2024-05-26T14:14:38.026Z"
   },
   {
    "duration": 37,
    "start_time": "2024-05-26T14:14:38.111Z"
   },
   {
    "duration": 6,
    "start_time": "2024-05-26T14:14:38.149Z"
   },
   {
    "duration": 18,
    "start_time": "2024-05-26T14:14:38.156Z"
   },
   {
    "duration": 99,
    "start_time": "2024-05-26T14:14:38.177Z"
   },
   {
    "duration": 166,
    "start_time": "2024-05-26T14:14:38.278Z"
   },
   {
    "duration": 90,
    "start_time": "2024-05-26T14:14:38.446Z"
   },
   {
    "duration": 101,
    "start_time": "2024-05-26T14:14:38.538Z"
   },
   {
    "duration": 101,
    "start_time": "2024-05-26T14:14:38.641Z"
   },
   {
    "duration": 104,
    "start_time": "2024-05-26T14:14:38.744Z"
   },
   {
    "duration": 155,
    "start_time": "2024-05-26T14:14:38.850Z"
   },
   {
    "duration": 116,
    "start_time": "2024-05-26T14:14:39.007Z"
   },
   {
    "duration": 103,
    "start_time": "2024-05-26T14:14:39.125Z"
   },
   {
    "duration": 106,
    "start_time": "2024-05-26T14:14:39.230Z"
   },
   {
    "duration": 942,
    "start_time": "2024-05-26T14:14:39.338Z"
   },
   {
    "duration": 12,
    "start_time": "2024-05-26T14:14:40.282Z"
   },
   {
    "duration": 6,
    "start_time": "2024-05-26T14:14:40.295Z"
   },
   {
    "duration": 6,
    "start_time": "2024-05-26T14:14:40.303Z"
   },
   {
    "duration": 2,
    "start_time": "2024-05-26T14:14:40.311Z"
   },
   {
    "duration": 8,
    "start_time": "2024-05-26T14:14:40.315Z"
   },
   {
    "duration": 217,
    "start_time": "2024-05-26T14:14:40.324Z"
   },
   {
    "duration": 172,
    "start_time": "2024-05-26T14:14:40.542Z"
   },
   {
    "duration": 181,
    "start_time": "2024-05-26T14:14:40.716Z"
   },
   {
    "duration": 7,
    "start_time": "2024-05-26T14:14:40.899Z"
   },
   {
    "duration": 911,
    "start_time": "2024-05-26T14:14:40.907Z"
   },
   {
    "duration": 7,
    "start_time": "2024-05-26T14:16:57.619Z"
   },
   {
    "duration": 130,
    "start_time": "2024-05-26T14:43:46.707Z"
   },
   {
    "duration": 100,
    "start_time": "2024-05-26T14:44:15.534Z"
   },
   {
    "duration": 115,
    "start_time": "2024-05-26T14:44:53.512Z"
   },
   {
    "duration": 112,
    "start_time": "2024-05-26T14:45:24.862Z"
   },
   {
    "duration": 54,
    "start_time": "2024-05-26T14:45:29.782Z"
   },
   {
    "duration": 2,
    "start_time": "2024-05-26T14:50:37.555Z"
   },
   {
    "duration": 3,
    "start_time": "2024-05-26T14:53:41.829Z"
   },
   {
    "duration": 1048,
    "start_time": "2024-05-27T14:14:15.796Z"
   },
   {
    "duration": 93,
    "start_time": "2024-05-27T14:14:16.845Z"
   },
   {
    "duration": 3,
    "start_time": "2024-05-27T14:14:16.939Z"
   },
   {
    "duration": 17,
    "start_time": "2024-05-27T14:14:16.943Z"
   },
   {
    "duration": 33,
    "start_time": "2024-05-27T14:14:16.961Z"
   },
   {
    "duration": 6,
    "start_time": "2024-05-27T14:14:16.995Z"
   },
   {
    "duration": 5,
    "start_time": "2024-05-27T14:14:17.002Z"
   },
   {
    "duration": 18,
    "start_time": "2024-05-27T14:14:17.008Z"
   },
   {
    "duration": 4,
    "start_time": "2024-05-27T14:14:17.027Z"
   },
   {
    "duration": 5,
    "start_time": "2024-05-27T14:14:17.033Z"
   },
   {
    "duration": 10,
    "start_time": "2024-05-27T14:14:17.039Z"
   },
   {
    "duration": 600,
    "start_time": "2024-05-27T14:14:17.050Z"
   },
   {
    "duration": 188,
    "start_time": "2024-05-27T14:14:17.651Z"
   },
   {
    "duration": 189,
    "start_time": "2024-05-27T14:14:17.840Z"
   },
   {
    "duration": 182,
    "start_time": "2024-05-27T14:14:18.030Z"
   },
   {
    "duration": 3,
    "start_time": "2024-05-27T14:14:18.214Z"
   },
   {
    "duration": 5,
    "start_time": "2024-05-27T14:14:18.218Z"
   },
   {
    "duration": 141,
    "start_time": "2024-05-27T14:14:18.224Z"
   },
   {
    "duration": 142,
    "start_time": "2024-05-27T14:14:18.367Z"
   },
   {
    "duration": 3,
    "start_time": "2024-05-27T14:14:18.511Z"
   },
   {
    "duration": 96,
    "start_time": "2024-05-27T14:14:18.515Z"
   },
   {
    "duration": 95,
    "start_time": "2024-05-27T14:14:18.612Z"
   },
   {
    "duration": 119,
    "start_time": "2024-05-27T14:14:18.708Z"
   },
   {
    "duration": 64,
    "start_time": "2024-05-27T14:14:18.828Z"
   },
   {
    "duration": 32,
    "start_time": "2024-05-27T14:14:18.894Z"
   },
   {
    "duration": 4,
    "start_time": "2024-05-27T14:14:18.927Z"
   },
   {
    "duration": 7,
    "start_time": "2024-05-27T14:14:18.932Z"
   },
   {
    "duration": 90,
    "start_time": "2024-05-27T14:14:18.942Z"
   },
   {
    "duration": 76,
    "start_time": "2024-05-27T14:14:19.033Z"
   },
   {
    "duration": 81,
    "start_time": "2024-05-27T14:14:19.110Z"
   },
   {
    "duration": 74,
    "start_time": "2024-05-27T14:14:19.192Z"
   },
   {
    "duration": 81,
    "start_time": "2024-05-27T14:14:19.267Z"
   },
   {
    "duration": 100,
    "start_time": "2024-05-27T14:14:19.350Z"
   },
   {
    "duration": 100,
    "start_time": "2024-05-27T14:14:19.451Z"
   },
   {
    "duration": 93,
    "start_time": "2024-05-27T14:14:19.552Z"
   },
   {
    "duration": 97,
    "start_time": "2024-05-27T14:14:19.646Z"
   },
   {
    "duration": 92,
    "start_time": "2024-05-27T14:14:19.745Z"
   },
   {
    "duration": 710,
    "start_time": "2024-05-27T14:14:19.839Z"
   },
   {
    "duration": 6,
    "start_time": "2024-05-27T14:14:20.551Z"
   },
   {
    "duration": 6,
    "start_time": "2024-05-27T14:14:20.558Z"
   },
   {
    "duration": 20,
    "start_time": "2024-05-27T14:14:20.565Z"
   },
   {
    "duration": 5,
    "start_time": "2024-05-27T14:14:20.587Z"
   },
   {
    "duration": 40,
    "start_time": "2024-05-27T14:14:20.593Z"
   },
   {
    "duration": 180,
    "start_time": "2024-05-27T14:14:20.634Z"
   },
   {
    "duration": 116,
    "start_time": "2024-05-27T14:14:20.815Z"
   },
   {
    "duration": 124,
    "start_time": "2024-05-27T14:14:20.932Z"
   },
   {
    "duration": 151,
    "start_time": "2024-05-27T14:14:21.058Z"
   },
   {
    "duration": 124,
    "start_time": "2024-05-27T14:14:21.211Z"
   },
   {
    "duration": 3,
    "start_time": "2024-05-27T14:24:55.981Z"
   },
   {
    "duration": 1618,
    "start_time": "2024-05-28T12:59:59.956Z"
   },
   {
    "duration": 111,
    "start_time": "2024-05-28T13:00:01.576Z"
   },
   {
    "duration": 3,
    "start_time": "2024-05-28T13:00:01.689Z"
   },
   {
    "duration": 68,
    "start_time": "2024-05-28T13:00:01.694Z"
   },
   {
    "duration": 110,
    "start_time": "2024-05-28T13:00:01.764Z"
   },
   {
    "duration": 94,
    "start_time": "2024-05-28T13:00:01.876Z"
   },
   {
    "duration": 88,
    "start_time": "2024-05-28T13:00:01.972Z"
   },
   {
    "duration": 242,
    "start_time": "2024-05-28T13:00:02.062Z"
   },
   {
    "duration": 107,
    "start_time": "2024-05-28T13:00:02.305Z"
   },
   {
    "duration": 82,
    "start_time": "2024-05-28T13:00:02.415Z"
   },
   {
    "duration": 55,
    "start_time": "2024-05-28T13:00:02.499Z"
   },
   {
    "duration": 0,
    "start_time": "2024-05-28T13:00:02.557Z"
   },
   {
    "duration": 0,
    "start_time": "2024-05-28T13:00:02.558Z"
   },
   {
    "duration": 0,
    "start_time": "2024-05-28T13:00:02.559Z"
   },
   {
    "duration": 0,
    "start_time": "2024-05-28T13:00:02.561Z"
   },
   {
    "duration": 0,
    "start_time": "2024-05-28T13:00:02.562Z"
   },
   {
    "duration": 0,
    "start_time": "2024-05-28T13:00:02.563Z"
   },
   {
    "duration": 0,
    "start_time": "2024-05-28T13:00:02.564Z"
   },
   {
    "duration": 0,
    "start_time": "2024-05-28T13:00:02.566Z"
   },
   {
    "duration": 0,
    "start_time": "2024-05-28T13:00:02.567Z"
   },
   {
    "duration": 0,
    "start_time": "2024-05-28T13:00:02.568Z"
   },
   {
    "duration": 0,
    "start_time": "2024-05-28T13:00:02.569Z"
   },
   {
    "duration": 0,
    "start_time": "2024-05-28T13:00:02.570Z"
   },
   {
    "duration": 0,
    "start_time": "2024-05-28T13:00:02.572Z"
   },
   {
    "duration": 0,
    "start_time": "2024-05-28T13:00:02.572Z"
   },
   {
    "duration": 0,
    "start_time": "2024-05-28T13:00:02.574Z"
   },
   {
    "duration": 0,
    "start_time": "2024-05-28T13:00:02.575Z"
   },
   {
    "duration": 0,
    "start_time": "2024-05-28T13:00:02.576Z"
   },
   {
    "duration": 0,
    "start_time": "2024-05-28T13:00:02.577Z"
   },
   {
    "duration": 0,
    "start_time": "2024-05-28T13:00:02.578Z"
   },
   {
    "duration": 0,
    "start_time": "2024-05-28T13:00:02.580Z"
   },
   {
    "duration": 0,
    "start_time": "2024-05-28T13:00:02.581Z"
   },
   {
    "duration": 0,
    "start_time": "2024-05-28T13:00:02.582Z"
   },
   {
    "duration": 0,
    "start_time": "2024-05-28T13:00:02.583Z"
   },
   {
    "duration": 0,
    "start_time": "2024-05-28T13:00:02.584Z"
   },
   {
    "duration": 0,
    "start_time": "2024-05-28T13:00:02.585Z"
   },
   {
    "duration": 0,
    "start_time": "2024-05-28T13:00:02.587Z"
   },
   {
    "duration": 0,
    "start_time": "2024-05-28T13:00:02.591Z"
   },
   {
    "duration": 0,
    "start_time": "2024-05-28T13:00:02.593Z"
   },
   {
    "duration": 0,
    "start_time": "2024-05-28T13:00:02.594Z"
   },
   {
    "duration": 0,
    "start_time": "2024-05-28T13:00:02.595Z"
   },
   {
    "duration": 0,
    "start_time": "2024-05-28T13:00:02.596Z"
   },
   {
    "duration": 0,
    "start_time": "2024-05-28T13:00:02.597Z"
   },
   {
    "duration": 0,
    "start_time": "2024-05-28T13:00:02.598Z"
   },
   {
    "duration": 0,
    "start_time": "2024-05-28T13:00:02.599Z"
   },
   {
    "duration": 0,
    "start_time": "2024-05-28T13:00:02.601Z"
   },
   {
    "duration": 0,
    "start_time": "2024-05-28T13:00:02.602Z"
   },
   {
    "duration": 0,
    "start_time": "2024-05-28T13:00:02.603Z"
   },
   {
    "duration": 0,
    "start_time": "2024-05-28T13:00:02.604Z"
   },
   {
    "duration": 5,
    "start_time": "2024-05-28T13:00:27.742Z"
   },
   {
    "duration": 746,
    "start_time": "2024-05-28T13:00:27.749Z"
   },
   {
    "duration": 248,
    "start_time": "2024-05-28T13:00:28.497Z"
   },
   {
    "duration": 180,
    "start_time": "2024-05-28T13:00:28.747Z"
   },
   {
    "duration": 315,
    "start_time": "2024-05-28T13:00:28.929Z"
   },
   {
    "duration": 5,
    "start_time": "2024-05-28T13:00:29.246Z"
   },
   {
    "duration": 19,
    "start_time": "2024-05-28T13:00:29.253Z"
   },
   {
    "duration": 160,
    "start_time": "2024-05-28T13:00:29.292Z"
   },
   {
    "duration": 205,
    "start_time": "2024-05-28T13:00:29.454Z"
   },
   {
    "duration": 5,
    "start_time": "2024-05-28T13:00:29.662Z"
   },
   {
    "duration": 149,
    "start_time": "2024-05-28T13:00:29.668Z"
   },
   {
    "duration": 155,
    "start_time": "2024-05-28T13:00:29.819Z"
   },
   {
    "duration": 104,
    "start_time": "2024-05-28T13:00:29.991Z"
   },
   {
    "duration": 80,
    "start_time": "2024-05-28T13:00:30.097Z"
   },
   {
    "duration": 43,
    "start_time": "2024-05-28T13:00:30.193Z"
   },
   {
    "duration": 190,
    "start_time": "2024-05-28T13:00:30.238Z"
   },
   {
    "duration": 72,
    "start_time": "2024-05-28T13:00:30.430Z"
   },
   {
    "duration": 202,
    "start_time": "2024-05-28T13:00:30.504Z"
   },
   {
    "duration": 198,
    "start_time": "2024-05-28T13:00:30.708Z"
   },
   {
    "duration": 110,
    "start_time": "2024-05-28T13:00:30.908Z"
   },
   {
    "duration": 156,
    "start_time": "2024-05-28T13:00:31.021Z"
   },
   {
    "duration": 128,
    "start_time": "2024-05-28T13:00:31.179Z"
   },
   {
    "duration": 126,
    "start_time": "2024-05-28T13:00:31.309Z"
   },
   {
    "duration": 137,
    "start_time": "2024-05-28T13:00:31.438Z"
   },
   {
    "duration": 149,
    "start_time": "2024-05-28T13:00:31.577Z"
   },
   {
    "duration": 108,
    "start_time": "2024-05-28T13:00:31.728Z"
   },
   {
    "duration": 97,
    "start_time": "2024-05-28T13:00:31.838Z"
   },
   {
    "duration": 1005,
    "start_time": "2024-05-28T13:00:31.937Z"
   },
   {
    "duration": 6,
    "start_time": "2024-05-28T13:00:32.944Z"
   },
   {
    "duration": 121,
    "start_time": "2024-05-28T13:00:32.952Z"
   },
   {
    "duration": 31,
    "start_time": "2024-05-28T13:00:33.075Z"
   },
   {
    "duration": 5,
    "start_time": "2024-05-28T13:00:33.108Z"
   },
   {
    "duration": 17,
    "start_time": "2024-05-28T13:00:33.115Z"
   },
   {
    "duration": 200,
    "start_time": "2024-05-28T13:00:33.133Z"
   },
   {
    "duration": 149,
    "start_time": "2024-05-28T13:00:33.335Z"
   },
   {
    "duration": 185,
    "start_time": "2024-05-28T13:00:33.485Z"
   },
   {
    "duration": 173,
    "start_time": "2024-05-28T13:00:33.674Z"
   },
   {
    "duration": 157,
    "start_time": "2024-05-28T13:00:33.849Z"
   },
   {
    "duration": 4,
    "start_time": "2024-05-28T13:03:34.364Z"
   },
   {
    "duration": 157,
    "start_time": "2024-05-28T13:03:36.905Z"
   },
   {
    "duration": 8,
    "start_time": "2024-05-28T13:04:53.317Z"
   },
   {
    "duration": 164,
    "start_time": "2024-05-28T13:04:55.128Z"
   },
   {
    "duration": 5,
    "start_time": "2024-05-28T13:05:35.184Z"
   },
   {
    "duration": 255,
    "start_time": "2024-05-28T13:05:37.605Z"
   },
   {
    "duration": 173,
    "start_time": "2024-05-28T13:05:43.877Z"
   },
   {
    "duration": 172,
    "start_time": "2024-05-28T13:06:54.311Z"
   },
   {
    "duration": 4,
    "start_time": "2024-05-28T13:06:59.584Z"
   },
   {
    "duration": 185,
    "start_time": "2024-05-28T13:07:01.179Z"
   },
   {
    "duration": 60,
    "start_time": "2024-05-28T13:07:47.137Z"
   },
   {
    "duration": 165,
    "start_time": "2024-05-28T13:07:57.246Z"
   },
   {
    "duration": 169,
    "start_time": "2024-05-28T13:08:14.228Z"
   },
   {
    "duration": 151,
    "start_time": "2024-05-28T13:08:59.195Z"
   },
   {
    "duration": 265,
    "start_time": "2024-05-28T13:10:34.808Z"
   },
   {
    "duration": 7,
    "start_time": "2024-05-28T13:11:37.061Z"
   },
   {
    "duration": 8,
    "start_time": "2024-05-28T13:11:46.286Z"
   },
   {
    "duration": 3,
    "start_time": "2024-05-28T13:12:02.695Z"
   },
   {
    "duration": 66,
    "start_time": "2024-05-28T13:12:02.700Z"
   },
   {
    "duration": 4,
    "start_time": "2024-05-28T13:12:02.768Z"
   },
   {
    "duration": 9,
    "start_time": "2024-05-28T13:12:02.774Z"
   },
   {
    "duration": 26,
    "start_time": "2024-05-28T13:12:02.785Z"
   },
   {
    "duration": 6,
    "start_time": "2024-05-28T13:12:02.813Z"
   },
   {
    "duration": 31,
    "start_time": "2024-05-28T13:12:02.821Z"
   },
   {
    "duration": 53,
    "start_time": "2024-05-28T13:12:02.854Z"
   },
   {
    "duration": 10,
    "start_time": "2024-05-28T13:12:02.908Z"
   },
   {
    "duration": 37,
    "start_time": "2024-05-28T13:12:02.919Z"
   },
   {
    "duration": 16,
    "start_time": "2024-05-28T13:12:02.958Z"
   },
   {
    "duration": 197,
    "start_time": "2024-05-28T13:12:02.975Z"
   },
   {
    "duration": 275,
    "start_time": "2024-05-28T13:12:03.173Z"
   },
   {
    "duration": 206,
    "start_time": "2024-05-28T13:12:03.450Z"
   },
   {
    "duration": 244,
    "start_time": "2024-05-28T13:12:03.658Z"
   },
   {
    "duration": 7,
    "start_time": "2024-05-28T13:12:13.392Z"
   },
   {
    "duration": 177,
    "start_time": "2024-05-28T13:13:57.225Z"
   },
   {
    "duration": 5,
    "start_time": "2024-05-28T13:14:32.622Z"
   },
   {
    "duration": 60,
    "start_time": "2024-05-28T13:15:51.896Z"
   },
   {
    "duration": 58,
    "start_time": "2024-05-28T13:16:04.060Z"
   },
   {
    "duration": 8,
    "start_time": "2024-05-28T13:16:07.696Z"
   },
   {
    "duration": 6,
    "start_time": "2024-05-28T13:16:30.940Z"
   },
   {
    "duration": 3,
    "start_time": "2024-05-28T13:16:39.624Z"
   },
   {
    "duration": 57,
    "start_time": "2024-05-28T13:16:39.632Z"
   },
   {
    "duration": 4,
    "start_time": "2024-05-28T13:16:39.691Z"
   },
   {
    "duration": 16,
    "start_time": "2024-05-28T13:16:39.696Z"
   },
   {
    "duration": 31,
    "start_time": "2024-05-28T13:16:39.715Z"
   },
   {
    "duration": 6,
    "start_time": "2024-05-28T13:16:39.748Z"
   },
   {
    "duration": 19,
    "start_time": "2024-05-28T13:16:39.756Z"
   },
   {
    "duration": 30,
    "start_time": "2024-05-28T13:16:39.777Z"
   },
   {
    "duration": 20,
    "start_time": "2024-05-28T13:16:39.809Z"
   },
   {
    "duration": 4,
    "start_time": "2024-05-28T13:16:39.831Z"
   },
   {
    "duration": 11,
    "start_time": "2024-05-28T13:16:39.838Z"
   },
   {
    "duration": 209,
    "start_time": "2024-05-28T13:16:39.851Z"
   },
   {
    "duration": 270,
    "start_time": "2024-05-28T13:16:40.063Z"
   },
   {
    "duration": 180,
    "start_time": "2024-05-28T13:16:40.334Z"
   },
   {
    "duration": 225,
    "start_time": "2024-05-28T13:16:40.515Z"
   },
   {
    "duration": 5,
    "start_time": "2024-05-28T13:16:42.676Z"
   },
   {
    "duration": 8,
    "start_time": "2024-05-28T13:17:13.558Z"
   },
   {
    "duration": 7,
    "start_time": "2024-05-28T13:17:24.176Z"
   },
   {
    "duration": 3,
    "start_time": "2024-05-28T13:17:58.011Z"
   },
   {
    "duration": 67,
    "start_time": "2024-05-28T13:17:58.019Z"
   },
   {
    "duration": 3,
    "start_time": "2024-05-28T13:17:58.088Z"
   },
   {
    "duration": 6,
    "start_time": "2024-05-28T13:17:58.093Z"
   },
   {
    "duration": 23,
    "start_time": "2024-05-28T13:17:58.101Z"
   },
   {
    "duration": 6,
    "start_time": "2024-05-28T13:17:58.125Z"
   },
   {
    "duration": 11,
    "start_time": "2024-05-28T13:17:58.132Z"
   },
   {
    "duration": 24,
    "start_time": "2024-05-28T13:17:58.145Z"
   },
   {
    "duration": 26,
    "start_time": "2024-05-28T13:17:58.170Z"
   },
   {
    "duration": 3,
    "start_time": "2024-05-28T13:18:03.995Z"
   },
   {
    "duration": 4,
    "start_time": "2024-05-28T13:18:10.761Z"
   },
   {
    "duration": 3,
    "start_time": "2024-05-28T13:18:13.368Z"
   },
   {
    "duration": 22,
    "start_time": "2024-05-28T13:19:16.917Z"
   },
   {
    "duration": 16,
    "start_time": "2024-05-28T13:19:31.689Z"
   },
   {
    "duration": 17,
    "start_time": "2024-05-28T13:19:39.080Z"
   },
   {
    "duration": 5,
    "start_time": "2024-05-28T13:20:39.935Z"
   },
   {
    "duration": 8,
    "start_time": "2024-05-28T13:20:43.806Z"
   },
   {
    "duration": 9,
    "start_time": "2024-05-28T13:20:46.807Z"
   },
   {
    "duration": 5,
    "start_time": "2024-05-28T13:21:31.253Z"
   },
   {
    "duration": 116,
    "start_time": "2024-05-28T13:21:31.262Z"
   },
   {
    "duration": 24,
    "start_time": "2024-05-28T13:21:31.381Z"
   },
   {
    "duration": 109,
    "start_time": "2024-05-28T13:21:31.407Z"
   },
   {
    "duration": 56,
    "start_time": "2024-05-28T13:21:31.518Z"
   },
   {
    "duration": 28,
    "start_time": "2024-05-28T13:21:31.576Z"
   },
   {
    "duration": 39,
    "start_time": "2024-05-28T13:21:31.607Z"
   },
   {
    "duration": 57,
    "start_time": "2024-05-28T13:21:31.648Z"
   },
   {
    "duration": 24,
    "start_time": "2024-05-28T13:21:31.710Z"
   },
   {
    "duration": 31,
    "start_time": "2024-05-28T13:21:31.736Z"
   },
   {
    "duration": 30,
    "start_time": "2024-05-28T13:21:31.770Z"
   },
   {
    "duration": 21,
    "start_time": "2024-05-28T13:21:31.802Z"
   },
   {
    "duration": 338,
    "start_time": "2024-05-28T13:21:31.824Z"
   },
   {
    "duration": 191,
    "start_time": "2024-05-28T13:21:32.164Z"
   },
   {
    "duration": 195,
    "start_time": "2024-05-28T13:21:32.357Z"
   },
   {
    "duration": 239,
    "start_time": "2024-05-28T13:21:32.554Z"
   },
   {
    "duration": 6,
    "start_time": "2024-05-28T13:21:35.234Z"
   },
   {
    "duration": 7,
    "start_time": "2024-05-28T13:21:45.198Z"
   },
   {
    "duration": 6,
    "start_time": "2024-05-28T13:21:52.767Z"
   },
   {
    "duration": 6,
    "start_time": "2024-05-28T13:21:59.508Z"
   },
   {
    "duration": 55,
    "start_time": "2024-05-28T13:22:10.846Z"
   },
   {
    "duration": 7,
    "start_time": "2024-05-28T13:22:13.768Z"
   },
   {
    "duration": 6,
    "start_time": "2024-05-28T13:22:18.398Z"
   },
   {
    "duration": 6,
    "start_time": "2024-05-28T13:22:37.259Z"
   },
   {
    "duration": 8,
    "start_time": "2024-05-28T13:26:22.926Z"
   },
   {
    "duration": 9,
    "start_time": "2024-05-28T13:27:19.913Z"
   },
   {
    "duration": 6,
    "start_time": "2024-05-28T13:27:37.702Z"
   },
   {
    "duration": 7,
    "start_time": "2024-05-28T13:27:46.921Z"
   },
   {
    "duration": 6,
    "start_time": "2024-05-28T13:27:58.656Z"
   },
   {
    "duration": 299,
    "start_time": "2024-05-28T13:28:25.922Z"
   },
   {
    "duration": 9,
    "start_time": "2024-05-28T13:29:08.893Z"
   },
   {
    "duration": 8,
    "start_time": "2024-05-28T13:29:22.058Z"
   },
   {
    "duration": 214,
    "start_time": "2024-05-28T13:29:36.388Z"
   },
   {
    "duration": 210,
    "start_time": "2024-05-28T13:29:51.948Z"
   },
   {
    "duration": 295,
    "start_time": "2024-05-28T13:30:06.696Z"
   },
   {
    "duration": 284,
    "start_time": "2024-05-28T13:30:15.439Z"
   },
   {
    "duration": 9,
    "start_time": "2024-05-28T13:30:22.182Z"
   },
   {
    "duration": 7,
    "start_time": "2024-05-28T13:30:30.880Z"
   },
   {
    "duration": 210,
    "start_time": "2024-05-28T13:30:35.148Z"
   },
   {
    "duration": 9,
    "start_time": "2024-05-28T13:30:49.212Z"
   },
   {
    "duration": 217,
    "start_time": "2024-05-28T13:30:57.716Z"
   },
   {
    "duration": 7,
    "start_time": "2024-05-28T13:31:10.519Z"
   },
   {
    "duration": 335,
    "start_time": "2024-05-28T13:31:29.552Z"
   },
   {
    "duration": 8,
    "start_time": "2024-05-28T13:31:46.809Z"
   },
   {
    "duration": 206,
    "start_time": "2024-05-28T13:31:54.778Z"
   },
   {
    "duration": 3,
    "start_time": "2024-05-28T13:33:48.858Z"
   },
   {
    "duration": 258,
    "start_time": "2024-05-28T13:33:52.322Z"
   },
   {
    "duration": 11,
    "start_time": "2024-05-28T13:35:38.616Z"
   },
   {
    "duration": 217,
    "start_time": "2024-05-28T13:36:07.053Z"
   },
   {
    "duration": 7,
    "start_time": "2024-05-28T13:37:34.254Z"
   },
   {
    "duration": 7,
    "start_time": "2024-05-28T13:37:54.608Z"
   },
   {
    "duration": 10,
    "start_time": "2024-05-28T13:38:22.370Z"
   },
   {
    "duration": 8,
    "start_time": "2024-05-28T13:38:26.444Z"
   },
   {
    "duration": 7,
    "start_time": "2024-05-28T13:39:37.746Z"
   },
   {
    "duration": 9,
    "start_time": "2024-05-28T13:39:45.988Z"
   },
   {
    "duration": 3,
    "start_time": "2024-05-28T13:40:15.841Z"
   },
   {
    "duration": 322,
    "start_time": "2024-05-28T13:40:36.893Z"
   },
   {
    "duration": 3,
    "start_time": "2024-05-28T13:45:43.934Z"
   },
   {
    "duration": 57,
    "start_time": "2024-05-28T13:45:43.942Z"
   },
   {
    "duration": 4,
    "start_time": "2024-05-28T13:45:44.001Z"
   },
   {
    "duration": 10,
    "start_time": "2024-05-28T13:45:44.007Z"
   },
   {
    "duration": 41,
    "start_time": "2024-05-28T13:45:44.019Z"
   },
   {
    "duration": 43,
    "start_time": "2024-05-28T13:45:44.062Z"
   },
   {
    "duration": 33,
    "start_time": "2024-05-28T13:45:44.107Z"
   },
   {
    "duration": 36,
    "start_time": "2024-05-28T13:45:44.141Z"
   },
   {
    "duration": 6,
    "start_time": "2024-05-28T13:45:44.178Z"
   },
   {
    "duration": 63,
    "start_time": "2024-05-28T13:45:44.186Z"
   },
   {
    "duration": 58,
    "start_time": "2024-05-28T13:45:44.251Z"
   },
   {
    "duration": 5,
    "start_time": "2024-05-28T13:45:44.311Z"
   },
   {
    "duration": 247,
    "start_time": "2024-05-28T13:45:44.318Z"
   },
   {
    "duration": 2,
    "start_time": "2024-05-28T13:45:44.567Z"
   },
   {
    "duration": 6,
    "start_time": "2024-05-28T13:45:44.571Z"
   },
   {
    "duration": 8,
    "start_time": "2024-05-28T13:45:44.592Z"
   },
   {
    "duration": 4,
    "start_time": "2024-05-28T13:45:44.602Z"
   },
   {
    "duration": 227,
    "start_time": "2024-05-28T13:45:47.509Z"
   },
   {
    "duration": 7,
    "start_time": "2024-05-28T13:47:07.313Z"
   },
   {
    "duration": 3,
    "start_time": "2024-05-28T13:47:09.239Z"
   },
   {
    "duration": 194,
    "start_time": "2024-05-28T13:47:10.820Z"
   },
   {
    "duration": 3,
    "start_time": "2024-05-28T13:47:56.913Z"
   },
   {
    "duration": 290,
    "start_time": "2024-05-28T13:48:05.744Z"
   },
   {
    "duration": 2,
    "start_time": "2024-05-28T13:49:02.416Z"
   },
   {
    "duration": 162,
    "start_time": "2024-05-28T13:49:38.542Z"
   },
   {
    "duration": 157,
    "start_time": "2024-05-28T13:52:55.882Z"
   },
   {
    "duration": 174,
    "start_time": "2024-05-28T13:54:11.367Z"
   },
   {
    "duration": 110,
    "start_time": "2024-05-28T13:56:19.527Z"
   },
   {
    "duration": 105,
    "start_time": "2024-05-28T13:57:14.755Z"
   },
   {
    "duration": 187,
    "start_time": "2024-05-28T13:57:37.807Z"
   },
   {
    "duration": 98,
    "start_time": "2024-05-28T13:58:21.678Z"
   },
   {
    "duration": 106,
    "start_time": "2024-05-28T13:58:51.418Z"
   },
   {
    "duration": 123,
    "start_time": "2024-05-28T13:58:59.868Z"
   },
   {
    "duration": 91,
    "start_time": "2024-05-28T13:59:04.311Z"
   },
   {
    "duration": 129,
    "start_time": "2024-05-28T13:59:10.492Z"
   },
   {
    "duration": 5,
    "start_time": "2024-05-28T13:59:16.224Z"
   },
   {
    "duration": 98,
    "start_time": "2024-05-28T13:59:23.500Z"
   },
   {
    "duration": 87,
    "start_time": "2024-05-28T14:00:36.604Z"
   },
   {
    "duration": 41,
    "start_time": "2024-05-28T14:02:15.922Z"
   },
   {
    "duration": 41,
    "start_time": "2024-05-28T14:02:48.520Z"
   },
   {
    "duration": 40,
    "start_time": "2024-05-28T14:03:18.430Z"
   },
   {
    "duration": 4,
    "start_time": "2024-05-28T14:04:31.245Z"
   },
   {
    "duration": 40,
    "start_time": "2024-05-28T14:04:36.291Z"
   },
   {
    "duration": 41,
    "start_time": "2024-05-28T14:05:36.981Z"
   },
   {
    "duration": 3,
    "start_time": "2024-05-28T14:05:57.187Z"
   },
   {
    "duration": 2,
    "start_time": "2024-05-28T14:06:13.616Z"
   },
   {
    "duration": 2,
    "start_time": "2024-05-28T14:06:34.440Z"
   },
   {
    "duration": 42,
    "start_time": "2024-05-28T14:08:07.868Z"
   },
   {
    "duration": 41,
    "start_time": "2024-05-28T14:10:18.672Z"
   },
   {
    "duration": 41,
    "start_time": "2024-05-28T14:10:28.897Z"
   },
   {
    "duration": 27,
    "start_time": "2024-05-28T14:21:26.650Z"
   },
   {
    "duration": 19,
    "start_time": "2024-05-28T14:22:13.835Z"
   },
   {
    "duration": 130,
    "start_time": "2024-05-28T14:25:00.358Z"
   },
   {
    "duration": 44,
    "start_time": "2024-05-28T15:24:28.399Z"
   },
   {
    "duration": 9,
    "start_time": "2024-05-28T15:25:31.299Z"
   },
   {
    "duration": 6,
    "start_time": "2024-05-28T15:25:32.039Z"
   },
   {
    "duration": 104,
    "start_time": "2024-05-28T15:25:33.414Z"
   },
   {
    "duration": 87,
    "start_time": "2024-05-28T15:26:47.483Z"
   },
   {
    "duration": 4,
    "start_time": "2024-05-28T15:28:53.008Z"
   },
   {
    "duration": 4,
    "start_time": "2024-05-28T15:29:34.766Z"
   },
   {
    "duration": 106,
    "start_time": "2024-05-28T15:29:36.026Z"
   },
   {
    "duration": 16,
    "start_time": "2024-05-28T15:29:45.451Z"
   },
   {
    "duration": 109,
    "start_time": "2024-05-28T15:30:08.595Z"
   },
   {
    "duration": 94,
    "start_time": "2024-05-28T15:30:11.503Z"
   },
   {
    "duration": 101,
    "start_time": "2024-05-28T15:31:34.140Z"
   },
   {
    "duration": 124,
    "start_time": "2024-05-28T15:33:35.900Z"
   },
   {
    "duration": 97,
    "start_time": "2024-05-28T15:35:04.550Z"
   },
   {
    "duration": 103,
    "start_time": "2024-05-28T15:37:11.869Z"
   },
   {
    "duration": 219,
    "start_time": "2024-05-28T15:39:46.765Z"
   },
   {
    "duration": 115,
    "start_time": "2024-05-28T15:40:50.440Z"
   },
   {
    "duration": 101,
    "start_time": "2024-05-28T15:41:18.967Z"
   },
   {
    "duration": 107,
    "start_time": "2024-05-28T15:42:04.455Z"
   },
   {
    "duration": 1020,
    "start_time": "2024-05-28T15:43:03.831Z"
   },
   {
    "duration": 28,
    "start_time": "2024-05-28T15:44:31.004Z"
   },
   {
    "duration": 9,
    "start_time": "2024-05-28T15:44:50.632Z"
   },
   {
    "duration": 22,
    "start_time": "2024-05-28T15:46:37.787Z"
   },
   {
    "duration": 23,
    "start_time": "2024-05-28T15:47:39.145Z"
   },
   {
    "duration": 23,
    "start_time": "2024-05-28T15:47:43.998Z"
   },
   {
    "duration": 927,
    "start_time": "2024-05-28T15:47:48.510Z"
   },
   {
    "duration": 23,
    "start_time": "2024-05-28T15:48:01.046Z"
   },
   {
    "duration": 24,
    "start_time": "2024-05-28T15:48:14.712Z"
   },
   {
    "duration": 13,
    "start_time": "2024-05-28T15:49:18.197Z"
   },
   {
    "duration": 1167,
    "start_time": "2024-05-28T15:51:06.534Z"
   },
   {
    "duration": 24,
    "start_time": "2024-05-28T15:51:32.927Z"
   },
   {
    "duration": 1082,
    "start_time": "2024-05-28T15:51:39.553Z"
   },
   {
    "duration": 10,
    "start_time": "2024-05-28T15:55:54.071Z"
   },
   {
    "duration": 11,
    "start_time": "2024-05-28T15:56:00.076Z"
   },
   {
    "duration": 14,
    "start_time": "2024-05-28T15:56:22.074Z"
   },
   {
    "duration": 11,
    "start_time": "2024-05-28T15:57:04.229Z"
   },
   {
    "duration": 10,
    "start_time": "2024-05-28T15:58:12.149Z"
   },
   {
    "duration": 13,
    "start_time": "2024-05-28T15:58:58.537Z"
   },
   {
    "duration": 27,
    "start_time": "2024-05-28T15:59:04.309Z"
   },
   {
    "duration": 8,
    "start_time": "2024-05-28T15:59:19.019Z"
   },
   {
    "duration": 20,
    "start_time": "2024-05-28T15:59:42.288Z"
   },
   {
    "duration": 15,
    "start_time": "2024-05-28T16:10:47.699Z"
   },
   {
    "duration": 17,
    "start_time": "2024-05-28T16:11:51.388Z"
   },
   {
    "duration": 6,
    "start_time": "2024-05-28T16:11:56.867Z"
   },
   {
    "duration": 13,
    "start_time": "2024-05-28T16:12:18.317Z"
   },
   {
    "duration": 16,
    "start_time": "2024-05-28T16:23:06.045Z"
   },
   {
    "duration": 6,
    "start_time": "2024-05-28T16:23:43.840Z"
   },
   {
    "duration": 7,
    "start_time": "2024-05-28T16:24:32.904Z"
   },
   {
    "duration": 3,
    "start_time": "2024-05-28T16:30:22.965Z"
   },
   {
    "duration": 4,
    "start_time": "2024-05-28T16:30:33.510Z"
   },
   {
    "duration": 20,
    "start_time": "2024-05-28T16:30:40.928Z"
   },
   {
    "duration": 5,
    "start_time": "2024-05-28T16:31:18.507Z"
   },
   {
    "duration": 22,
    "start_time": "2024-05-28T16:31:20.247Z"
   },
   {
    "duration": 12,
    "start_time": "2024-05-28T16:33:10.709Z"
   },
   {
    "duration": 12,
    "start_time": "2024-05-28T16:33:26.448Z"
   },
   {
    "duration": 11,
    "start_time": "2024-05-28T16:35:04.449Z"
   },
   {
    "duration": 12,
    "start_time": "2024-05-28T16:35:53.748Z"
   },
   {
    "duration": 4,
    "start_time": "2024-05-28T16:37:32.595Z"
   },
   {
    "duration": 72,
    "start_time": "2024-05-28T16:38:27.713Z"
   },
   {
    "duration": 54,
    "start_time": "2024-05-28T16:39:48.453Z"
   },
   {
    "duration": 13,
    "start_time": "2024-05-28T16:40:23.091Z"
   },
   {
    "duration": 11,
    "start_time": "2024-05-28T16:40:41.414Z"
   },
   {
    "duration": 11,
    "start_time": "2024-05-28T16:41:14.708Z"
   },
   {
    "duration": 69,
    "start_time": "2024-05-28T16:41:33.649Z"
   },
   {
    "duration": 22,
    "start_time": "2024-05-28T16:56:05.518Z"
   },
   {
    "duration": 800,
    "start_time": "2024-05-28T16:58:44.250Z"
   },
   {
    "duration": 18,
    "start_time": "2024-05-28T16:58:53.456Z"
   },
   {
    "duration": 35,
    "start_time": "2024-05-28T16:59:01.128Z"
   },
   {
    "duration": 14,
    "start_time": "2024-05-28T16:59:24.190Z"
   },
   {
    "duration": 11,
    "start_time": "2024-05-28T16:59:58.302Z"
   },
   {
    "duration": 52,
    "start_time": "2024-05-28T17:00:16.633Z"
   },
   {
    "duration": 10,
    "start_time": "2024-05-28T17:00:22.014Z"
   },
   {
    "duration": 6,
    "start_time": "2024-05-28T17:00:43.982Z"
   },
   {
    "duration": 27,
    "start_time": "2024-05-28T17:00:56.570Z"
   },
   {
    "duration": 34,
    "start_time": "2024-05-28T17:01:01.602Z"
   },
   {
    "duration": 26,
    "start_time": "2024-05-28T17:01:19.585Z"
   },
   {
    "duration": 25,
    "start_time": "2024-05-28T17:01:38.527Z"
   },
   {
    "duration": 17,
    "start_time": "2024-05-28T17:02:06.626Z"
   },
   {
    "duration": 21,
    "start_time": "2024-05-28T17:02:11.466Z"
   },
   {
    "duration": 25,
    "start_time": "2024-05-28T17:02:18.745Z"
   },
   {
    "duration": 26,
    "start_time": "2024-05-28T17:02:35.104Z"
   },
   {
    "duration": 27,
    "start_time": "2024-05-28T17:14:53.329Z"
   },
   {
    "duration": 9,
    "start_time": "2024-05-28T17:15:09.076Z"
   },
   {
    "duration": 9,
    "start_time": "2024-05-28T17:18:44.349Z"
   },
   {
    "duration": 7,
    "start_time": "2024-05-28T17:18:48.206Z"
   },
   {
    "duration": 9,
    "start_time": "2024-05-28T17:19:04.827Z"
   },
   {
    "duration": 8,
    "start_time": "2024-05-28T17:19:07.730Z"
   },
   {
    "duration": 6,
    "start_time": "2024-05-28T17:19:15.128Z"
   },
   {
    "duration": 1537,
    "start_time": "2024-05-28T19:47:59.491Z"
   },
   {
    "duration": 133,
    "start_time": "2024-05-28T19:48:01.030Z"
   },
   {
    "duration": 5,
    "start_time": "2024-05-28T19:48:01.165Z"
   },
   {
    "duration": 47,
    "start_time": "2024-05-28T19:48:01.172Z"
   },
   {
    "duration": 84,
    "start_time": "2024-05-28T19:48:01.221Z"
   },
   {
    "duration": 15,
    "start_time": "2024-05-28T19:48:01.307Z"
   },
   {
    "duration": 55,
    "start_time": "2024-05-28T19:48:01.324Z"
   },
   {
    "duration": 103,
    "start_time": "2024-05-28T19:48:01.381Z"
   },
   {
    "duration": 37,
    "start_time": "2024-05-28T19:48:01.486Z"
   },
   {
    "duration": 21,
    "start_time": "2024-05-28T19:48:01.527Z"
   },
   {
    "duration": 85,
    "start_time": "2024-05-28T19:48:01.550Z"
   },
   {
    "duration": 108,
    "start_time": "2024-05-28T19:48:01.638Z"
   },
   {
    "duration": 750,
    "start_time": "2024-05-28T19:48:01.748Z"
   },
   {
    "duration": 3,
    "start_time": "2024-05-28T19:48:02.499Z"
   },
   {
    "duration": 5,
    "start_time": "2024-05-28T19:48:02.553Z"
   },
   {
    "duration": 26,
    "start_time": "2024-05-28T19:48:02.560Z"
   },
   {
    "duration": 5,
    "start_time": "2024-05-28T19:48:02.588Z"
   },
   {
    "duration": 246,
    "start_time": "2024-05-28T19:48:02.595Z"
   },
   {
    "duration": 323,
    "start_time": "2024-05-28T19:48:02.843Z"
   },
   {
    "duration": 7,
    "start_time": "2024-05-28T19:48:03.168Z"
   },
   {
    "duration": 7,
    "start_time": "2024-05-28T19:48:03.176Z"
   },
   {
    "duration": 235,
    "start_time": "2024-05-28T19:48:03.185Z"
   },
   {
    "duration": 207,
    "start_time": "2024-05-28T19:48:03.422Z"
   },
   {
    "duration": 201,
    "start_time": "2024-05-28T19:48:03.631Z"
   },
   {
    "duration": 266,
    "start_time": "2024-05-28T19:48:03.834Z"
   },
   {
    "duration": 182,
    "start_time": "2024-05-28T19:48:04.102Z"
   },
   {
    "duration": 72,
    "start_time": "2024-05-28T19:48:04.286Z"
   },
   {
    "duration": 42,
    "start_time": "2024-05-28T19:48:04.365Z"
   },
   {
    "duration": 62,
    "start_time": "2024-05-28T19:48:04.409Z"
   },
   {
    "duration": 42,
    "start_time": "2024-05-28T19:48:04.473Z"
   },
   {
    "duration": 71,
    "start_time": "2024-05-28T19:48:04.517Z"
   },
   {
    "duration": 6,
    "start_time": "2024-05-28T19:48:04.590Z"
   },
   {
    "duration": 22,
    "start_time": "2024-05-28T19:48:04.598Z"
   },
   {
    "duration": 122,
    "start_time": "2024-05-28T19:48:04.622Z"
   },
   {
    "duration": 109,
    "start_time": "2024-05-28T19:48:04.746Z"
   },
   {
    "duration": 119,
    "start_time": "2024-05-28T19:48:04.857Z"
   },
   {
    "duration": 122,
    "start_time": "2024-05-28T19:48:04.978Z"
   },
   {
    "duration": 192,
    "start_time": "2024-05-28T19:48:05.102Z"
   },
   {
    "duration": 125,
    "start_time": "2024-05-28T19:48:05.296Z"
   },
   {
    "duration": 176,
    "start_time": "2024-05-28T19:48:05.423Z"
   },
   {
    "duration": 177,
    "start_time": "2024-05-28T19:48:05.600Z"
   },
   {
    "duration": 125,
    "start_time": "2024-05-28T19:48:05.779Z"
   },
   {
    "duration": 132,
    "start_time": "2024-05-28T19:48:05.905Z"
   },
   {
    "duration": 17,
    "start_time": "2024-05-28T19:48:06.039Z"
   },
   {
    "duration": 29,
    "start_time": "2024-05-28T19:48:06.058Z"
   },
   {
    "duration": 37,
    "start_time": "2024-05-28T19:48:06.088Z"
   },
   {
    "duration": 51,
    "start_time": "2024-05-28T19:48:06.127Z"
   },
   {
    "duration": 44,
    "start_time": "2024-05-28T19:48:06.179Z"
   },
   {
    "duration": 13,
    "start_time": "2024-05-28T19:48:06.225Z"
   },
   {
    "duration": 22,
    "start_time": "2024-05-28T19:48:06.239Z"
   },
   {
    "duration": 16,
    "start_time": "2024-05-28T19:48:06.262Z"
   },
   {
    "duration": 9,
    "start_time": "2024-05-28T19:48:06.280Z"
   },
   {
    "duration": 926,
    "start_time": "2024-05-28T19:48:06.292Z"
   },
   {
    "duration": 0,
    "start_time": "2024-05-28T19:48:07.220Z"
   },
   {
    "duration": 0,
    "start_time": "2024-05-28T19:48:07.221Z"
   },
   {
    "duration": 0,
    "start_time": "2024-05-28T19:48:07.223Z"
   },
   {
    "duration": 0,
    "start_time": "2024-05-28T19:48:07.224Z"
   },
   {
    "duration": 0,
    "start_time": "2024-05-28T19:48:07.225Z"
   },
   {
    "duration": 0,
    "start_time": "2024-05-28T19:48:07.226Z"
   },
   {
    "duration": 0,
    "start_time": "2024-05-28T19:48:07.227Z"
   },
   {
    "duration": 3,
    "start_time": "2024-05-28T19:57:55.430Z"
   },
   {
    "duration": 6,
    "start_time": "2024-05-28T19:58:02.532Z"
   },
   {
    "duration": 5,
    "start_time": "2024-05-28T19:58:03.826Z"
   },
   {
    "duration": 6,
    "start_time": "2024-05-28T19:58:42.774Z"
   },
   {
    "duration": 4,
    "start_time": "2024-05-28T19:58:43.929Z"
   },
   {
    "duration": 4,
    "start_time": "2024-05-28T19:59:33.269Z"
   },
   {
    "duration": 4,
    "start_time": "2024-05-28T19:59:34.301Z"
   },
   {
    "duration": 6,
    "start_time": "2024-05-28T20:00:03.264Z"
   },
   {
    "duration": 5,
    "start_time": "2024-05-28T20:00:04.567Z"
   },
   {
    "duration": 5,
    "start_time": "2024-05-28T20:00:51.359Z"
   },
   {
    "duration": 4,
    "start_time": "2024-05-28T20:00:53.051Z"
   },
   {
    "duration": 7,
    "start_time": "2024-05-28T20:01:26.271Z"
   },
   {
    "duration": 4,
    "start_time": "2024-05-28T20:01:27.589Z"
   },
   {
    "duration": 5,
    "start_time": "2024-05-28T20:02:02.325Z"
   },
   {
    "duration": 3,
    "start_time": "2024-05-28T20:02:03.905Z"
   },
   {
    "duration": 3,
    "start_time": "2024-05-28T20:08:19.465Z"
   },
   {
    "duration": 20,
    "start_time": "2024-05-28T20:08:34.569Z"
   },
   {
    "duration": 4,
    "start_time": "2024-05-28T20:08:46.105Z"
   },
   {
    "duration": 26,
    "start_time": "2024-05-28T20:08:47.112Z"
   },
   {
    "duration": 4,
    "start_time": "2024-05-28T20:08:52.406Z"
   },
   {
    "duration": 9,
    "start_time": "2024-05-28T20:08:53.500Z"
   },
   {
    "duration": 6,
    "start_time": "2024-05-28T20:09:11.850Z"
   },
   {
    "duration": 10,
    "start_time": "2024-05-28T20:09:13.133Z"
   },
   {
    "duration": 4,
    "start_time": "2024-05-28T20:09:16.353Z"
   },
   {
    "duration": 8,
    "start_time": "2024-05-28T20:09:20.893Z"
   },
   {
    "duration": 4,
    "start_time": "2024-05-28T20:09:34.501Z"
   },
   {
    "duration": 7,
    "start_time": "2024-05-28T20:09:35.743Z"
   },
   {
    "duration": 4,
    "start_time": "2024-05-28T20:09:52.665Z"
   },
   {
    "duration": 7,
    "start_time": "2024-05-28T20:09:53.883Z"
   },
   {
    "duration": 4,
    "start_time": "2024-05-28T20:09:56.121Z"
   },
   {
    "duration": 9,
    "start_time": "2024-05-28T20:09:57.669Z"
   },
   {
    "duration": 8,
    "start_time": "2024-05-28T20:10:29.007Z"
   },
   {
    "duration": 7,
    "start_time": "2024-05-28T20:10:37.020Z"
   },
   {
    "duration": 9,
    "start_time": "2024-05-28T20:11:02.394Z"
   },
   {
    "duration": 8,
    "start_time": "2024-05-28T20:11:23.638Z"
   },
   {
    "duration": 12,
    "start_time": "2024-05-28T20:11:51.183Z"
   },
   {
    "duration": 9,
    "start_time": "2024-05-28T20:12:14.168Z"
   },
   {
    "duration": 7,
    "start_time": "2024-05-28T20:12:41.626Z"
   },
   {
    "duration": 9,
    "start_time": "2024-05-28T20:12:46.013Z"
   },
   {
    "duration": 13,
    "start_time": "2024-05-28T20:12:49.776Z"
   },
   {
    "duration": 7,
    "start_time": "2024-05-28T20:13:09.909Z"
   },
   {
    "duration": 10,
    "start_time": "2024-05-28T20:13:15.164Z"
   },
   {
    "duration": 12,
    "start_time": "2024-05-28T20:17:12.159Z"
   },
   {
    "duration": 8,
    "start_time": "2024-05-28T20:17:34.525Z"
   },
   {
    "duration": 12,
    "start_time": "2024-05-28T20:17:50.952Z"
   },
   {
    "duration": 12,
    "start_time": "2024-05-28T20:18:10.547Z"
   },
   {
    "duration": 7,
    "start_time": "2024-05-28T20:19:36.307Z"
   },
   {
    "duration": 7,
    "start_time": "2024-05-28T20:19:54.897Z"
   },
   {
    "duration": 7,
    "start_time": "2024-05-28T20:20:06.905Z"
   },
   {
    "duration": 6,
    "start_time": "2024-05-28T20:20:11.817Z"
   },
   {
    "duration": 11,
    "start_time": "2024-05-28T20:21:12.447Z"
   },
   {
    "duration": 7,
    "start_time": "2024-05-28T20:21:17.812Z"
   },
   {
    "duration": 11,
    "start_time": "2024-05-28T20:21:36.060Z"
   },
   {
    "duration": 7,
    "start_time": "2024-05-28T20:22:08.735Z"
   },
   {
    "duration": 7,
    "start_time": "2024-05-28T20:23:29.424Z"
   },
   {
    "duration": 8,
    "start_time": "2024-05-28T20:25:29.897Z"
   },
   {
    "duration": 9,
    "start_time": "2024-05-28T20:27:43.176Z"
   },
   {
    "duration": 7,
    "start_time": "2024-05-28T20:28:17.797Z"
   },
   {
    "duration": 9,
    "start_time": "2024-05-28T20:28:36.132Z"
   },
   {
    "duration": 9,
    "start_time": "2024-05-28T20:28:53.944Z"
   },
   {
    "duration": 8,
    "start_time": "2024-05-28T20:29:20.167Z"
   },
   {
    "duration": 7,
    "start_time": "2024-05-28T20:29:26.404Z"
   },
   {
    "duration": 7,
    "start_time": "2024-05-28T20:29:30.241Z"
   },
   {
    "duration": 8,
    "start_time": "2024-05-28T20:29:54.525Z"
   },
   {
    "duration": 7,
    "start_time": "2024-05-28T20:30:17.099Z"
   },
   {
    "duration": 11,
    "start_time": "2024-05-28T20:31:09.876Z"
   },
   {
    "duration": 9,
    "start_time": "2024-05-28T20:31:37.767Z"
   },
   {
    "duration": 8,
    "start_time": "2024-05-28T20:31:52.368Z"
   },
   {
    "duration": 13,
    "start_time": "2024-05-28T20:31:55.117Z"
   },
   {
    "duration": 7,
    "start_time": "2024-05-28T20:31:59.386Z"
   },
   {
    "duration": 1296,
    "start_time": "2024-05-28T22:41:15.790Z"
   },
   {
    "duration": 57,
    "start_time": "2024-05-28T22:41:17.088Z"
   },
   {
    "duration": 14,
    "start_time": "2024-05-28T22:41:17.146Z"
   },
   {
    "duration": 5,
    "start_time": "2024-05-28T22:41:17.170Z"
   },
   {
    "duration": 25,
    "start_time": "2024-05-28T22:41:17.177Z"
   },
   {
    "duration": 6,
    "start_time": "2024-05-28T22:41:17.204Z"
   },
   {
    "duration": 9,
    "start_time": "2024-05-28T22:41:17.211Z"
   },
   {
    "duration": 41,
    "start_time": "2024-05-28T22:41:17.222Z"
   },
   {
    "duration": 6,
    "start_time": "2024-05-28T22:41:17.265Z"
   },
   {
    "duration": 3,
    "start_time": "2024-05-28T22:41:17.273Z"
   },
   {
    "duration": 23,
    "start_time": "2024-05-28T22:41:17.277Z"
   },
   {
    "duration": 5,
    "start_time": "2024-05-28T22:41:17.301Z"
   },
   {
    "duration": 665,
    "start_time": "2024-05-28T22:41:17.308Z"
   },
   {
    "duration": 3,
    "start_time": "2024-05-28T22:41:17.975Z"
   },
   {
    "duration": 4,
    "start_time": "2024-05-28T22:41:17.979Z"
   },
   {
    "duration": 7,
    "start_time": "2024-05-28T22:41:17.984Z"
   },
   {
    "duration": 6,
    "start_time": "2024-05-28T22:41:17.992Z"
   },
   {
    "duration": 368,
    "start_time": "2024-05-28T22:41:18.000Z"
   },
   {
    "duration": 309,
    "start_time": "2024-05-28T22:41:18.370Z"
   },
   {
    "duration": 7,
    "start_time": "2024-05-28T22:41:18.680Z"
   },
   {
    "duration": 3,
    "start_time": "2024-05-28T22:41:18.688Z"
   },
   {
    "duration": 239,
    "start_time": "2024-05-28T22:41:18.692Z"
   },
   {
    "duration": 232,
    "start_time": "2024-05-28T22:41:18.934Z"
   },
   {
    "duration": 196,
    "start_time": "2024-05-28T22:41:19.172Z"
   },
   {
    "duration": 257,
    "start_time": "2024-05-28T22:41:19.370Z"
   },
   {
    "duration": 196,
    "start_time": "2024-05-28T22:41:19.629Z"
   },
   {
    "duration": 65,
    "start_time": "2024-05-28T22:41:19.827Z"
   },
   {
    "duration": 38,
    "start_time": "2024-05-28T22:41:19.896Z"
   },
   {
    "duration": 56,
    "start_time": "2024-05-28T22:41:19.935Z"
   },
   {
    "duration": 75,
    "start_time": "2024-05-28T22:41:19.993Z"
   },
   {
    "duration": 40,
    "start_time": "2024-05-28T22:41:20.069Z"
   },
   {
    "duration": 16,
    "start_time": "2024-05-28T22:41:20.111Z"
   },
   {
    "duration": 18,
    "start_time": "2024-05-28T22:41:20.128Z"
   },
   {
    "duration": 122,
    "start_time": "2024-05-28T22:41:20.147Z"
   },
   {
    "duration": 108,
    "start_time": "2024-05-28T22:41:20.271Z"
   },
   {
    "duration": 94,
    "start_time": "2024-05-28T22:41:20.381Z"
   },
   {
    "duration": 132,
    "start_time": "2024-05-28T22:41:20.477Z"
   },
   {
    "duration": 221,
    "start_time": "2024-05-28T22:41:20.611Z"
   },
   {
    "duration": 130,
    "start_time": "2024-05-28T22:41:20.833Z"
   },
   {
    "duration": 154,
    "start_time": "2024-05-28T22:41:20.965Z"
   },
   {
    "duration": 149,
    "start_time": "2024-05-28T22:41:21.121Z"
   },
   {
    "duration": 118,
    "start_time": "2024-05-28T22:41:21.272Z"
   },
   {
    "duration": 137,
    "start_time": "2024-05-28T22:41:21.392Z"
   },
   {
    "duration": 23,
    "start_time": "2024-05-28T22:41:21.532Z"
   },
   {
    "duration": 30,
    "start_time": "2024-05-28T22:41:21.558Z"
   },
   {
    "duration": 19,
    "start_time": "2024-05-28T22:41:21.591Z"
   },
   {
    "duration": 18,
    "start_time": "2024-05-28T22:41:21.612Z"
   },
   {
    "duration": 5,
    "start_time": "2024-05-28T22:41:21.632Z"
   },
   {
    "duration": 16,
    "start_time": "2024-05-28T22:41:21.638Z"
   },
   {
    "duration": 2,
    "start_time": "2024-05-28T22:41:21.656Z"
   },
   {
    "duration": 8,
    "start_time": "2024-05-28T22:41:21.660Z"
   },
   {
    "duration": 12,
    "start_time": "2024-05-28T22:41:21.670Z"
   },
   {
    "duration": 9,
    "start_time": "2024-05-28T22:41:21.683Z"
   },
   {
    "duration": 1170,
    "start_time": "2024-05-29T13:40:00.937Z"
   },
   {
    "duration": 52,
    "start_time": "2024-05-29T13:40:02.109Z"
   },
   {
    "duration": 2,
    "start_time": "2024-05-29T13:40:02.163Z"
   },
   {
    "duration": 6,
    "start_time": "2024-05-29T13:40:02.167Z"
   },
   {
    "duration": 21,
    "start_time": "2024-05-29T13:40:02.174Z"
   },
   {
    "duration": 6,
    "start_time": "2024-05-29T13:40:02.196Z"
   },
   {
    "duration": 4,
    "start_time": "2024-05-29T13:40:02.203Z"
   },
   {
    "duration": 27,
    "start_time": "2024-05-29T13:40:02.209Z"
   },
   {
    "duration": 5,
    "start_time": "2024-05-29T13:40:02.237Z"
   },
   {
    "duration": 2,
    "start_time": "2024-05-29T13:40:02.244Z"
   },
   {
    "duration": 16,
    "start_time": "2024-05-29T13:40:02.247Z"
   },
   {
    "duration": 5,
    "start_time": "2024-05-29T13:40:02.264Z"
   },
   {
    "duration": 677,
    "start_time": "2024-05-29T13:40:02.270Z"
   },
   {
    "duration": 2,
    "start_time": "2024-05-29T13:40:02.949Z"
   },
   {
    "duration": 7,
    "start_time": "2024-05-29T13:40:02.952Z"
   },
   {
    "duration": 54,
    "start_time": "2024-05-29T13:40:02.961Z"
   },
   {
    "duration": 3,
    "start_time": "2024-05-29T13:40:03.017Z"
   },
   {
    "duration": 219,
    "start_time": "2024-05-29T13:40:03.021Z"
   },
   {
    "duration": 247,
    "start_time": "2024-05-29T13:40:03.242Z"
   },
   {
    "duration": 5,
    "start_time": "2024-05-29T13:40:03.491Z"
   },
   {
    "duration": 18,
    "start_time": "2024-05-29T13:40:03.498Z"
   },
   {
    "duration": 205,
    "start_time": "2024-05-29T13:40:03.518Z"
   },
   {
    "duration": 213,
    "start_time": "2024-05-29T13:40:03.724Z"
   },
   {
    "duration": 157,
    "start_time": "2024-05-29T13:40:03.938Z"
   },
   {
    "duration": 159,
    "start_time": "2024-05-29T13:40:04.096Z"
   },
   {
    "duration": 209,
    "start_time": "2024-05-29T13:40:04.257Z"
   },
   {
    "duration": 55,
    "start_time": "2024-05-29T13:40:04.467Z"
   },
   {
    "duration": 36,
    "start_time": "2024-05-29T13:40:04.527Z"
   },
   {
    "duration": 54,
    "start_time": "2024-05-29T13:40:04.565Z"
   },
   {
    "duration": 35,
    "start_time": "2024-05-29T13:40:04.621Z"
   },
   {
    "duration": 56,
    "start_time": "2024-05-29T13:40:04.658Z"
   },
   {
    "duration": 5,
    "start_time": "2024-05-29T13:40:04.716Z"
   },
   {
    "duration": 4,
    "start_time": "2024-05-29T13:40:04.723Z"
   },
   {
    "duration": 113,
    "start_time": "2024-05-29T13:40:04.728Z"
   },
   {
    "duration": 96,
    "start_time": "2024-05-29T13:40:04.843Z"
   },
   {
    "duration": 103,
    "start_time": "2024-05-29T13:40:04.940Z"
   },
   {
    "duration": 117,
    "start_time": "2024-05-29T13:40:05.045Z"
   },
   {
    "duration": 101,
    "start_time": "2024-05-29T13:40:05.164Z"
   },
   {
    "duration": 161,
    "start_time": "2024-05-29T13:40:05.267Z"
   },
   {
    "duration": 124,
    "start_time": "2024-05-29T13:40:05.429Z"
   },
   {
    "duration": 135,
    "start_time": "2024-05-29T13:40:05.554Z"
   },
   {
    "duration": 109,
    "start_time": "2024-05-29T13:40:05.690Z"
   },
   {
    "duration": 98,
    "start_time": "2024-05-29T13:40:05.801Z"
   },
   {
    "duration": 11,
    "start_time": "2024-05-29T13:40:05.912Z"
   },
   {
    "duration": 11,
    "start_time": "2024-05-29T13:40:05.924Z"
   },
   {
    "duration": 10,
    "start_time": "2024-05-29T13:40:05.937Z"
   },
   {
    "duration": 11,
    "start_time": "2024-05-29T13:40:05.949Z"
   },
   {
    "duration": 3,
    "start_time": "2024-05-29T13:40:05.962Z"
   },
   {
    "duration": 8,
    "start_time": "2024-05-29T13:40:05.966Z"
   },
   {
    "duration": 37,
    "start_time": "2024-05-29T13:40:05.975Z"
   },
   {
    "duration": 14,
    "start_time": "2024-05-29T13:40:06.013Z"
   },
   {
    "duration": 18,
    "start_time": "2024-05-29T13:40:06.029Z"
   },
   {
    "duration": 8,
    "start_time": "2024-05-29T13:40:06.048Z"
   }
  ],
  "kernelspec": {
   "display_name": "Python 3 (ipykernel)",
   "language": "python",
   "name": "python3"
  },
  "language_info": {
   "codemirror_mode": {
    "name": "ipython",
    "version": 3
   },
   "file_extension": ".py",
   "mimetype": "text/x-python",
   "name": "python",
   "nbconvert_exporter": "python",
   "pygments_lexer": "ipython3",
   "version": "3.9.12"
  },
  "toc": {
   "base_numbering": 1,
   "nav_menu": {},
   "number_sections": true,
   "sideBar": true,
   "skip_h1_title": true,
   "title_cell": "Table of Contents",
   "title_sidebar": "Contents",
   "toc_cell": false,
   "toc_position": {},
   "toc_section_display": true,
   "toc_window_display": false
  }
 },
 "nbformat": 4,
 "nbformat_minor": 2
}
